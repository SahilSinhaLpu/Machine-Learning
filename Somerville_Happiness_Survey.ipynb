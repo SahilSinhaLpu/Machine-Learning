{
 "cells": [
  {
   "cell_type": "markdown",
   "metadata": {
    "colab_type": "text",
    "id": "view-in-github"
   },
   "source": [
    "<a href=\"https://colab.research.google.com/github/SahilSinhaLpu/Machine-Learning/blob/master/Somerville_Happiness_Survey.ipynb\" target=\"_parent\"><img src=\"https://colab.research.google.com/assets/colab-badge.svg\" alt=\"Open In Colab\"/></a>"
   ]
  },
  {
   "cell_type": "markdown",
   "metadata": {
    "colab_type": "text",
    "id": "JahNbtbskjsD"
   },
   "source": [
    "<h1>Somerville Happiness Survey</h1>\n",
    "\n",
    "![Happiness Survey Image](https://encrypted-tbn0.gstatic.com/images?q=tbn:ANd9GcR8KC9DZjrDTXke8wKlLaFZK3OyaminSWtE9Zh8Pvq173GCiojz)\n"
   ]
  },
  {
   "cell_type": "markdown",
   "metadata": {
    "colab_type": "text",
    "id": "E4TVMWkTl-eE"
   },
   "source": [
    "1.   <b>Importing Libraries</b>\n",
    "\n",
    "---\n",
    "\n",
    "\n",
    "\n"
   ]
  },
  {
   "cell_type": "code",
   "execution_count": 136,
   "metadata": {
    "colab": {},
    "colab_type": "code",
    "id": "6XDz2UC7ZWT0"
   },
   "outputs": [],
   "source": [
    "import numpy as np\n",
    "import pandas as pd\n",
    "from sklearn.model_selection import train_test_split\n",
    "from sklearn.metrics import accuracy_score\n",
    "import matplotlib.pyplot as plt\n",
    "import seaborn as sns\n",
    "import warnings\n",
    "warnings.filterwarnings(\"ignore\")"
   ]
  },
  {
   "cell_type": "markdown",
   "metadata": {
    "colab_type": "text",
    "id": "ubcKEgI3mKcA"
   },
   "source": [
    "---\n",
    "2.   <b>Reading Data</b>\n",
    "\n",
    "\n",
    "---\n",
    "\n",
    "\n"
   ]
  },
  {
   "cell_type": "code",
   "execution_count": 96,
   "metadata": {
    "colab": {
     "base_uri": "https://localhost:8080/",
     "height": 347
    },
    "colab_type": "code",
    "id": "l1SmsA5QZst1",
    "outputId": "a40898a4-f135-434d-e7fa-eca7bc7ca99e"
   },
   "outputs": [
    {
     "data": {
      "text/html": [
       "<div>\n",
       "<style scoped>\n",
       "    .dataframe tbody tr th:only-of-type {\n",
       "        vertical-align: middle;\n",
       "    }\n",
       "\n",
       "    .dataframe tbody tr th {\n",
       "        vertical-align: top;\n",
       "    }\n",
       "\n",
       "    .dataframe thead th {\n",
       "        text-align: right;\n",
       "    }\n",
       "</style>\n",
       "<table border=\"1\" class=\"dataframe\">\n",
       "  <thead>\n",
       "    <tr style=\"text-align: right;\">\n",
       "      <th></th>\n",
       "      <th>D</th>\n",
       "      <th>X1</th>\n",
       "      <th>X2</th>\n",
       "      <th>X3</th>\n",
       "      <th>X4</th>\n",
       "      <th>X5</th>\n",
       "      <th>X6</th>\n",
       "    </tr>\n",
       "  </thead>\n",
       "  <tbody>\n",
       "    <tr>\n",
       "      <th>0</th>\n",
       "      <td>0</td>\n",
       "      <td>3</td>\n",
       "      <td>3</td>\n",
       "      <td>3</td>\n",
       "      <td>4</td>\n",
       "      <td>2</td>\n",
       "      <td>4</td>\n",
       "    </tr>\n",
       "    <tr>\n",
       "      <th>1</th>\n",
       "      <td>0</td>\n",
       "      <td>3</td>\n",
       "      <td>2</td>\n",
       "      <td>3</td>\n",
       "      <td>5</td>\n",
       "      <td>4</td>\n",
       "      <td>3</td>\n",
       "    </tr>\n",
       "    <tr>\n",
       "      <th>2</th>\n",
       "      <td>1</td>\n",
       "      <td>5</td>\n",
       "      <td>3</td>\n",
       "      <td>3</td>\n",
       "      <td>3</td>\n",
       "      <td>3</td>\n",
       "      <td>5</td>\n",
       "    </tr>\n",
       "    <tr>\n",
       "      <th>3</th>\n",
       "      <td>0</td>\n",
       "      <td>5</td>\n",
       "      <td>4</td>\n",
       "      <td>3</td>\n",
       "      <td>3</td>\n",
       "      <td>3</td>\n",
       "      <td>5</td>\n",
       "    </tr>\n",
       "    <tr>\n",
       "      <th>4</th>\n",
       "      <td>0</td>\n",
       "      <td>5</td>\n",
       "      <td>4</td>\n",
       "      <td>3</td>\n",
       "      <td>3</td>\n",
       "      <td>3</td>\n",
       "      <td>5</td>\n",
       "    </tr>\n",
       "    <tr>\n",
       "      <th>5</th>\n",
       "      <td>1</td>\n",
       "      <td>5</td>\n",
       "      <td>5</td>\n",
       "      <td>3</td>\n",
       "      <td>5</td>\n",
       "      <td>5</td>\n",
       "      <td>5</td>\n",
       "    </tr>\n",
       "    <tr>\n",
       "      <th>6</th>\n",
       "      <td>0</td>\n",
       "      <td>3</td>\n",
       "      <td>1</td>\n",
       "      <td>2</td>\n",
       "      <td>2</td>\n",
       "      <td>1</td>\n",
       "      <td>3</td>\n",
       "    </tr>\n",
       "    <tr>\n",
       "      <th>7</th>\n",
       "      <td>1</td>\n",
       "      <td>5</td>\n",
       "      <td>4</td>\n",
       "      <td>4</td>\n",
       "      <td>4</td>\n",
       "      <td>4</td>\n",
       "      <td>5</td>\n",
       "    </tr>\n",
       "    <tr>\n",
       "      <th>8</th>\n",
       "      <td>0</td>\n",
       "      <td>4</td>\n",
       "      <td>1</td>\n",
       "      <td>4</td>\n",
       "      <td>4</td>\n",
       "      <td>4</td>\n",
       "      <td>4</td>\n",
       "    </tr>\n",
       "    <tr>\n",
       "      <th>9</th>\n",
       "      <td>0</td>\n",
       "      <td>4</td>\n",
       "      <td>4</td>\n",
       "      <td>4</td>\n",
       "      <td>2</td>\n",
       "      <td>5</td>\n",
       "      <td>5</td>\n",
       "    </tr>\n",
       "  </tbody>\n",
       "</table>\n",
       "</div>"
      ],
      "text/plain": [
       "   D  X1  X2  X3  X4  X5  X6\n",
       "0  0   3   3   3   4   2   4\n",
       "1  0   3   2   3   5   4   3\n",
       "2  1   5   3   3   3   3   5\n",
       "3  0   5   4   3   3   3   5\n",
       "4  0   5   4   3   3   3   5\n",
       "5  1   5   5   3   5   5   5\n",
       "6  0   3   1   2   2   1   3\n",
       "7  1   5   4   4   4   4   5\n",
       "8  0   4   1   4   4   4   4\n",
       "9  0   4   4   4   2   5   5"
      ]
     },
     "execution_count": 96,
     "metadata": {},
     "output_type": "execute_result"
    }
   ],
   "source": [
    "data= pd.read_csv(\"https://raw.githubusercontent.com/SahilSinhaLpu/Machine-Learning/master/Datasets/SomvervilleHappines.csv\")\n",
    "data.head(10)"
   ]
  },
  {
   "cell_type": "code",
   "execution_count": 98,
   "metadata": {},
   "outputs": [
    {
     "data": {
      "text/plain": [
       "(143, 7)"
      ]
     },
     "execution_count": 98,
     "metadata": {},
     "output_type": "execute_result"
    }
   ],
   "source": [
    "data.shape"
   ]
  },
  {
   "cell_type": "markdown",
   "metadata": {
    "colab_type": "text",
    "id": "nRCKgjsbm5IN"
   },
   "source": [
    "3.   <b>Data representation and Analysis</b>\n",
    "\n",
    "\n",
    "---\n",
    "\n",
    "\n",
    "\n"
   ]
  },
  {
   "cell_type": "markdown",
   "metadata": {},
   "source": [
    "<h5> The data has 7 Columns and 143 records </h5>\n",
    "<p> The data contains details about people from Somerville and prediction that if the person is happy or not.</p>\n",
    "<p> The features in data set is mentioned as follows: </p>\n",
    "<ul>\n",
    "    <li>D = decision attribute (D) with values 0 (unhappy) and 1 (happy) </li>\n",
    "    <li>X1 = the availability of information about the city services </li>\n",
    "    <li>X2 = the cost of housing </li>\n",
    "    <li>X3 = the overall quality of public schools </li>\n",
    "    <li>X4 = your trust in the local police </li>\n",
    "    <li>X5 = the maintenance of streets and sidewalks </li>\n",
    "    <li>X6 = the availability of social community events </li>"
   ]
  },
  {
   "cell_type": "markdown",
   "metadata": {},
   "source": [
    "<h5> Description of Data</h5>"
   ]
  },
  {
   "cell_type": "code",
   "execution_count": 100,
   "metadata": {
    "colab": {},
    "colab_type": "code",
    "id": "Lpukep7Yi4ok"
   },
   "outputs": [
    {
     "data": {
      "text/html": [
       "<div>\n",
       "<style scoped>\n",
       "    .dataframe tbody tr th:only-of-type {\n",
       "        vertical-align: middle;\n",
       "    }\n",
       "\n",
       "    .dataframe tbody tr th {\n",
       "        vertical-align: top;\n",
       "    }\n",
       "\n",
       "    .dataframe thead th {\n",
       "        text-align: right;\n",
       "    }\n",
       "</style>\n",
       "<table border=\"1\" class=\"dataframe\">\n",
       "  <thead>\n",
       "    <tr style=\"text-align: right;\">\n",
       "      <th></th>\n",
       "      <th>D</th>\n",
       "      <th>X1</th>\n",
       "      <th>X2</th>\n",
       "      <th>X3</th>\n",
       "      <th>X4</th>\n",
       "      <th>X5</th>\n",
       "      <th>X6</th>\n",
       "    </tr>\n",
       "  </thead>\n",
       "  <tbody>\n",
       "    <tr>\n",
       "      <th>count</th>\n",
       "      <td>143.000000</td>\n",
       "      <td>143.000000</td>\n",
       "      <td>143.000000</td>\n",
       "      <td>143.000000</td>\n",
       "      <td>143.000000</td>\n",
       "      <td>143.000000</td>\n",
       "      <td>143.000000</td>\n",
       "    </tr>\n",
       "    <tr>\n",
       "      <th>mean</th>\n",
       "      <td>0.538462</td>\n",
       "      <td>4.314685</td>\n",
       "      <td>2.538462</td>\n",
       "      <td>3.265734</td>\n",
       "      <td>3.699301</td>\n",
       "      <td>3.615385</td>\n",
       "      <td>4.216783</td>\n",
       "    </tr>\n",
       "    <tr>\n",
       "      <th>std</th>\n",
       "      <td>0.500271</td>\n",
       "      <td>0.799820</td>\n",
       "      <td>1.118155</td>\n",
       "      <td>0.992586</td>\n",
       "      <td>0.888383</td>\n",
       "      <td>1.131639</td>\n",
       "      <td>0.848693</td>\n",
       "    </tr>\n",
       "    <tr>\n",
       "      <th>min</th>\n",
       "      <td>0.000000</td>\n",
       "      <td>1.000000</td>\n",
       "      <td>1.000000</td>\n",
       "      <td>1.000000</td>\n",
       "      <td>1.000000</td>\n",
       "      <td>1.000000</td>\n",
       "      <td>1.000000</td>\n",
       "    </tr>\n",
       "    <tr>\n",
       "      <th>25%</th>\n",
       "      <td>0.000000</td>\n",
       "      <td>4.000000</td>\n",
       "      <td>2.000000</td>\n",
       "      <td>3.000000</td>\n",
       "      <td>3.000000</td>\n",
       "      <td>3.000000</td>\n",
       "      <td>4.000000</td>\n",
       "    </tr>\n",
       "    <tr>\n",
       "      <th>50%</th>\n",
       "      <td>1.000000</td>\n",
       "      <td>5.000000</td>\n",
       "      <td>3.000000</td>\n",
       "      <td>3.000000</td>\n",
       "      <td>4.000000</td>\n",
       "      <td>4.000000</td>\n",
       "      <td>4.000000</td>\n",
       "    </tr>\n",
       "    <tr>\n",
       "      <th>75%</th>\n",
       "      <td>1.000000</td>\n",
       "      <td>5.000000</td>\n",
       "      <td>3.000000</td>\n",
       "      <td>4.000000</td>\n",
       "      <td>4.000000</td>\n",
       "      <td>4.000000</td>\n",
       "      <td>5.000000</td>\n",
       "    </tr>\n",
       "    <tr>\n",
       "      <th>max</th>\n",
       "      <td>1.000000</td>\n",
       "      <td>5.000000</td>\n",
       "      <td>5.000000</td>\n",
       "      <td>5.000000</td>\n",
       "      <td>5.000000</td>\n",
       "      <td>5.000000</td>\n",
       "      <td>5.000000</td>\n",
       "    </tr>\n",
       "  </tbody>\n",
       "</table>\n",
       "</div>"
      ],
      "text/plain": [
       "                D          X1          X2          X3          X4          X5  \\\n",
       "count  143.000000  143.000000  143.000000  143.000000  143.000000  143.000000   \n",
       "mean     0.538462    4.314685    2.538462    3.265734    3.699301    3.615385   \n",
       "std      0.500271    0.799820    1.118155    0.992586    0.888383    1.131639   \n",
       "min      0.000000    1.000000    1.000000    1.000000    1.000000    1.000000   \n",
       "25%      0.000000    4.000000    2.000000    3.000000    3.000000    3.000000   \n",
       "50%      1.000000    5.000000    3.000000    3.000000    4.000000    4.000000   \n",
       "75%      1.000000    5.000000    3.000000    4.000000    4.000000    4.000000   \n",
       "max      1.000000    5.000000    5.000000    5.000000    5.000000    5.000000   \n",
       "\n",
       "               X6  \n",
       "count  143.000000  \n",
       "mean     4.216783  \n",
       "std      0.848693  \n",
       "min      1.000000  \n",
       "25%      4.000000  \n",
       "50%      4.000000  \n",
       "75%      5.000000  \n",
       "max      5.000000  "
      ]
     },
     "execution_count": 100,
     "metadata": {},
     "output_type": "execute_result"
    }
   ],
   "source": [
    "data.describe(include=\"all\")"
   ]
  },
  {
   "cell_type": "markdown",
   "metadata": {},
   "source": [
    "<h5>Visualizing Data</h5>"
   ]
  },
  {
   "cell_type": "code",
   "execution_count": 121,
   "metadata": {},
   "outputs": [
    {
     "data": {
      "text/plain": [
       "array([<matplotlib.axes._subplots.AxesSubplot object at 0x000000000B5A62E8>],\n",
       "      dtype=object)"
      ]
     },
     "execution_count": 121,
     "metadata": {},
     "output_type": "execute_result"
    },
    {
     "data": {
      "image/png": "[encoded data removed]",
      "text/plain": [
       "<Figure size 288x288 with 1 Axes>"
      ]
     },
     "metadata": {},
     "output_type": "display_data"
    }
   ],
   "source": [
    "happy= data.loc[data['D'] ==1]\n",
    "unhappy= data.loc[data['D']==0]\n",
    "happy= happy.iloc[:, :1]\n",
    "happy= happy.sum()\n",
    "unhappy= X.shape[0]- happy\n",
    "p = [happy, unhappy]\n",
    "plt_data = pd.DataFrame(p)\n",
    "plt_data.plot(kind='pie', subplots=True, labels=['Happy', 'Unhappy'],figsize=(4,4))"
   ]
  },
  {
   "cell_type": "markdown",
   "metadata": {},
   "source": [
    "<h5>Count of data according to the different Types</h5>"
   ]
  },
  {
   "cell_type": "code",
   "execution_count": 167,
   "metadata": {},
   "outputs": [
    {
     "data": {
      "text/plain": [
       "<matplotlib.axes._subplots.AxesSubplot at 0x1029a240>"
      ]
     },
     "execution_count": 167,
     "metadata": {},
     "output_type": "execute_result"
    },
    {
     "data": {
      "image/png": "[encoded data removed]",
      "text/plain": [
       "<Figure size 1080x1080 with 6 Axes>"
      ]
     },
     "metadata": {
      "needs_background": "light"
     },
     "output_type": "display_data"
    }
   ],
   "source": [
    "X1= data.iloc[:, 1]\n",
    "X2= data.iloc[:, 2]\n",
    "X3= data.iloc[:, 3]\n",
    "X4= data.iloc[:, 4]\n",
    "X5= data.iloc[:, 5]\n",
    "X6= data.iloc[:, 6]\n",
    "plt.figure(figsize =(15,15))\n",
    "plt.subplot(321)\n",
    "sns.countplot(X1)\n",
    "plt.subplot(322)\n",
    "sns.countplot(X2)\n",
    "plt.subplot(323)\n",
    "sns.countplot(X3)\n",
    "plt.subplot(324)\n",
    "sns.countplot(X4)\n",
    "plt.subplot(325)\n",
    "sns.countplot(X5)\n",
    "plt.subplot(326)\n",
    "sns.countplot(X6)"
   ]
  },
  {
   "cell_type": "markdown",
   "metadata": {
    "colab_type": "text",
    "id": "M520R200nMwd"
   },
   "source": [
    "4.   <b>Applying Algorithms</b>\n",
    "\n",
    "\n",
    "---\n",
    "\n",
    "\n",
    "\n"
   ]
  },
  {
   "cell_type": "markdown",
   "metadata": {
    "colab_type": "text",
    "id": "G1tNHWRynWgj"
   },
   "source": [
    "\n",
    "\n",
    ">>The given dataset and problem is based upon **Binary Classification**, and we need to predict if >a person is happy or not based upon the features in the data set\n",
    "\n",
    "\n",
    "\n",
    "\n",
    "A. **Multilayer Perceptron**   \n",
    "\n"
   ]
  },
  {
   "cell_type": "code",
   "execution_count": 45,
   "metadata": {
    "colab": {},
    "colab_type": "code",
    "id": "_dBkBucOni27"
   },
   "outputs": [],
   "source": [
    "from sklearn.neural_network import MLPClassifier"
   ]
  },
  {
   "cell_type": "code",
   "execution_count": 46,
   "metadata": {
    "colab": {},
    "colab_type": "code",
    "id": "if1dm2QDrfsR"
   },
   "outputs": [],
   "source": [
    "y= data.iloc[:,:1]\n",
    "X = data.iloc[:,1:]"
   ]
  },
  {
   "cell_type": "code",
   "execution_count": 47,
   "metadata": {
    "colab": {},
    "colab_type": "code",
    "id": "D-zuuGKapwgH"
   },
   "outputs": [],
   "source": [
    "X_train, X_test, y_train, y_test = train_test_split(X,y, test_size= 0.40, random_state= 42)"
   ]
  },
  {
   "cell_type": "code",
   "execution_count": 48,
   "metadata": {
    "colab": {},
    "colab_type": "code",
    "id": "XAS2fG6NrmNL"
   },
   "outputs": [],
   "source": [
    "mlp = MLPClassifier(hidden_layer_sizes=(100, 100), max_iter=400, alpha=1e-4, solver='sgd', verbose=10, tol=1e-4, random_state=1)"
   ]
  },
  {
   "cell_type": "code",
   "execution_count": 49,
   "metadata": {
    "colab": {
     "base_uri": "https://localhost:8080/",
     "height": 7112
    },
    "colab_type": "code",
    "id": "yeWVtzV8xQnL",
    "outputId": "56b21503-a100-49cf-9ad5-996d4ef93bda"
   },
   "outputs": [
    {
     "name": "stderr",
     "output_type": "stream",
     "text": [
      "G:\\anaconda\\lib\\site-packages\\sklearn\\neural_network\\multilayer_perceptron.py:916: DataConversionWarning: A column-vector y was passed when a 1d array was expected. Please change the shape of y to (n_samples, ), for example using ravel().\n",
      "  y = column_or_1d(y, warn=True)\n"
     ]
    },
    {
     "name": "stdout",
     "output_type": "stream",
     "text": [
      "Iteration 1, loss = 0.68483448\n",
      "Iteration 2, loss = 0.68473644\n",
      "Iteration 3, loss = 0.68459161\n",
      "Iteration 4, loss = 0.68439606\n",
      "Iteration 5, loss = 0.68416486\n",
      "Iteration 6, loss = 0.68389012\n",
      "Iteration 7, loss = 0.68357957\n",
      "Iteration 8, loss = 0.68325246\n",
      "Iteration 9, loss = 0.68291920\n",
      "Iteration 10, loss = 0.68255086\n",
      "Iteration 11, loss = 0.68217955\n",
      "Iteration 12, loss = 0.68178712\n",
      "Iteration 13, loss = 0.68136634\n",
      "Iteration 14, loss = 0.68094205\n",
      "Iteration 15, loss = 0.68051543\n",
      "Iteration 16, loss = 0.68006701\n",
      "Iteration 17, loss = 0.67959178\n",
      "Iteration 18, loss = 0.67913767\n",
      "Iteration 19, loss = 0.67868872\n",
      "Iteration 20, loss = 0.67823997\n",
      "Iteration 21, loss = 0.67779422\n",
      "Iteration 22, loss = 0.67735677\n",
      "Iteration 23, loss = 0.67693005\n",
      "Iteration 24, loss = 0.67650950\n",
      "Iteration 25, loss = 0.67608596\n",
      "Iteration 26, loss = 0.67565921\n",
      "Iteration 27, loss = 0.67521842\n",
      "Iteration 28, loss = 0.67479364\n",
      "Iteration 29, loss = 0.67437476\n",
      "Iteration 30, loss = 0.67394473\n",
      "Iteration 31, loss = 0.67353127\n",
      "Iteration 32, loss = 0.67310506\n",
      "Iteration 33, loss = 0.67266899\n",
      "Iteration 34, loss = 0.67223068\n",
      "Iteration 35, loss = 0.67178543\n",
      "Iteration 36, loss = 0.67133633\n",
      "Iteration 37, loss = 0.67091335\n",
      "Iteration 38, loss = 0.67052528\n",
      "Iteration 39, loss = 0.67015655\n",
      "Iteration 40, loss = 0.66981099\n",
      "Iteration 41, loss = 0.66947607\n",
      "Iteration 42, loss = 0.66914638\n",
      "Iteration 43, loss = 0.66882385\n",
      "Iteration 44, loss = 0.66850436\n",
      "Iteration 45, loss = 0.66818047\n",
      "Iteration 46, loss = 0.66786261\n",
      "Iteration 47, loss = 0.66755112\n",
      "Iteration 48, loss = 0.66724102\n",
      "Iteration 49, loss = 0.66693348\n",
      "Iteration 50, loss = 0.66663726\n",
      "Iteration 51, loss = 0.66634637\n",
      "Iteration 52, loss = 0.66605675\n",
      "Iteration 53, loss = 0.66576799\n",
      "Iteration 54, loss = 0.66548877\n",
      "Iteration 55, loss = 0.66521042\n",
      "Iteration 56, loss = 0.66493874\n",
      "Iteration 57, loss = 0.66466908\n",
      "Iteration 58, loss = 0.66440764\n",
      "Iteration 59, loss = 0.66415018\n",
      "Iteration 60, loss = 0.66391201\n",
      "Iteration 61, loss = 0.66368708\n",
      "Iteration 62, loss = 0.66346701\n",
      "Iteration 63, loss = 0.66324317\n",
      "Iteration 64, loss = 0.66301868\n",
      "Iteration 65, loss = 0.66279495\n",
      "Iteration 66, loss = 0.66257214\n",
      "Iteration 67, loss = 0.66234859\n",
      "Iteration 68, loss = 0.66213072\n",
      "Iteration 69, loss = 0.66191862\n",
      "Iteration 70, loss = 0.66170677\n",
      "Iteration 71, loss = 0.66149457\n",
      "Iteration 72, loss = 0.66128223\n",
      "Iteration 73, loss = 0.66106948\n",
      "Iteration 74, loss = 0.66085790\n",
      "Iteration 75, loss = 0.66065416\n",
      "Iteration 76, loss = 0.66045227\n",
      "Iteration 77, loss = 0.66025154\n",
      "Iteration 78, loss = 0.66005244\n",
      "Iteration 79, loss = 0.65985325\n",
      "Iteration 80, loss = 0.65965399\n",
      "Iteration 81, loss = 0.65945574\n",
      "Iteration 82, loss = 0.65925962\n",
      "Iteration 83, loss = 0.65906409\n",
      "Iteration 84, loss = 0.65887030\n",
      "Iteration 85, loss = 0.65867699\n",
      "Iteration 86, loss = 0.65848443\n",
      "Iteration 87, loss = 0.65829171\n",
      "Iteration 88, loss = 0.65810075\n",
      "Iteration 89, loss = 0.65791216\n",
      "Iteration 90, loss = 0.65772615\n",
      "Iteration 91, loss = 0.65754254\n",
      "Iteration 92, loss = 0.65736115\n",
      "Iteration 93, loss = 0.65717931\n",
      "Iteration 94, loss = 0.65699792\n",
      "Iteration 95, loss = 0.65681796\n",
      "Iteration 96, loss = 0.65663859\n",
      "Iteration 97, loss = 0.65645828\n",
      "Iteration 98, loss = 0.65627834\n",
      "Iteration 99, loss = 0.65609696\n",
      "Iteration 100, loss = 0.65591784\n",
      "Iteration 101, loss = 0.65574015\n",
      "Iteration 102, loss = 0.65556519\n",
      "Iteration 103, loss = 0.65539255\n",
      "Iteration 104, loss = 0.65522395\n",
      "Iteration 105, loss = 0.65505576\n",
      "Iteration 106, loss = 0.65488691\n",
      "Iteration 107, loss = 0.65471597\n",
      "Iteration 108, loss = 0.65454469\n",
      "Iteration 109, loss = 0.65437380\n",
      "Iteration 110, loss = 0.65420358\n",
      "Iteration 111, loss = 0.65403298\n",
      "Iteration 112, loss = 0.65386198\n",
      "Iteration 113, loss = 0.65369223\n",
      "Iteration 114, loss = 0.65352420\n",
      "Iteration 115, loss = 0.65335651\n",
      "Iteration 116, loss = 0.65318893\n",
      "Iteration 117, loss = 0.65302316\n",
      "Iteration 118, loss = 0.65285736\n",
      "Iteration 119, loss = 0.65269172\n",
      "Iteration 120, loss = 0.65252710\n",
      "Iteration 121, loss = 0.65236299\n",
      "Iteration 122, loss = 0.65220067\n",
      "Iteration 123, loss = 0.65203947\n",
      "Iteration 124, loss = 0.65187797\n",
      "Iteration 125, loss = 0.65171663\n",
      "Iteration 126, loss = 0.65155480\n",
      "Iteration 127, loss = 0.65139132\n",
      "Iteration 128, loss = 0.65122895\n",
      "Iteration 129, loss = 0.65106837\n",
      "Iteration 130, loss = 0.65090754\n",
      "Iteration 131, loss = 0.65074661\n",
      "Iteration 132, loss = 0.65058599\n",
      "Iteration 133, loss = 0.65042641\n",
      "Iteration 134, loss = 0.65026919\n",
      "Iteration 135, loss = 0.65011440\n",
      "Iteration 136, loss = 0.64995920\n",
      "Iteration 137, loss = 0.64980351\n",
      "Iteration 138, loss = 0.64964824\n",
      "Iteration 139, loss = 0.64949269\n",
      "Iteration 140, loss = 0.64933401\n",
      "Iteration 141, loss = 0.64917696\n",
      "Iteration 142, loss = 0.64901909\n",
      "Iteration 143, loss = 0.64886437\n",
      "Iteration 144, loss = 0.64871179\n",
      "Iteration 145, loss = 0.64856135\n",
      "Iteration 146, loss = 0.64841168\n",
      "Iteration 147, loss = 0.64826051\n",
      "Iteration 148, loss = 0.64810885\n",
      "Iteration 149, loss = 0.64795749\n",
      "Iteration 150, loss = 0.64780642\n",
      "Iteration 151, loss = 0.64765745\n",
      "Iteration 152, loss = 0.64750891\n",
      "Iteration 153, loss = 0.64736008\n",
      "Iteration 154, loss = 0.64721015\n",
      "Iteration 155, loss = 0.64706042\n",
      "Iteration 156, loss = 0.64690804\n",
      "Iteration 157, loss = 0.64675130\n",
      "Iteration 158, loss = 0.64659801\n",
      "Iteration 159, loss = 0.64644361\n",
      "Iteration 160, loss = 0.64629608\n",
      "Iteration 161, loss = 0.64615135\n",
      "Iteration 162, loss = 0.64600679\n",
      "Iteration 163, loss = 0.64586326\n",
      "Iteration 164, loss = 0.64571824\n",
      "Iteration 165, loss = 0.64557390\n",
      "Iteration 166, loss = 0.64543044\n",
      "Iteration 167, loss = 0.64529251\n",
      "Iteration 168, loss = 0.64515594\n",
      "Iteration 169, loss = 0.64501889\n",
      "Iteration 170, loss = 0.64487968\n",
      "Iteration 171, loss = 0.64474066\n",
      "Iteration 172, loss = 0.64460121\n",
      "Iteration 173, loss = 0.64446183\n",
      "Iteration 174, loss = 0.64432167\n",
      "Iteration 175, loss = 0.64418373\n",
      "Iteration 176, loss = 0.64404590\n",
      "Iteration 177, loss = 0.64390935\n",
      "Iteration 178, loss = 0.64377398\n",
      "Iteration 179, loss = 0.64363940\n",
      "Iteration 180, loss = 0.64350574\n",
      "Iteration 181, loss = 0.64337352\n",
      "Iteration 182, loss = 0.64324131\n",
      "Iteration 183, loss = 0.64310851\n",
      "Iteration 184, loss = 0.64297619\n",
      "Iteration 185, loss = 0.64284468\n",
      "Iteration 186, loss = 0.64271172\n",
      "Iteration 187, loss = 0.64257959\n",
      "Iteration 188, loss = 0.64244720\n",
      "Iteration 189, loss = 0.64231483\n",
      "Iteration 190, loss = 0.64218218\n",
      "Iteration 191, loss = 0.64204726\n",
      "Iteration 192, loss = 0.64190965\n",
      "Iteration 193, loss = 0.64177061\n",
      "Iteration 194, loss = 0.64163218\n",
      "Iteration 195, loss = 0.64149438\n",
      "Iteration 196, loss = 0.64135731\n",
      "Iteration 197, loss = 0.64122200\n",
      "Iteration 198, loss = 0.64108688\n",
      "Iteration 199, loss = 0.64095553\n",
      "Iteration 200, loss = 0.64082536\n",
      "Iteration 201, loss = 0.64069719\n",
      "Iteration 202, loss = 0.64056901\n",
      "Iteration 203, loss = 0.64043877\n",
      "Iteration 204, loss = 0.64030952\n",
      "Iteration 205, loss = 0.64018011\n",
      "Iteration 206, loss = 0.64005313\n",
      "Iteration 207, loss = 0.63992816\n",
      "Iteration 208, loss = 0.63980271\n",
      "Iteration 209, loss = 0.63967692\n",
      "Iteration 210, loss = 0.63955152\n",
      "Iteration 211, loss = 0.63942751\n",
      "Iteration 212, loss = 0.63930632\n",
      "Iteration 213, loss = 0.63918600\n",
      "Iteration 214, loss = 0.63906676\n",
      "Iteration 215, loss = 0.63894908\n",
      "Iteration 216, loss = 0.63883220\n",
      "Iteration 217, loss = 0.63871523\n",
      "Iteration 218, loss = 0.63859889\n",
      "Iteration 219, loss = 0.63848436\n",
      "Iteration 220, loss = 0.63836929\n",
      "Iteration 221, loss = 0.63825375\n",
      "Iteration 222, loss = 0.63813644\n",
      "Iteration 223, loss = 0.63801956\n",
      "Iteration 224, loss = 0.63790288\n",
      "Iteration 225, loss = 0.63778744\n",
      "Iteration 226, loss = 0.63767254\n",
      "Iteration 227, loss = 0.63755847\n",
      "Iteration 228, loss = 0.63744463\n",
      "Iteration 229, loss = 0.63733218\n",
      "Iteration 230, loss = 0.63722033\n",
      "Iteration 231, loss = 0.63710909\n",
      "Iteration 232, loss = 0.63699847\n",
      "Iteration 233, loss = 0.63688825\n",
      "Iteration 234, loss = 0.63677863\n",
      "Iteration 235, loss = 0.63666874\n",
      "Iteration 236, loss = 0.63655969\n",
      "Iteration 237, loss = 0.63645032\n",
      "Iteration 238, loss = 0.63634116\n",
      "Iteration 239, loss = 0.63623204\n",
      "Iteration 240, loss = 0.63612308\n",
      "Iteration 241, loss = 0.63601382\n",
      "Iteration 242, loss = 0.63590489\n",
      "Iteration 243, loss = 0.63579635\n",
      "Iteration 244, loss = 0.63568801\n",
      "Iteration 245, loss = 0.63557985\n",
      "Iteration 246, loss = 0.63547098\n",
      "Iteration 247, loss = 0.63536147\n",
      "Iteration 248, loss = 0.63525288\n",
      "Iteration 249, loss = 0.63514367\n",
      "Iteration 250, loss = 0.63503471\n",
      "Iteration 251, loss = 0.63492613\n",
      "Iteration 252, loss = 0.63481714\n",
      "Iteration 253, loss = 0.63470929\n",
      "Iteration 254, loss = 0.63460103\n",
      "Iteration 255, loss = 0.63449310\n",
      "Iteration 256, loss = 0.63438513\n",
      "Iteration 257, loss = 0.63427769\n",
      "Iteration 258, loss = 0.63417022\n",
      "Iteration 259, loss = 0.63406279\n",
      "Iteration 260, loss = 0.63395586\n",
      "Iteration 261, loss = 0.63384935\n",
      "Iteration 262, loss = 0.63374353\n"
     ]
    },
    {
     "name": "stdout",
     "output_type": "stream",
     "text": [
      "Iteration 263, loss = 0.63363748\n",
      "Iteration 264, loss = 0.63353139\n",
      "Iteration 265, loss = 0.63342581\n",
      "Iteration 266, loss = 0.63332041\n",
      "Iteration 267, loss = 0.63321521\n",
      "Iteration 268, loss = 0.63311061\n",
      "Iteration 269, loss = 0.63300581\n",
      "Iteration 270, loss = 0.63290125\n",
      "Iteration 271, loss = 0.63279733\n",
      "Iteration 272, loss = 0.63269332\n",
      "Iteration 273, loss = 0.63259039\n",
      "Iteration 274, loss = 0.63248690\n",
      "Iteration 275, loss = 0.63238384\n",
      "Iteration 276, loss = 0.63228096\n",
      "Iteration 277, loss = 0.63217834\n",
      "Iteration 278, loss = 0.63207576\n",
      "Iteration 279, loss = 0.63197329\n",
      "Iteration 280, loss = 0.63187163\n",
      "Iteration 281, loss = 0.63177026\n",
      "Iteration 282, loss = 0.63166856\n",
      "Iteration 283, loss = 0.63156730\n",
      "Iteration 284, loss = 0.63146588\n",
      "Iteration 285, loss = 0.63136368\n",
      "Iteration 286, loss = 0.63126142\n",
      "Iteration 287, loss = 0.63115922\n",
      "Iteration 288, loss = 0.63105726\n",
      "Iteration 289, loss = 0.63095482\n",
      "Iteration 290, loss = 0.63085183\n",
      "Iteration 291, loss = 0.63074866\n",
      "Iteration 292, loss = 0.63064526\n",
      "Iteration 293, loss = 0.63054156\n",
      "Iteration 294, loss = 0.63043786\n",
      "Iteration 295, loss = 0.63033518\n",
      "Iteration 296, loss = 0.63023068\n",
      "Iteration 297, loss = 0.63012604\n",
      "Iteration 298, loss = 0.63002124\n",
      "Iteration 299, loss = 0.62991621\n",
      "Iteration 300, loss = 0.62981227\n",
      "Iteration 301, loss = 0.62970866\n",
      "Iteration 302, loss = 0.62960601\n",
      "Iteration 303, loss = 0.62950598\n",
      "Iteration 304, loss = 0.62940452\n",
      "Iteration 305, loss = 0.62930298\n",
      "Iteration 306, loss = 0.62920066\n",
      "Iteration 307, loss = 0.62909817\n",
      "Iteration 308, loss = 0.62899587\n",
      "Iteration 309, loss = 0.62889359\n",
      "Iteration 310, loss = 0.62879102\n",
      "Iteration 311, loss = 0.62868877\n",
      "Iteration 312, loss = 0.62858633\n",
      "Iteration 313, loss = 0.62848418\n",
      "Iteration 314, loss = 0.62838295\n",
      "Iteration 315, loss = 0.62828093\n",
      "Iteration 316, loss = 0.62817972\n",
      "Iteration 317, loss = 0.62807763\n",
      "Iteration 318, loss = 0.62797499\n",
      "Iteration 319, loss = 0.62787191\n",
      "Iteration 320, loss = 0.62776963\n",
      "Iteration 321, loss = 0.62766673\n",
      "Iteration 322, loss = 0.62756182\n",
      "Iteration 323, loss = 0.62745663\n",
      "Iteration 324, loss = 0.62735155\n",
      "Iteration 325, loss = 0.62724891\n",
      "Iteration 326, loss = 0.62714679\n",
      "Iteration 327, loss = 0.62704520\n",
      "Iteration 328, loss = 0.62694357\n",
      "Iteration 329, loss = 0.62684256\n",
      "Iteration 330, loss = 0.62674039\n",
      "Iteration 331, loss = 0.62663852\n",
      "Iteration 332, loss = 0.62653694\n",
      "Iteration 333, loss = 0.62643194\n",
      "Iteration 334, loss = 0.62632799\n",
      "Iteration 335, loss = 0.62622414\n",
      "Iteration 336, loss = 0.62611944\n",
      "Iteration 337, loss = 0.62601377\n",
      "Iteration 338, loss = 0.62590802\n",
      "Iteration 339, loss = 0.62580046\n",
      "Iteration 340, loss = 0.62569375\n",
      "Iteration 341, loss = 0.62558658\n",
      "Iteration 342, loss = 0.62547805\n",
      "Iteration 343, loss = 0.62536810\n",
      "Iteration 344, loss = 0.62525839\n",
      "Iteration 345, loss = 0.62514436\n",
      "Iteration 346, loss = 0.62502981\n",
      "Iteration 347, loss = 0.62491461\n",
      "Iteration 348, loss = 0.62479880\n",
      "Iteration 349, loss = 0.62468276\n",
      "Iteration 350, loss = 0.62456591\n",
      "Iteration 351, loss = 0.62444768\n",
      "Iteration 352, loss = 0.62432885\n",
      "Iteration 353, loss = 0.62421002\n",
      "Iteration 354, loss = 0.62408948\n",
      "Iteration 355, loss = 0.62396865\n",
      "Iteration 356, loss = 0.62384503\n",
      "Iteration 357, loss = 0.62371909\n",
      "Iteration 358, loss = 0.62359351\n",
      "Iteration 359, loss = 0.62346758\n",
      "Iteration 360, loss = 0.62334280\n",
      "Iteration 361, loss = 0.62322064\n",
      "Iteration 362, loss = 0.62309762\n",
      "Iteration 363, loss = 0.62297841\n",
      "Iteration 364, loss = 0.62285971\n",
      "Iteration 365, loss = 0.62273735\n",
      "Iteration 366, loss = 0.62261197\n",
      "Iteration 367, loss = 0.62248660\n",
      "Iteration 368, loss = 0.62236319\n",
      "Iteration 369, loss = 0.62224264\n",
      "Iteration 370, loss = 0.62212217\n",
      "Iteration 371, loss = 0.62200827\n",
      "Iteration 372, loss = 0.62189948\n",
      "Iteration 373, loss = 0.62179229\n",
      "Iteration 374, loss = 0.62168751\n",
      "Iteration 375, loss = 0.62158504\n",
      "Iteration 376, loss = 0.62148281\n",
      "Iteration 377, loss = 0.62138233\n",
      "Iteration 378, loss = 0.62128385\n",
      "Iteration 379, loss = 0.62118561\n",
      "Iteration 380, loss = 0.62108789\n",
      "Iteration 381, loss = 0.62099017\n",
      "Iteration 382, loss = 0.62089265\n",
      "Iteration 383, loss = 0.62079511\n",
      "Iteration 384, loss = 0.62069793\n",
      "Iteration 385, loss = 0.62060081\n",
      "Iteration 386, loss = 0.62050498\n",
      "Iteration 387, loss = 0.62040901\n",
      "Iteration 388, loss = 0.62031361\n",
      "Training loss did not improve more than tol=0.000100 for 10 consecutive epochs. Stopping.\n"
     ]
    },
    {
     "data": {
      "text/plain": [
       "MLPClassifier(activation='relu', alpha=0.0001, batch_size='auto', beta_1=0.9,\n",
       "       beta_2=0.999, early_stopping=False, epsilon=1e-08,\n",
       "       hidden_layer_sizes=(100, 100), learning_rate='constant',\n",
       "       learning_rate_init=0.001, max_iter=400, momentum=0.9,\n",
       "       n_iter_no_change=10, nesterovs_momentum=True, power_t=0.5,\n",
       "       random_state=1, shuffle=True, solver='sgd', tol=0.0001,\n",
       "       validation_fraction=0.1, verbose=10, warm_start=False)"
      ]
     },
     "execution_count": 49,
     "metadata": {},
     "output_type": "execute_result"
    }
   ],
   "source": [
    "mlp.fit(X_train, y_train)"
   ]
  },
  {
   "cell_type": "code",
   "execution_count": 50,
   "metadata": {
    "colab": {
     "base_uri": "https://localhost:8080/",
     "height": 34
    },
    "colab_type": "code",
    "id": "WKp5BFLuxTmI",
    "outputId": "9d41e9ad-c5cf-4047-93e2-7f12da3ebb04"
   },
   "outputs": [
    {
     "data": {
      "text/plain": [
       "0.5172413793103449"
      ]
     },
     "execution_count": 50,
     "metadata": {},
     "output_type": "execute_result"
    }
   ],
   "source": [
    "mlp.score(X_test, y_test)"
   ]
  },
  {
   "cell_type": "code",
   "execution_count": 51,
   "metadata": {
    "colab": {
     "base_uri": "https://localhost:8080/",
     "height": 34
    },
    "colab_type": "code",
    "id": "tSyr_M9dxecS",
    "outputId": "ac29425a-d2d1-46d7-9dd5-09d8cc3d645e"
   },
   "outputs": [
    {
     "data": {
      "text/plain": [
       "0.6588235294117647"
      ]
     },
     "execution_count": 51,
     "metadata": {},
     "output_type": "execute_result"
    }
   ],
   "source": [
    "mlp.score(X_train, y_train)"
   ]
  },
  {
   "cell_type": "markdown",
   "metadata": {
    "colab_type": "text",
    "id": "gblwlozWyKPG"
   },
   "source": [
    "2. **Decision Tree**\n",
    "\n",
    "---\n",
    "\n"
   ]
  },
  {
   "cell_type": "code",
   "execution_count": 52,
   "metadata": {
    "colab": {},
    "colab_type": "code",
    "id": "OeLbaH1xyNBJ"
   },
   "outputs": [],
   "source": [
    "from sklearn import tree\n",
    "import graphviz"
   ]
  },
  {
   "cell_type": "code",
   "execution_count": 53,
   "metadata": {},
   "outputs": [],
   "source": [
    "import os\n",
    "os.environ[\"PATH\"] += os.pathsep + 'G:\\Python\\Environment\\Lib\\site-packages\\graphviz'"
   ]
  },
  {
   "cell_type": "code",
   "execution_count": 54,
   "metadata": {
    "colab": {},
    "colab_type": "code",
    "id": "Sc8GS1JH0Ihe"
   },
   "outputs": [],
   "source": [
    "dtree= tree.DecisionTreeClassifier()\n",
    "dtree= dtree.fit(X_train, y_train)"
   ]
  },
  {
   "cell_type": "code",
   "execution_count": 55,
   "metadata": {
    "colab": {},
    "colab_type": "code",
    "id": "eMYU7Pk20for"
   },
   "outputs": [],
   "source": [
    "y_pred = dtree.predict(X_test)"
   ]
  },
  {
   "cell_type": "code",
   "execution_count": 56,
   "metadata": {
    "colab": {
     "base_uri": "https://localhost:8080/",
     "height": 34
    },
    "colab_type": "code",
    "id": "4MGo2KRc1EvI",
    "outputId": "a6f812f4-e554-4f2a-d7a7-94927f93ea26"
   },
   "outputs": [
    {
     "data": {
      "text/plain": [
       "0.5"
      ]
     },
     "execution_count": 56,
     "metadata": {},
     "output_type": "execute_result"
    }
   ],
   "source": [
    "accuracy_score(y_test, y_pred)"
   ]
  },
  {
   "cell_type": "code",
   "execution_count": 57,
   "metadata": {
    "colab": {},
    "colab_type": "code",
    "id": "uC9YBQOF1YrS"
   },
   "outputs": [],
   "source": [
    "fname = [\"X1\", \"X2\", \"X3\", \"X4\", \"X5\", \"X6\"]\n",
    "cname = \"D1\""
   ]
  },
  {
   "cell_type": "code",
   "execution_count": 58,
   "metadata": {
    "colab": {
     "base_uri": "https://localhost:8080/",
     "height": 1571
    },
    "colab_type": "code",
    "id": "7dsAHucK1Kzs",
    "outputId": "5b6a322b-7b48-4957-df74-24acdd3f77f9",
    "scrolled": true
   },
   "outputs": [
    {
     "ename": "ExecutableNotFound",
     "evalue": "failed to execute ['dot', '-Tsvg'], make sure the Graphviz executables are on your systems' PATH",
     "output_type": "error",
     "traceback": [
      "\u001b[1;31m---------------------------------------------------------------------------\u001b[0m",
      "\u001b[1;31mFileNotFoundError\u001b[0m                         Traceback (most recent call last)",
      "\u001b[1;32mG:\\anaconda\\lib\\site-packages\\graphviz\\backend.py\u001b[0m in \u001b[0;36mrun\u001b[1;34m(cmd, input, capture_output, check, quiet, **kwargs)\u001b[0m\n\u001b[0;32m    146\u001b[0m     \u001b[1;32mtry\u001b[0m\u001b[1;33m:\u001b[0m\u001b[1;33m\u001b[0m\u001b[1;33m\u001b[0m\u001b[0m\n\u001b[1;32m--> 147\u001b[1;33m         \u001b[0mproc\u001b[0m \u001b[1;33m=\u001b[0m \u001b[0msubprocess\u001b[0m\u001b[1;33m.\u001b[0m\u001b[0mPopen\u001b[0m\u001b[1;33m(\u001b[0m\u001b[0mcmd\u001b[0m\u001b[1;33m,\u001b[0m \u001b[0mstartupinfo\u001b[0m\u001b[1;33m=\u001b[0m\u001b[0mget_startupinfo\u001b[0m\u001b[1;33m(\u001b[0m\u001b[1;33m)\u001b[0m\u001b[1;33m,\u001b[0m \u001b[1;33m**\u001b[0m\u001b[0mkwargs\u001b[0m\u001b[1;33m)\u001b[0m\u001b[1;33m\u001b[0m\u001b[1;33m\u001b[0m\u001b[0m\n\u001b[0m\u001b[0;32m    148\u001b[0m     \u001b[1;32mexcept\u001b[0m \u001b[0mOSError\u001b[0m \u001b[1;32mas\u001b[0m \u001b[0me\u001b[0m\u001b[1;33m:\u001b[0m\u001b[1;33m\u001b[0m\u001b[1;33m\u001b[0m\u001b[0m\n",
      "\u001b[1;32mG:\\anaconda\\lib\\subprocess.py\u001b[0m in \u001b[0;36m__init__\u001b[1;34m(self, args, bufsize, executable, stdin, stdout, stderr, preexec_fn, close_fds, shell, cwd, env, universal_newlines, startupinfo, creationflags, restore_signals, start_new_session, pass_fds, encoding, errors, text)\u001b[0m\n\u001b[0;32m    768\u001b[0m                                 \u001b[0merrread\u001b[0m\u001b[1;33m,\u001b[0m \u001b[0merrwrite\u001b[0m\u001b[1;33m,\u001b[0m\u001b[1;33m\u001b[0m\u001b[1;33m\u001b[0m\u001b[0m\n\u001b[1;32m--> 769\u001b[1;33m                                 restore_signals, start_new_session)\n\u001b[0m\u001b[0;32m    770\u001b[0m         \u001b[1;32mexcept\u001b[0m\u001b[1;33m:\u001b[0m\u001b[1;33m\u001b[0m\u001b[1;33m\u001b[0m\u001b[0m\n",
      "\u001b[1;32mG:\\anaconda\\lib\\subprocess.py\u001b[0m in \u001b[0;36m_execute_child\u001b[1;34m(self, args, executable, preexec_fn, close_fds, pass_fds, cwd, env, startupinfo, creationflags, shell, p2cread, p2cwrite, c2pread, c2pwrite, errread, errwrite, unused_restore_signals, unused_start_new_session)\u001b[0m\n\u001b[0;32m   1171\u001b[0m                                          \u001b[0mos\u001b[0m\u001b[1;33m.\u001b[0m\u001b[0mfspath\u001b[0m\u001b[1;33m(\u001b[0m\u001b[0mcwd\u001b[0m\u001b[1;33m)\u001b[0m \u001b[1;32mif\u001b[0m \u001b[0mcwd\u001b[0m \u001b[1;32mis\u001b[0m \u001b[1;32mnot\u001b[0m \u001b[1;32mNone\u001b[0m \u001b[1;32melse\u001b[0m \u001b[1;32mNone\u001b[0m\u001b[1;33m,\u001b[0m\u001b[1;33m\u001b[0m\u001b[1;33m\u001b[0m\u001b[0m\n\u001b[1;32m-> 1172\u001b[1;33m                                          startupinfo)\n\u001b[0m\u001b[0;32m   1173\u001b[0m             \u001b[1;32mfinally\u001b[0m\u001b[1;33m:\u001b[0m\u001b[1;33m\u001b[0m\u001b[1;33m\u001b[0m\u001b[0m\n",
      "\u001b[1;31mFileNotFoundError\u001b[0m: [WinError 2] The system cannot find the file specified",
      "\nDuring handling of the above exception, another exception occurred:\n",
      "\u001b[1;31mExecutableNotFound\u001b[0m                        Traceback (most recent call last)",
      "\u001b[1;32mG:\\anaconda\\lib\\site-packages\\IPython\\core\\formatters.py\u001b[0m in \u001b[0;36m__call__\u001b[1;34m(self, obj)\u001b[0m\n\u001b[0;32m    343\u001b[0m             \u001b[0mmethod\u001b[0m \u001b[1;33m=\u001b[0m \u001b[0mget_real_method\u001b[0m\u001b[1;33m(\u001b[0m\u001b[0mobj\u001b[0m\u001b[1;33m,\u001b[0m \u001b[0mself\u001b[0m\u001b[1;33m.\u001b[0m\u001b[0mprint_method\u001b[0m\u001b[1;33m)\u001b[0m\u001b[1;33m\u001b[0m\u001b[1;33m\u001b[0m\u001b[0m\n\u001b[0;32m    344\u001b[0m             \u001b[1;32mif\u001b[0m \u001b[0mmethod\u001b[0m \u001b[1;32mis\u001b[0m \u001b[1;32mnot\u001b[0m \u001b[1;32mNone\u001b[0m\u001b[1;33m:\u001b[0m\u001b[1;33m\u001b[0m\u001b[1;33m\u001b[0m\u001b[0m\n\u001b[1;32m--> 345\u001b[1;33m                 \u001b[1;32mreturn\u001b[0m \u001b[0mmethod\u001b[0m\u001b[1;33m(\u001b[0m\u001b[1;33m)\u001b[0m\u001b[1;33m\u001b[0m\u001b[1;33m\u001b[0m\u001b[0m\n\u001b[0m\u001b[0;32m    346\u001b[0m             \u001b[1;32mreturn\u001b[0m \u001b[1;32mNone\u001b[0m\u001b[1;33m\u001b[0m\u001b[1;33m\u001b[0m\u001b[0m\n\u001b[0;32m    347\u001b[0m         \u001b[1;32melse\u001b[0m\u001b[1;33m:\u001b[0m\u001b[1;33m\u001b[0m\u001b[1;33m\u001b[0m\u001b[0m\n",
      "\u001b[1;32mG:\\anaconda\\lib\\site-packages\\graphviz\\files.py\u001b[0m in \u001b[0;36m_repr_svg_\u001b[1;34m(self)\u001b[0m\n\u001b[0;32m    104\u001b[0m \u001b[1;33m\u001b[0m\u001b[0m\n\u001b[0;32m    105\u001b[0m     \u001b[1;32mdef\u001b[0m \u001b[0m_repr_svg_\u001b[0m\u001b[1;33m(\u001b[0m\u001b[0mself\u001b[0m\u001b[1;33m)\u001b[0m\u001b[1;33m:\u001b[0m\u001b[1;33m\u001b[0m\u001b[1;33m\u001b[0m\u001b[0m\n\u001b[1;32m--> 106\u001b[1;33m         \u001b[1;32mreturn\u001b[0m \u001b[0mself\u001b[0m\u001b[1;33m.\u001b[0m\u001b[0mpipe\u001b[0m\u001b[1;33m(\u001b[0m\u001b[0mformat\u001b[0m\u001b[1;33m=\u001b[0m\u001b[1;34m'svg'\u001b[0m\u001b[1;33m)\u001b[0m\u001b[1;33m.\u001b[0m\u001b[0mdecode\u001b[0m\u001b[1;33m(\u001b[0m\u001b[0mself\u001b[0m\u001b[1;33m.\u001b[0m\u001b[0m_encoding\u001b[0m\u001b[1;33m)\u001b[0m\u001b[1;33m\u001b[0m\u001b[1;33m\u001b[0m\u001b[0m\n\u001b[0m\u001b[0;32m    107\u001b[0m \u001b[1;33m\u001b[0m\u001b[0m\n\u001b[0;32m    108\u001b[0m     \u001b[1;32mdef\u001b[0m \u001b[0mpipe\u001b[0m\u001b[1;33m(\u001b[0m\u001b[0mself\u001b[0m\u001b[1;33m,\u001b[0m \u001b[0mformat\u001b[0m\u001b[1;33m=\u001b[0m\u001b[1;32mNone\u001b[0m\u001b[1;33m,\u001b[0m \u001b[0mrenderer\u001b[0m\u001b[1;33m=\u001b[0m\u001b[1;32mNone\u001b[0m\u001b[1;33m,\u001b[0m \u001b[0mformatter\u001b[0m\u001b[1;33m=\u001b[0m\u001b[1;32mNone\u001b[0m\u001b[1;33m)\u001b[0m\u001b[1;33m:\u001b[0m\u001b[1;33m\u001b[0m\u001b[1;33m\u001b[0m\u001b[0m\n",
      "\u001b[1;32mG:\\anaconda\\lib\\site-packages\\graphviz\\files.py\u001b[0m in \u001b[0;36mpipe\u001b[1;34m(self, format, renderer, formatter)\u001b[0m\n\u001b[0;32m    126\u001b[0m         \u001b[0mdata\u001b[0m \u001b[1;33m=\u001b[0m \u001b[0mtext_type\u001b[0m\u001b[1;33m(\u001b[0m\u001b[0mself\u001b[0m\u001b[1;33m.\u001b[0m\u001b[0msource\u001b[0m\u001b[1;33m)\u001b[0m\u001b[1;33m.\u001b[0m\u001b[0mencode\u001b[0m\u001b[1;33m(\u001b[0m\u001b[0mself\u001b[0m\u001b[1;33m.\u001b[0m\u001b[0m_encoding\u001b[0m\u001b[1;33m)\u001b[0m\u001b[1;33m\u001b[0m\u001b[1;33m\u001b[0m\u001b[0m\n\u001b[0;32m    127\u001b[0m \u001b[1;33m\u001b[0m\u001b[0m\n\u001b[1;32m--> 128\u001b[1;33m         \u001b[0mout\u001b[0m \u001b[1;33m=\u001b[0m \u001b[0mbackend\u001b[0m\u001b[1;33m.\u001b[0m\u001b[0mpipe\u001b[0m\u001b[1;33m(\u001b[0m\u001b[0mself\u001b[0m\u001b[1;33m.\u001b[0m\u001b[0m_engine\u001b[0m\u001b[1;33m,\u001b[0m \u001b[0mformat\u001b[0m\u001b[1;33m,\u001b[0m \u001b[0mdata\u001b[0m\u001b[1;33m,\u001b[0m \u001b[0mrenderer\u001b[0m\u001b[1;33m,\u001b[0m \u001b[0mformatter\u001b[0m\u001b[1;33m)\u001b[0m\u001b[1;33m\u001b[0m\u001b[1;33m\u001b[0m\u001b[0m\n\u001b[0m\u001b[0;32m    129\u001b[0m \u001b[1;33m\u001b[0m\u001b[0m\n\u001b[0;32m    130\u001b[0m         \u001b[1;32mreturn\u001b[0m \u001b[0mout\u001b[0m\u001b[1;33m\u001b[0m\u001b[1;33m\u001b[0m\u001b[0m\n",
      "\u001b[1;32mG:\\anaconda\\lib\\site-packages\\graphviz\\backend.py\u001b[0m in \u001b[0;36mpipe\u001b[1;34m(engine, format, data, renderer, formatter, quiet)\u001b[0m\n\u001b[0;32m    204\u001b[0m     \"\"\"\n\u001b[0;32m    205\u001b[0m     \u001b[0mcmd\u001b[0m\u001b[1;33m,\u001b[0m \u001b[0m_\u001b[0m \u001b[1;33m=\u001b[0m \u001b[0mcommand\u001b[0m\u001b[1;33m(\u001b[0m\u001b[0mengine\u001b[0m\u001b[1;33m,\u001b[0m \u001b[0mformat\u001b[0m\u001b[1;33m,\u001b[0m \u001b[1;32mNone\u001b[0m\u001b[1;33m,\u001b[0m \u001b[0mrenderer\u001b[0m\u001b[1;33m,\u001b[0m \u001b[0mformatter\u001b[0m\u001b[1;33m)\u001b[0m\u001b[1;33m\u001b[0m\u001b[1;33m\u001b[0m\u001b[0m\n\u001b[1;32m--> 206\u001b[1;33m     \u001b[0mout\u001b[0m\u001b[1;33m,\u001b[0m \u001b[0m_\u001b[0m \u001b[1;33m=\u001b[0m \u001b[0mrun\u001b[0m\u001b[1;33m(\u001b[0m\u001b[0mcmd\u001b[0m\u001b[1;33m,\u001b[0m \u001b[0minput\u001b[0m\u001b[1;33m=\u001b[0m\u001b[0mdata\u001b[0m\u001b[1;33m,\u001b[0m \u001b[0mcapture_output\u001b[0m\u001b[1;33m=\u001b[0m\u001b[1;32mTrue\u001b[0m\u001b[1;33m,\u001b[0m \u001b[0mcheck\u001b[0m\u001b[1;33m=\u001b[0m\u001b[1;32mTrue\u001b[0m\u001b[1;33m,\u001b[0m \u001b[0mquiet\u001b[0m\u001b[1;33m=\u001b[0m\u001b[0mquiet\u001b[0m\u001b[1;33m)\u001b[0m\u001b[1;33m\u001b[0m\u001b[1;33m\u001b[0m\u001b[0m\n\u001b[0m\u001b[0;32m    207\u001b[0m     \u001b[1;32mreturn\u001b[0m \u001b[0mout\u001b[0m\u001b[1;33m\u001b[0m\u001b[1;33m\u001b[0m\u001b[0m\n\u001b[0;32m    208\u001b[0m \u001b[1;33m\u001b[0m\u001b[0m\n",
      "\u001b[1;32mG:\\anaconda\\lib\\site-packages\\graphviz\\backend.py\u001b[0m in \u001b[0;36mrun\u001b[1;34m(cmd, input, capture_output, check, quiet, **kwargs)\u001b[0m\n\u001b[0;32m    148\u001b[0m     \u001b[1;32mexcept\u001b[0m \u001b[0mOSError\u001b[0m \u001b[1;32mas\u001b[0m \u001b[0me\u001b[0m\u001b[1;33m:\u001b[0m\u001b[1;33m\u001b[0m\u001b[1;33m\u001b[0m\u001b[0m\n\u001b[0;32m    149\u001b[0m         \u001b[1;32mif\u001b[0m \u001b[0me\u001b[0m\u001b[1;33m.\u001b[0m\u001b[0merrno\u001b[0m \u001b[1;33m==\u001b[0m \u001b[0merrno\u001b[0m\u001b[1;33m.\u001b[0m\u001b[0mENOENT\u001b[0m\u001b[1;33m:\u001b[0m\u001b[1;33m\u001b[0m\u001b[1;33m\u001b[0m\u001b[0m\n\u001b[1;32m--> 150\u001b[1;33m             \u001b[1;32mraise\u001b[0m \u001b[0mExecutableNotFound\u001b[0m\u001b[1;33m(\u001b[0m\u001b[0mcmd\u001b[0m\u001b[1;33m)\u001b[0m\u001b[1;33m\u001b[0m\u001b[1;33m\u001b[0m\u001b[0m\n\u001b[0m\u001b[0;32m    151\u001b[0m         \u001b[1;32melse\u001b[0m\u001b[1;33m:\u001b[0m  \u001b[1;31m# pragma: no cover\u001b[0m\u001b[1;33m\u001b[0m\u001b[1;33m\u001b[0m\u001b[0m\n\u001b[0;32m    152\u001b[0m             \u001b[1;32mraise\u001b[0m\u001b[1;33m\u001b[0m\u001b[1;33m\u001b[0m\u001b[0m\n",
      "\u001b[1;31mExecutableNotFound\u001b[0m: failed to execute ['dot', '-Tsvg'], make sure the Graphviz executables are on your systems' PATH"
     ]
    },
    {
     "data": {
      "text/plain": [
       "<graphviz.files.Source at 0xb150860>"
      ]
     },
     "execution_count": 58,
     "metadata": {},
     "output_type": "execute_result"
    }
   ],
   "source": [
    "dot_data= tree.export_graphviz(dtree, out_file=None, feature_names= fname, class_names= cname, filled= True, rounded= True, special_characters= True)\n",
    "graph= graphviz.Source(dot_data)\n",
    "graph"
   ]
  },
  {
   "cell_type": "markdown",
   "metadata": {
    "colab_type": "text",
    "id": "NwIqdxuL3Ggk"
   },
   "source": [
    "3. <b>Support Vector Machine </b>\n",
    "\n",
    "\n",
    "---\n",
    "\n"
   ]
  },
  {
   "cell_type": "code",
   "execution_count": 59,
   "metadata": {
    "colab": {},
    "colab_type": "code",
    "id": "QuHVG5e83Qjh"
   },
   "outputs": [],
   "source": [
    "from sklearn.svm import SVC"
   ]
  },
  {
   "cell_type": "code",
   "execution_count": 60,
   "metadata": {
    "colab": {},
    "colab_type": "code",
    "id": "XdFUWv53637u"
   },
   "outputs": [],
   "source": [
    "svm = SVC(kernel ='poly', random_state = 0, degree = 8)"
   ]
  },
  {
   "cell_type": "code",
   "execution_count": 95,
   "metadata": {},
   "outputs": [
    {
     "data": {
      "text/plain": [
       "SVC(C=1.0, cache_size=200, class_weight=None, coef0=0.0,\n",
       "  decision_function_shape='ovr', degree=8, gamma='auto_deprecated',\n",
       "  kernel='poly', max_iter=-1, probability=False, random_state=0,\n",
       "  shrinking=True, tol=0.001, verbose=False)"
      ]
     },
     "execution_count": 95,
     "metadata": {},
     "output_type": "execute_result"
    }
   ],
   "source": [
    "svm.fit(X_train, y_train)"
   ]
  },
  {
   "cell_type": "code",
   "execution_count": 62,
   "metadata": {},
   "outputs": [],
   "source": [
    "y_pr = svm.predict(X_test)"
   ]
  },
  {
   "cell_type": "code",
   "execution_count": 63,
   "metadata": {},
   "outputs": [
    {
     "data": {
      "text/plain": [
       "0.4827586206896552"
      ]
     },
     "execution_count": 63,
     "metadata": {},
     "output_type": "execute_result"
    }
   ],
   "source": [
    "accuracy_score(y_pr, y_test)"
   ]
  },
  {
   "cell_type": "markdown",
   "metadata": {},
   "source": [
    "<hr>\n",
    "<b>4. Logistic Regression</b>\n",
    "<hr>"
   ]
  },
  {
   "cell_type": "code",
   "execution_count": 64,
   "metadata": {},
   "outputs": [],
   "source": [
    "from sklearn.linear_model import LogisticRegression"
   ]
  },
  {
   "cell_type": "code",
   "execution_count": 65,
   "metadata": {},
   "outputs": [],
   "source": [
    "logit = LogisticRegression(random_state=0, solver =\"liblinear\")"
   ]
  },
  {
   "cell_type": "code",
   "execution_count": 88,
   "metadata": {},
   "outputs": [
    {
     "data": {
      "text/plain": [
       "LogisticRegression(C=1.0, class_weight=None, dual=False, fit_intercept=True,\n",
       "          intercept_scaling=1, max_iter=100, multi_class='warn',\n",
       "          n_jobs=None, penalty='l2', random_state=0, solver='liblinear',\n",
       "          tol=0.0001, verbose=0, warm_start=False)"
      ]
     },
     "execution_count": 88,
     "metadata": {},
     "output_type": "execute_result"
    }
   ],
   "source": [
    "logit.fit(X_train, y_train)"
   ]
  },
  {
   "cell_type": "code",
   "execution_count": 69,
   "metadata": {},
   "outputs": [],
   "source": [
    "y_prev = logit.predict(X_test)"
   ]
  },
  {
   "cell_type": "code",
   "execution_count": 70,
   "metadata": {},
   "outputs": [
    {
     "data": {
      "text/plain": [
       "0.5517241379310345"
      ]
     },
     "execution_count": 70,
     "metadata": {},
     "output_type": "execute_result"
    }
   ],
   "source": [
    "accuracy_score(y_test, y_prev)"
   ]
  },
  {
   "cell_type": "markdown",
   "metadata": {},
   "source": [
    "<hr>\n",
    "<b>5. Adaboosting</b>\n",
    "<hr>"
   ]
  },
  {
   "cell_type": "code",
   "execution_count": 71,
   "metadata": {},
   "outputs": [],
   "source": [
    "from sklearn.ensemble import AdaBoostClassifier"
   ]
  },
  {
   "cell_type": "code",
   "execution_count": 74,
   "metadata": {},
   "outputs": [],
   "source": [
    "ada_model= AdaBoostClassifier(n_estimators=50, learning_rate=1)"
   ]
  },
  {
   "cell_type": "code",
   "execution_count": 89,
   "metadata": {},
   "outputs": [
    {
     "data": {
      "text/plain": [
       "AdaBoostClassifier(algorithm='SAMME.R', base_estimator=None, learning_rate=1,\n",
       "          n_estimators=50, random_state=None)"
      ]
     },
     "execution_count": 89,
     "metadata": {},
     "output_type": "execute_result"
    }
   ],
   "source": [
    "ada_model.fit(X_train, y_train)"
   ]
  },
  {
   "cell_type": "code",
   "execution_count": 77,
   "metadata": {},
   "outputs": [],
   "source": [
    "y_prev= ada_model.predict(X_test)"
   ]
  },
  {
   "cell_type": "code",
   "execution_count": 78,
   "metadata": {},
   "outputs": [
    {
     "data": {
      "text/plain": [
       "0.4482758620689655"
      ]
     },
     "execution_count": 78,
     "metadata": {},
     "output_type": "execute_result"
    }
   ],
   "source": [
    "accuracy_score(y_test, y_prev)"
   ]
  },
  {
   "cell_type": "markdown",
   "metadata": {},
   "source": [
    "<hr>\n",
    "<b>6. Random Forest</b>\n",
    "<hr>"
   ]
  },
  {
   "cell_type": "code",
   "execution_count": 80,
   "metadata": {},
   "outputs": [],
   "source": [
    "from sklearn.ensemble import RandomForestClassifier"
   ]
  },
  {
   "cell_type": "code",
   "execution_count": 81,
   "metadata": {},
   "outputs": [],
   "source": [
    "rf_model = RandomForestClassifier(n_estimators=100, max_depth=2,random_state=0)"
   ]
  },
  {
   "cell_type": "code",
   "execution_count": 90,
   "metadata": {},
   "outputs": [
    {
     "data": {
      "text/plain": [
       "RandomForestClassifier(bootstrap=True, class_weight=None, criterion='gini',\n",
       "            max_depth=2, max_features='auto', max_leaf_nodes=None,\n",
       "            min_impurity_decrease=0.0, min_impurity_split=None,\n",
       "            min_samples_leaf=1, min_samples_split=2,\n",
       "            min_weight_fraction_leaf=0.0, n_estimators=100, n_jobs=None,\n",
       "            oob_score=False, random_state=0, verbose=0, warm_start=False)"
      ]
     },
     "execution_count": 90,
     "metadata": {},
     "output_type": "execute_result"
    }
   ],
   "source": [
    "rf_model.fit(X_train, y_train)"
   ]
  },
  {
   "cell_type": "code",
   "execution_count": 93,
   "metadata": {},
   "outputs": [],
   "source": [
    "y_pred= rf_model.predict(X_test)"
   ]
  },
  {
   "cell_type": "code",
   "execution_count": 94,
   "metadata": {},
   "outputs": [
    {
     "data": {
      "text/plain": [
       "0.5517241379310345"
      ]
     },
     "execution_count": 94,
     "metadata": {},
     "output_type": "execute_result"
    }
   ],
   "source": [
    "accuracy_score(y_test, y_pred)"
   ]
  },
  {
   "cell_type": "markdown",
   "metadata": {},
   "source": [
    "<hr><hr>\n",
    "<b>Conclusion:</b>\n",
    "After completion, we come to a conclusion that \n",
    ">>Works best when given a split of "
   ]
  },
  {
   "cell_type": "code",
   "execution_count": null,
   "metadata": {},
   "outputs": [],
   "source": []
  }
 ],
 "metadata": {
  "colab": {
   "collapsed_sections": [],
   "include_colab_link": true,
   "name": "Somerville Happiness Survey.ipynb",
   "provenance": [],
   "version": "0.3.2"
  },
  "kernelspec": {
   "display_name": "Python 3",
   "language": "python",
   "name": "python3"
  },
  "language_info": {
   "codemirror_mode": {
    "name": "ipython",
    "version": 3
   },
   "file_extension": ".py",
   "mimetype": "text/x-python",
   "name": "python",
   "nbconvert_exporter": "python",
   "pygments_lexer": "ipython3",
   "version": "3.7.1"
  }
 },
 "nbformat": 4,
 "nbformat_minor": 1
}
