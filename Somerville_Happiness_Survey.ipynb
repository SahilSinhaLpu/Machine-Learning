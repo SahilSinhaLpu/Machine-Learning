{
  "nbformat": 4,
  "nbformat_minor": 0,
  "metadata": {
    "colab": {
      "name": "Somerville Happiness Survey.ipynb",
      "version": "0.3.2",
      "provenance": [],
      "collapsed_sections": [],
      "include_colab_link": true
    },
    "kernelspec": {
      "name": "python3",
      "display_name": "Python 3"
    }
  },
  "cells": [
    {
      "cell_type": "markdown",
      "metadata": {
        "id": "view-in-github",
        "colab_type": "text"
      },
      "source": [
        "<a href=\"https://colab.research.google.com/github/SahilSinhaLpu/Machine-Learning/blob/master/Somerville_Happiness_Survey.ipynb\" target=\"_parent\"><img src=\"https://colab.research.google.com/assets/colab-badge.svg\" alt=\"Open In Colab\"/></a>"
      ]
    },
    {
      "metadata": {
        "id": "JahNbtbskjsD",
        "colab_type": "text"
      },
      "cell_type": "markdown",
      "source": [
        "<h1>Somerville Happiness Survey</h1>\n",
        "\n",
        "![Happiness Survey Image](https://encrypted-tbn0.gstatic.com/images?q=tbn:ANd9GcR8KC9DZjrDTXke8wKlLaFZK3OyaminSWtE9Zh8Pvq173GCiojz)\n"
      ]
    },
    {
      "metadata": {
        "id": "E4TVMWkTl-eE",
        "colab_type": "text"
      },
      "cell_type": "markdown",
      "source": [
        "1.   Importing Libraries\n",
        "\n",
        "---\n",
        "\n",
        "\n",
        "\n"
      ]
    },
    {
      "metadata": {
        "id": "6XDz2UC7ZWT0",
        "colab_type": "code",
        "colab": {}
      },
      "cell_type": "code",
      "source": [
        "import numpy as np\n",
        "import pandas as pd\n",
        "from sklearn.model_selection import train_test_split\n",
        "from sklearn.metrics import accuracy_score"
      ],
      "execution_count": 0,
      "outputs": []
    },
    {
      "metadata": {
        "id": "ubcKEgI3mKcA",
        "colab_type": "text"
      },
      "cell_type": "markdown",
      "source": [
        "2.   Reading Data\n",
        "\n",
        "\n",
        "---\n",
        "\n",
        "\n"
      ]
    },
    {
      "metadata": {
        "id": "l1SmsA5QZst1",
        "colab_type": "code",
        "outputId": "a40898a4-f135-434d-e7fa-eca7bc7ca99e",
        "colab": {
          "base_uri": "https://localhost:8080/",
          "height": 347
        }
      },
      "cell_type": "code",
      "source": [
        "data= pd.read_csv(\"https://raw.githubusercontent.com/SahilSinhaLpu/Machine-Learning/master/Datasets/SomvervilleHappines.csv\")\n",
        "data.head(10)"
      ],
      "execution_count": 0,
      "outputs": [
        {
          "output_type": "execute_result",
          "data": {
            "text/html": [
              "<div>\n",
              "<style scoped>\n",
              "    .dataframe tbody tr th:only-of-type {\n",
              "        vertical-align: middle;\n",
              "    }\n",
              "\n",
              "    .dataframe tbody tr th {\n",
              "        vertical-align: top;\n",
              "    }\n",
              "\n",
              "    .dataframe thead th {\n",
              "        text-align: right;\n",
              "    }\n",
              "</style>\n",
              "<table border=\"1\" class=\"dataframe\">\n",
              "  <thead>\n",
              "    <tr style=\"text-align: right;\">\n",
              "      <th></th>\n",
              "      <th>D</th>\n",
              "      <th>X1</th>\n",
              "      <th>X2</th>\n",
              "      <th>X3</th>\n",
              "      <th>X4</th>\n",
              "      <th>X5</th>\n",
              "      <th>X6</th>\n",
              "    </tr>\n",
              "  </thead>\n",
              "  <tbody>\n",
              "    <tr>\n",
              "      <th>0</th>\n",
              "      <td>0</td>\n",
              "      <td>3</td>\n",
              "      <td>3</td>\n",
              "      <td>3</td>\n",
              "      <td>4</td>\n",
              "      <td>2</td>\n",
              "      <td>4</td>\n",
              "    </tr>\n",
              "    <tr>\n",
              "      <th>1</th>\n",
              "      <td>0</td>\n",
              "      <td>3</td>\n",
              "      <td>2</td>\n",
              "      <td>3</td>\n",
              "      <td>5</td>\n",
              "      <td>4</td>\n",
              "      <td>3</td>\n",
              "    </tr>\n",
              "    <tr>\n",
              "      <th>2</th>\n",
              "      <td>1</td>\n",
              "      <td>5</td>\n",
              "      <td>3</td>\n",
              "      <td>3</td>\n",
              "      <td>3</td>\n",
              "      <td>3</td>\n",
              "      <td>5</td>\n",
              "    </tr>\n",
              "    <tr>\n",
              "      <th>3</th>\n",
              "      <td>0</td>\n",
              "      <td>5</td>\n",
              "      <td>4</td>\n",
              "      <td>3</td>\n",
              "      <td>3</td>\n",
              "      <td>3</td>\n",
              "      <td>5</td>\n",
              "    </tr>\n",
              "    <tr>\n",
              "      <th>4</th>\n",
              "      <td>0</td>\n",
              "      <td>5</td>\n",
              "      <td>4</td>\n",
              "      <td>3</td>\n",
              "      <td>3</td>\n",
              "      <td>3</td>\n",
              "      <td>5</td>\n",
              "    </tr>\n",
              "    <tr>\n",
              "      <th>5</th>\n",
              "      <td>1</td>\n",
              "      <td>5</td>\n",
              "      <td>5</td>\n",
              "      <td>3</td>\n",
              "      <td>5</td>\n",
              "      <td>5</td>\n",
              "      <td>5</td>\n",
              "    </tr>\n",
              "    <tr>\n",
              "      <th>6</th>\n",
              "      <td>0</td>\n",
              "      <td>3</td>\n",
              "      <td>1</td>\n",
              "      <td>2</td>\n",
              "      <td>2</td>\n",
              "      <td>1</td>\n",
              "      <td>3</td>\n",
              "    </tr>\n",
              "    <tr>\n",
              "      <th>7</th>\n",
              "      <td>1</td>\n",
              "      <td>5</td>\n",
              "      <td>4</td>\n",
              "      <td>4</td>\n",
              "      <td>4</td>\n",
              "      <td>4</td>\n",
              "      <td>5</td>\n",
              "    </tr>\n",
              "    <tr>\n",
              "      <th>8</th>\n",
              "      <td>0</td>\n",
              "      <td>4</td>\n",
              "      <td>1</td>\n",
              "      <td>4</td>\n",
              "      <td>4</td>\n",
              "      <td>4</td>\n",
              "      <td>4</td>\n",
              "    </tr>\n",
              "    <tr>\n",
              "      <th>9</th>\n",
              "      <td>0</td>\n",
              "      <td>4</td>\n",
              "      <td>4</td>\n",
              "      <td>4</td>\n",
              "      <td>2</td>\n",
              "      <td>5</td>\n",
              "      <td>5</td>\n",
              "    </tr>\n",
              "  </tbody>\n",
              "</table>\n",
              "</div>"
            ],
            "text/plain": [
              "   D  X1  X2  X3  X4  X5  X6\n",
              "0  0   3   3   3   4   2   4\n",
              "1  0   3   2   3   5   4   3\n",
              "2  1   5   3   3   3   3   5\n",
              "3  0   5   4   3   3   3   5\n",
              "4  0   5   4   3   3   3   5\n",
              "5  1   5   5   3   5   5   5\n",
              "6  0   3   1   2   2   1   3\n",
              "7  1   5   4   4   4   4   5\n",
              "8  0   4   1   4   4   4   4\n",
              "9  0   4   4   4   2   5   5"
            ]
          },
          "metadata": {
            "tags": []
          },
          "execution_count": 2
        }
      ]
    },
    {
      "metadata": {
        "id": "nRCKgjsbm5IN",
        "colab_type": "text"
      },
      "cell_type": "markdown",
      "source": [
        "3.   Data representation\n",
        "\n",
        "\n",
        "---\n",
        "\n",
        "\n",
        "\n"
      ]
    },
    {
      "metadata": {
        "id": "Lpukep7Yi4ok",
        "colab_type": "code",
        "colab": {}
      },
      "cell_type": "code",
      "source": [
        ""
      ],
      "execution_count": 0,
      "outputs": []
    },
    {
      "metadata": {
        "id": "M520R200nMwd",
        "colab_type": "text"
      },
      "cell_type": "markdown",
      "source": [
        "4.   Applying Algorithms\n",
        "\n",
        "\n",
        "---\n",
        "\n",
        "\n",
        "\n"
      ]
    },
    {
      "metadata": {
        "id": "G1tNHWRynWgj",
        "colab_type": "text"
      },
      "cell_type": "markdown",
      "source": [
        "\n",
        "\n",
        ">>The given dataset and problem is based upon **Binary Classification**, and we need to predict if >a person is happy or not based upon the features in the data set\n",
        "\n",
        "\n",
        "\n",
        "\n",
        "A. **Multilayer Perceptron**   \n",
        "\n"
      ]
    },
    {
      "metadata": {
        "id": "_dBkBucOni27",
        "colab_type": "code",
        "colab": {}
      },
      "cell_type": "code",
      "source": [
        "from sklearn.neural_network import MLPClassifier"
      ],
      "execution_count": 0,
      "outputs": []
    },
    {
      "metadata": {
        "id": "if1dm2QDrfsR",
        "colab_type": "code",
        "colab": {}
      },
      "cell_type": "code",
      "source": [
        "y= data.iloc[:,:1]\n",
        "X = data.iloc[:,1:]"
      ],
      "execution_count": 0,
      "outputs": []
    },
    {
      "metadata": {
        "id": "D-zuuGKapwgH",
        "colab_type": "code",
        "colab": {}
      },
      "cell_type": "code",
      "source": [
        "X_train, X_test, y_train, y_test = train_test_split(X,y, test_size= 0.40, random_state= 42)"
      ],
      "execution_count": 0,
      "outputs": []
    },
    {
      "metadata": {
        "id": "XAS2fG6NrmNL",
        "colab_type": "code",
        "colab": {}
      },
      "cell_type": "code",
      "source": [
        "mlp = MLPClassifier(hidden_layer_sizes=(100, 100), max_iter=400, alpha=1e-4, solver='sgd', verbose=10, tol=1e-4, random_state=1)"
      ],
      "execution_count": 0,
      "outputs": []
    },
    {
      "metadata": {
        "id": "yeWVtzV8xQnL",
        "colab_type": "code",
        "outputId": "56b21503-a100-49cf-9ad5-996d4ef93bda",
        "colab": {
          "base_uri": "https://localhost:8080/",
          "height": 7112
        }
      },
      "cell_type": "code",
      "source": [
        "mlp.fit(X_train, y_train)"
      ],
      "execution_count": 0,
      "outputs": [
        {
          "output_type": "stream",
          "text": [
            "/usr/local/lib/python3.6/dist-packages/sklearn/neural_network/multilayer_perceptron.py:916: DataConversionWarning: A column-vector y was passed when a 1d array was expected. Please change the shape of y to (n_samples, ), for example using ravel().\n",
            "  y = column_or_1d(y, warn=True)\n"
          ],
          "name": "stderr"
        },
        {
          "output_type": "stream",
          "text": [
            "Iteration 1, loss = 0.68483448\n",
            "Iteration 2, loss = 0.68473644\n",
            "Iteration 3, loss = 0.68459161\n",
            "Iteration 4, loss = 0.68439606\n",
            "Iteration 5, loss = 0.68416486\n",
            "Iteration 6, loss = 0.68389012\n",
            "Iteration 7, loss = 0.68357957\n",
            "Iteration 8, loss = 0.68325246\n",
            "Iteration 9, loss = 0.68291920\n",
            "Iteration 10, loss = 0.68255086\n",
            "Iteration 11, loss = 0.68217955\n",
            "Iteration 12, loss = 0.68178712\n",
            "Iteration 13, loss = 0.68136634\n",
            "Iteration 14, loss = 0.68094205\n",
            "Iteration 15, loss = 0.68051543\n",
            "Iteration 16, loss = 0.68006701\n",
            "Iteration 17, loss = 0.67959178\n",
            "Iteration 18, loss = 0.67913767\n",
            "Iteration 19, loss = 0.67868872\n",
            "Iteration 20, loss = 0.67823997\n",
            "Iteration 21, loss = 0.67779422\n",
            "Iteration 22, loss = 0.67735677\n",
            "Iteration 23, loss = 0.67693005\n",
            "Iteration 24, loss = 0.67650950\n",
            "Iteration 25, loss = 0.67608596\n",
            "Iteration 26, loss = 0.67565921\n",
            "Iteration 27, loss = 0.67521842\n",
            "Iteration 28, loss = 0.67479364\n",
            "Iteration 29, loss = 0.67437476\n",
            "Iteration 30, loss = 0.67394473\n",
            "Iteration 31, loss = 0.67353127\n",
            "Iteration 32, loss = 0.67310506\n",
            "Iteration 33, loss = 0.67266899\n",
            "Iteration 34, loss = 0.67223068\n",
            "Iteration 35, loss = 0.67178543\n",
            "Iteration 36, loss = 0.67133633\n",
            "Iteration 37, loss = 0.67091335\n",
            "Iteration 38, loss = 0.67052528\n",
            "Iteration 39, loss = 0.67015655\n",
            "Iteration 40, loss = 0.66981099\n",
            "Iteration 41, loss = 0.66947607\n",
            "Iteration 42, loss = 0.66914638\n",
            "Iteration 43, loss = 0.66882385\n",
            "Iteration 44, loss = 0.66850436\n",
            "Iteration 45, loss = 0.66818047\n",
            "Iteration 46, loss = 0.66786261\n",
            "Iteration 47, loss = 0.66755112\n",
            "Iteration 48, loss = 0.66724102\n",
            "Iteration 49, loss = 0.66693348\n",
            "Iteration 50, loss = 0.66663726\n",
            "Iteration 51, loss = 0.66634637\n",
            "Iteration 52, loss = 0.66605675\n",
            "Iteration 53, loss = 0.66576799\n",
            "Iteration 54, loss = 0.66548877\n",
            "Iteration 55, loss = 0.66521042\n",
            "Iteration 56, loss = 0.66493874\n",
            "Iteration 57, loss = 0.66466908\n",
            "Iteration 58, loss = 0.66440764\n",
            "Iteration 59, loss = 0.66415018\n",
            "Iteration 60, loss = 0.66391201\n",
            "Iteration 61, loss = 0.66368708\n",
            "Iteration 62, loss = 0.66346701\n",
            "Iteration 63, loss = 0.66324317\n",
            "Iteration 64, loss = 0.66301868\n",
            "Iteration 65, loss = 0.66279495\n",
            "Iteration 66, loss = 0.66257214\n",
            "Iteration 67, loss = 0.66234859\n",
            "Iteration 68, loss = 0.66213072\n",
            "Iteration 69, loss = 0.66191862\n",
            "Iteration 70, loss = 0.66170677\n",
            "Iteration 71, loss = 0.66149457\n",
            "Iteration 72, loss = 0.66128223\n",
            "Iteration 73, loss = 0.66106948\n",
            "Iteration 74, loss = 0.66085790\n",
            "Iteration 75, loss = 0.66065416\n",
            "Iteration 76, loss = 0.66045227\n",
            "Iteration 77, loss = 0.66025154\n",
            "Iteration 78, loss = 0.66005244\n",
            "Iteration 79, loss = 0.65985325\n",
            "Iteration 80, loss = 0.65965399\n",
            "Iteration 81, loss = 0.65945574\n",
            "Iteration 82, loss = 0.65925962\n",
            "Iteration 83, loss = 0.65906409\n",
            "Iteration 84, loss = 0.65887030\n",
            "Iteration 85, loss = 0.65867699\n",
            "Iteration 86, loss = 0.65848443\n",
            "Iteration 87, loss = 0.65829171\n",
            "Iteration 88, loss = 0.65810075\n",
            "Iteration 89, loss = 0.65791216\n",
            "Iteration 90, loss = 0.65772615\n",
            "Iteration 91, loss = 0.65754254\n",
            "Iteration 92, loss = 0.65736115\n",
            "Iteration 93, loss = 0.65717931\n",
            "Iteration 94, loss = 0.65699792\n",
            "Iteration 95, loss = 0.65681796\n",
            "Iteration 96, loss = 0.65663859\n",
            "Iteration 97, loss = 0.65645828\n",
            "Iteration 98, loss = 0.65627834\n",
            "Iteration 99, loss = 0.65609696\n",
            "Iteration 100, loss = 0.65591784\n",
            "Iteration 101, loss = 0.65574015\n",
            "Iteration 102, loss = 0.65556519\n",
            "Iteration 103, loss = 0.65539255\n",
            "Iteration 104, loss = 0.65522395\n",
            "Iteration 105, loss = 0.65505576\n",
            "Iteration 106, loss = 0.65488691\n",
            "Iteration 107, loss = 0.65471597\n",
            "Iteration 108, loss = 0.65454469\n",
            "Iteration 109, loss = 0.65437380\n",
            "Iteration 110, loss = 0.65420358\n",
            "Iteration 111, loss = 0.65403298\n",
            "Iteration 112, loss = 0.65386198\n",
            "Iteration 113, loss = 0.65369223\n",
            "Iteration 114, loss = 0.65352420\n",
            "Iteration 115, loss = 0.65335651\n",
            "Iteration 116, loss = 0.65318893\n",
            "Iteration 117, loss = 0.65302316\n",
            "Iteration 118, loss = 0.65285736\n",
            "Iteration 119, loss = 0.65269172\n",
            "Iteration 120, loss = 0.65252710\n",
            "Iteration 121, loss = 0.65236299\n",
            "Iteration 122, loss = 0.65220067\n",
            "Iteration 123, loss = 0.65203947\n",
            "Iteration 124, loss = 0.65187797\n",
            "Iteration 125, loss = 0.65171663\n",
            "Iteration 126, loss = 0.65155480\n",
            "Iteration 127, loss = 0.65139132\n",
            "Iteration 128, loss = 0.65122895\n",
            "Iteration 129, loss = 0.65106837\n",
            "Iteration 130, loss = 0.65090754\n",
            "Iteration 131, loss = 0.65074661\n",
            "Iteration 132, loss = 0.65058599\n",
            "Iteration 133, loss = 0.65042641\n",
            "Iteration 134, loss = 0.65026919\n",
            "Iteration 135, loss = 0.65011440\n",
            "Iteration 136, loss = 0.64995920\n",
            "Iteration 137, loss = 0.64980351\n",
            "Iteration 138, loss = 0.64964824\n",
            "Iteration 139, loss = 0.64949269\n",
            "Iteration 140, loss = 0.64933401\n",
            "Iteration 141, loss = 0.64917696\n",
            "Iteration 142, loss = 0.64901909\n",
            "Iteration 143, loss = 0.64886437\n",
            "Iteration 144, loss = 0.64871179\n",
            "Iteration 145, loss = 0.64856135\n",
            "Iteration 146, loss = 0.64841168\n",
            "Iteration 147, loss = 0.64826051\n",
            "Iteration 148, loss = 0.64810885\n",
            "Iteration 149, loss = 0.64795749\n",
            "Iteration 150, loss = 0.64780642\n",
            "Iteration 151, loss = 0.64765745\n",
            "Iteration 152, loss = 0.64750891\n",
            "Iteration 153, loss = 0.64736008\n",
            "Iteration 154, loss = 0.64721015\n",
            "Iteration 155, loss = 0.64706042\n",
            "Iteration 156, loss = 0.64690804\n",
            "Iteration 157, loss = 0.64675130\n",
            "Iteration 158, loss = 0.64659801\n",
            "Iteration 159, loss = 0.64644361\n",
            "Iteration 160, loss = 0.64629608\n",
            "Iteration 161, loss = 0.64615135\n",
            "Iteration 162, loss = 0.64600679\n",
            "Iteration 163, loss = 0.64586326\n",
            "Iteration 164, loss = 0.64571824\n",
            "Iteration 165, loss = 0.64557390\n",
            "Iteration 166, loss = 0.64543044\n",
            "Iteration 167, loss = 0.64529251\n",
            "Iteration 168, loss = 0.64515594\n",
            "Iteration 169, loss = 0.64501889\n",
            "Iteration 170, loss = 0.64487968\n",
            "Iteration 171, loss = 0.64474066\n",
            "Iteration 172, loss = 0.64460121\n",
            "Iteration 173, loss = 0.64446183\n",
            "Iteration 174, loss = 0.64432167\n",
            "Iteration 175, loss = 0.64418373\n",
            "Iteration 176, loss = 0.64404590\n",
            "Iteration 177, loss = 0.64390935\n",
            "Iteration 178, loss = 0.64377398\n",
            "Iteration 179, loss = 0.64363940\n",
            "Iteration 180, loss = 0.64350574\n",
            "Iteration 181, loss = 0.64337352\n",
            "Iteration 182, loss = 0.64324131\n",
            "Iteration 183, loss = 0.64310851\n",
            "Iteration 184, loss = 0.64297619\n",
            "Iteration 185, loss = 0.64284468\n",
            "Iteration 186, loss = 0.64271172\n",
            "Iteration 187, loss = 0.64257959\n",
            "Iteration 188, loss = 0.64244720\n",
            "Iteration 189, loss = 0.64231483\n",
            "Iteration 190, loss = 0.64218218\n",
            "Iteration 191, loss = 0.64204726\n",
            "Iteration 192, loss = 0.64190965\n",
            "Iteration 193, loss = 0.64177061\n",
            "Iteration 194, loss = 0.64163218\n",
            "Iteration 195, loss = 0.64149438\n",
            "Iteration 196, loss = 0.64135731\n",
            "Iteration 197, loss = 0.64122200\n",
            "Iteration 198, loss = 0.64108688\n",
            "Iteration 199, loss = 0.64095553\n",
            "Iteration 200, loss = 0.64082536\n",
            "Iteration 201, loss = 0.64069719\n",
            "Iteration 202, loss = 0.64056901\n",
            "Iteration 203, loss = 0.64043877\n",
            "Iteration 204, loss = 0.64030952\n",
            "Iteration 205, loss = 0.64018011\n",
            "Iteration 206, loss = 0.64005313\n",
            "Iteration 207, loss = 0.63992816\n",
            "Iteration 208, loss = 0.63980271\n",
            "Iteration 209, loss = 0.63967692\n",
            "Iteration 210, loss = 0.63955152\n",
            "Iteration 211, loss = 0.63942751\n",
            "Iteration 212, loss = 0.63930632\n",
            "Iteration 213, loss = 0.63918600\n",
            "Iteration 214, loss = 0.63906676\n",
            "Iteration 215, loss = 0.63894908\n",
            "Iteration 216, loss = 0.63883220\n",
            "Iteration 217, loss = 0.63871523\n",
            "Iteration 218, loss = 0.63859889\n",
            "Iteration 219, loss = 0.63848436\n",
            "Iteration 220, loss = 0.63836929\n",
            "Iteration 221, loss = 0.63825375\n",
            "Iteration 222, loss = 0.63813644\n",
            "Iteration 223, loss = 0.63801956\n",
            "Iteration 224, loss = 0.63790288\n",
            "Iteration 225, loss = 0.63778744\n",
            "Iteration 226, loss = 0.63767254\n",
            "Iteration 227, loss = 0.63755847\n",
            "Iteration 228, loss = 0.63744463\n",
            "Iteration 229, loss = 0.63733218\n",
            "Iteration 230, loss = 0.63722033\n",
            "Iteration 231, loss = 0.63710909\n",
            "Iteration 232, loss = 0.63699847\n",
            "Iteration 233, loss = 0.63688825\n",
            "Iteration 234, loss = 0.63677863\n",
            "Iteration 235, loss = 0.63666874\n",
            "Iteration 236, loss = 0.63655969\n",
            "Iteration 237, loss = 0.63645032\n",
            "Iteration 238, loss = 0.63634116\n",
            "Iteration 239, loss = 0.63623204\n",
            "Iteration 240, loss = 0.63612308\n",
            "Iteration 241, loss = 0.63601382\n",
            "Iteration 242, loss = 0.63590489\n",
            "Iteration 243, loss = 0.63579635\n",
            "Iteration 244, loss = 0.63568801\n",
            "Iteration 245, loss = 0.63557985\n",
            "Iteration 246, loss = 0.63547098\n",
            "Iteration 247, loss = 0.63536147\n",
            "Iteration 248, loss = 0.63525288\n",
            "Iteration 249, loss = 0.63514367\n",
            "Iteration 250, loss = 0.63503471\n",
            "Iteration 251, loss = 0.63492613\n",
            "Iteration 252, loss = 0.63481714\n",
            "Iteration 253, loss = 0.63470929\n",
            "Iteration 254, loss = 0.63460103\n",
            "Iteration 255, loss = 0.63449310\n",
            "Iteration 256, loss = 0.63438513\n",
            "Iteration 257, loss = 0.63427769\n",
            "Iteration 258, loss = 0.63417022\n",
            "Iteration 259, loss = 0.63406279\n",
            "Iteration 260, loss = 0.63395586\n",
            "Iteration 261, loss = 0.63384935\n",
            "Iteration 262, loss = 0.63374353\n",
            "Iteration 263, loss = 0.63363748\n",
            "Iteration 264, loss = 0.63353139\n",
            "Iteration 265, loss = 0.63342581\n",
            "Iteration 266, loss = 0.63332041\n",
            "Iteration 267, loss = 0.63321521\n",
            "Iteration 268, loss = 0.63311061\n",
            "Iteration 269, loss = 0.63300581\n",
            "Iteration 270, loss = 0.63290125\n",
            "Iteration 271, loss = 0.63279733\n",
            "Iteration 272, loss = 0.63269332\n",
            "Iteration 273, loss = 0.63259039\n",
            "Iteration 274, loss = 0.63248690\n",
            "Iteration 275, loss = 0.63238384\n",
            "Iteration 276, loss = 0.63228096\n",
            "Iteration 277, loss = 0.63217834\n",
            "Iteration 278, loss = 0.63207576\n",
            "Iteration 279, loss = 0.63197329\n",
            "Iteration 280, loss = 0.63187163\n",
            "Iteration 281, loss = 0.63177026\n",
            "Iteration 282, loss = 0.63166856\n",
            "Iteration 283, loss = 0.63156730\n",
            "Iteration 284, loss = 0.63146588\n",
            "Iteration 285, loss = 0.63136368\n",
            "Iteration 286, loss = 0.63126142\n",
            "Iteration 287, loss = 0.63115922\n",
            "Iteration 288, loss = 0.63105726\n",
            "Iteration 289, loss = 0.63095482\n",
            "Iteration 290, loss = 0.63085183\n",
            "Iteration 291, loss = 0.63074866\n",
            "Iteration 292, loss = 0.63064526\n",
            "Iteration 293, loss = 0.63054156\n",
            "Iteration 294, loss = 0.63043786\n",
            "Iteration 295, loss = 0.63033518\n",
            "Iteration 296, loss = 0.63023068\n",
            "Iteration 297, loss = 0.63012604\n",
            "Iteration 298, loss = 0.63002124\n",
            "Iteration 299, loss = 0.62991621\n",
            "Iteration 300, loss = 0.62981227\n",
            "Iteration 301, loss = 0.62970866\n",
            "Iteration 302, loss = 0.62960601\n",
            "Iteration 303, loss = 0.62950598\n",
            "Iteration 304, loss = 0.62940452\n",
            "Iteration 305, loss = 0.62930298\n",
            "Iteration 306, loss = 0.62920066\n",
            "Iteration 307, loss = 0.62909817\n",
            "Iteration 308, loss = 0.62899587\n",
            "Iteration 309, loss = 0.62889359\n",
            "Iteration 310, loss = 0.62879102\n",
            "Iteration 311, loss = 0.62868877\n",
            "Iteration 312, loss = 0.62858633\n",
            "Iteration 313, loss = 0.62848418\n",
            "Iteration 314, loss = 0.62838295\n",
            "Iteration 315, loss = 0.62828093\n",
            "Iteration 316, loss = 0.62817972\n",
            "Iteration 317, loss = 0.62807763\n",
            "Iteration 318, loss = 0.62797499\n",
            "Iteration 319, loss = 0.62787191\n",
            "Iteration 320, loss = 0.62776963\n",
            "Iteration 321, loss = 0.62766673\n",
            "Iteration 322, loss = 0.62756182\n",
            "Iteration 323, loss = 0.62745663\n",
            "Iteration 324, loss = 0.62735155\n",
            "Iteration 325, loss = 0.62724891\n",
            "Iteration 326, loss = 0.62714679\n",
            "Iteration 327, loss = 0.62704520\n",
            "Iteration 328, loss = 0.62694357\n",
            "Iteration 329, loss = 0.62684256\n",
            "Iteration 330, loss = 0.62674039\n",
            "Iteration 331, loss = 0.62663852\n",
            "Iteration 332, loss = 0.62653694\n",
            "Iteration 333, loss = 0.62643194\n",
            "Iteration 334, loss = 0.62632799\n",
            "Iteration 335, loss = 0.62622414\n",
            "Iteration 336, loss = 0.62611944\n",
            "Iteration 337, loss = 0.62601377\n",
            "Iteration 338, loss = 0.62590802\n",
            "Iteration 339, loss = 0.62580046\n",
            "Iteration 340, loss = 0.62569375\n",
            "Iteration 341, loss = 0.62558658\n",
            "Iteration 342, loss = 0.62547805\n",
            "Iteration 343, loss = 0.62536810\n",
            "Iteration 344, loss = 0.62525839\n",
            "Iteration 345, loss = 0.62514436\n",
            "Iteration 346, loss = 0.62502981\n",
            "Iteration 347, loss = 0.62491461\n",
            "Iteration 348, loss = 0.62479880\n",
            "Iteration 349, loss = 0.62468276\n",
            "Iteration 350, loss = 0.62456591\n",
            "Iteration 351, loss = 0.62444768\n",
            "Iteration 352, loss = 0.62432885\n",
            "Iteration 353, loss = 0.62421002\n",
            "Iteration 354, loss = 0.62408948\n",
            "Iteration 355, loss = 0.62396865\n",
            "Iteration 356, loss = 0.62384503\n",
            "Iteration 357, loss = 0.62371909\n",
            "Iteration 358, loss = 0.62359351\n",
            "Iteration 359, loss = 0.62346758\n",
            "Iteration 360, loss = 0.62334280\n",
            "Iteration 361, loss = 0.62322064\n",
            "Iteration 362, loss = 0.62309762\n",
            "Iteration 363, loss = 0.62297841\n",
            "Iteration 364, loss = 0.62285971\n",
            "Iteration 365, loss = 0.62273735\n",
            "Iteration 366, loss = 0.62261197\n",
            "Iteration 367, loss = 0.62248660\n",
            "Iteration 368, loss = 0.62236319\n",
            "Iteration 369, loss = 0.62224264\n",
            "Iteration 370, loss = 0.62212217\n",
            "Iteration 371, loss = 0.62200827\n",
            "Iteration 372, loss = 0.62189948\n",
            "Iteration 373, loss = 0.62179229\n",
            "Iteration 374, loss = 0.62168751\n",
            "Iteration 375, loss = 0.62158504\n",
            "Iteration 376, loss = 0.62148281\n",
            "Iteration 377, loss = 0.62138233\n",
            "Iteration 378, loss = 0.62128385\n",
            "Iteration 379, loss = 0.62118561\n",
            "Iteration 380, loss = 0.62108789\n",
            "Iteration 381, loss = 0.62099017\n",
            "Iteration 382, loss = 0.62089265\n",
            "Iteration 383, loss = 0.62079511\n",
            "Iteration 384, loss = 0.62069793\n",
            "Iteration 385, loss = 0.62060081\n",
            "Iteration 386, loss = 0.62050498\n",
            "Iteration 387, loss = 0.62040901\n",
            "Iteration 388, loss = 0.62031361\n",
            "Training loss did not improve more than tol=0.000100 for 10 consecutive epochs. Stopping.\n"
          ],
          "name": "stdout"
        },
        {
          "output_type": "execute_result",
          "data": {
            "text/plain": [
              "MLPClassifier(activation='relu', alpha=0.0001, batch_size='auto', beta_1=0.9,\n",
              "       beta_2=0.999, early_stopping=False, epsilon=1e-08,\n",
              "       hidden_layer_sizes=(100, 100), learning_rate='constant',\n",
              "       learning_rate_init=0.001, max_iter=400, momentum=0.9,\n",
              "       n_iter_no_change=10, nesterovs_momentum=True, power_t=0.5,\n",
              "       random_state=1, shuffle=True, solver='sgd', tol=0.0001,\n",
              "       validation_fraction=0.1, verbose=10, warm_start=False)"
            ]
          },
          "metadata": {
            "tags": []
          },
          "execution_count": 7
        }
      ]
    },
    {
      "metadata": {
        "id": "WKp5BFLuxTmI",
        "colab_type": "code",
        "outputId": "9d41e9ad-c5cf-4047-93e2-7f12da3ebb04",
        "colab": {
          "base_uri": "https://localhost:8080/",
          "height": 34
        }
      },
      "cell_type": "code",
      "source": [
        "mlp.score(X_test, y_test)"
      ],
      "execution_count": 0,
      "outputs": [
        {
          "output_type": "execute_result",
          "data": {
            "text/plain": [
              "0.5172413793103449"
            ]
          },
          "metadata": {
            "tags": []
          },
          "execution_count": 8
        }
      ]
    },
    {
      "metadata": {
        "id": "tSyr_M9dxecS",
        "colab_type": "code",
        "outputId": "ac29425a-d2d1-46d7-9dd5-09d8cc3d645e",
        "colab": {
          "base_uri": "https://localhost:8080/",
          "height": 34
        }
      },
      "cell_type": "code",
      "source": [
        "mlp.score(X_train, y_train)"
      ],
      "execution_count": 0,
      "outputs": [
        {
          "output_type": "execute_result",
          "data": {
            "text/plain": [
              "0.6588235294117647"
            ]
          },
          "metadata": {
            "tags": []
          },
          "execution_count": 9
        }
      ]
    },
    {
      "metadata": {
        "id": "gblwlozWyKPG",
        "colab_type": "text"
      },
      "cell_type": "markdown",
      "source": [
        "2. **Decision Tree**\n",
        "\n",
        "---\n",
        "\n"
      ]
    },
    {
      "metadata": {
        "id": "OeLbaH1xyNBJ",
        "colab_type": "code",
        "colab": {}
      },
      "cell_type": "code",
      "source": [
        "from sklearn import tree\n",
        "import graphviz"
      ],
      "execution_count": 0,
      "outputs": []
    },
    {
      "metadata": {
        "id": "Sc8GS1JH0Ihe",
        "colab_type": "code",
        "colab": {}
      },
      "cell_type": "code",
      "source": [
        "dtree= tree.DecisionTreeClassifier()\n",
        "dtree= dtree.fit(X_train, y_train)"
      ],
      "execution_count": 0,
      "outputs": []
    },
    {
      "metadata": {
        "id": "eMYU7Pk20for",
        "colab_type": "code",
        "colab": {}
      },
      "cell_type": "code",
      "source": [
        "y_pred = dtree.predict(X_test)"
      ],
      "execution_count": 0,
      "outputs": []
    },
    {
      "metadata": {
        "id": "4MGo2KRc1EvI",
        "colab_type": "code",
        "outputId": "a6f812f4-e554-4f2a-d7a7-94927f93ea26",
        "colab": {
          "base_uri": "https://localhost:8080/",
          "height": 34
        }
      },
      "cell_type": "code",
      "source": [
        "accuracy_score(y_test, y_pred)"
      ],
      "execution_count": 0,
      "outputs": [
        {
          "output_type": "execute_result",
          "data": {
            "text/plain": [
              "0.5344827586206896"
            ]
          },
          "metadata": {
            "tags": []
          },
          "execution_count": 15
        }
      ]
    },
    {
      "metadata": {
        "id": "uC9YBQOF1YrS",
        "colab_type": "code",
        "colab": {}
      },
      "cell_type": "code",
      "source": [
        "fname = [\"X1\", \"X2\", \"X3\", \"X4\", \"X5\", \"X6\"]\n",
        "cname = \"D1\""
      ],
      "execution_count": 0,
      "outputs": []
    },
    {
      "metadata": {
        "id": "7dsAHucK1Kzs",
        "colab_type": "code",
        "outputId": "5b6a322b-7b48-4957-df74-24acdd3f77f9",
        "colab": {
          "base_uri": "https://localhost:8080/",
          "height": 1571
        }
      },
      "cell_type": "code",
      "source": [
        "dot_data= tree.export_graphviz(dtree, out_file=None, feature_names= fname, class_names= cname, filled= True, rounded= True, special_characters= True)\n",
        "graph= graphviz.Source(dot_data)\n",
        "graph"
      ],
      "execution_count": 0,
      "outputs": [
        {
          "output_type": "execute_result",
          "data": {
            "text/plain": [
              "<graphviz.files.Source at 0x7fd8072619b0>"
            ],
            "image/svg+xml": "<?xml version=\"1.0\" encoding=\"UTF-8\" standalone=\"no\"?>\n<!DOCTYPE svg PUBLIC \"-//W3C//DTD SVG 1.1//EN\"\n \"http://www.w3.org/Graphics/SVG/1.1/DTD/svg11.dtd\">\n<!-- Generated by graphviz version 2.40.1 (20161225.0304)\n -->\n<!-- Title: Tree Pages: 1 -->\n<svg width=\"1994pt\" height=\"1147pt\"\n viewBox=\"0.00 0.00 1994.00 1147.00\" xmlns=\"http://www.w3.org/2000/svg\" xmlns:xlink=\"http://www.w3.org/1999/xlink\">\n<g id=\"graph0\" class=\"graph\" transform=\"scale(1 1) rotate(0) translate(4 1143)\">\n<title>Tree</title>\n<polygon fill=\"#ffffff\" stroke=\"transparent\" points=\"-4,4 -4,-1143 1990,-1143 1990,4 -4,4\"/>\n<!-- 0 -->\n<g id=\"node1\" class=\"node\">\n<title>0</title>\n<path fill=\"#399de5\" fill-opacity=\"0.152941\" stroke=\"#000000\" d=\"M1012.5,-1139C1012.5,-1139 920.5,-1139 920.5,-1139 914.5,-1139 908.5,-1133 908.5,-1127 908.5,-1127 908.5,-1068 908.5,-1068 908.5,-1062 914.5,-1056 920.5,-1056 920.5,-1056 1012.5,-1056 1012.5,-1056 1018.5,-1056 1024.5,-1062 1024.5,-1068 1024.5,-1068 1024.5,-1127 1024.5,-1127 1024.5,-1133 1018.5,-1139 1012.5,-1139\"/>\n<text text-anchor=\"start\" x=\"939.5\" y=\"-1123.8\" font-family=\"Helvetica,sans-Serif\" font-size=\"14.00\" fill=\"#000000\">X1 ≤ 4.5</text>\n<text text-anchor=\"start\" x=\"928.5\" y=\"-1108.8\" font-family=\"Helvetica,sans-Serif\" font-size=\"14.00\" fill=\"#000000\">gini = 0.497</text>\n<text text-anchor=\"start\" x=\"922.5\" y=\"-1093.8\" font-family=\"Helvetica,sans-Serif\" font-size=\"14.00\" fill=\"#000000\">samples = 85</text>\n<text text-anchor=\"start\" x=\"916.5\" y=\"-1078.8\" font-family=\"Helvetica,sans-Serif\" font-size=\"14.00\" fill=\"#000000\">value = [39, 46]</text>\n<text text-anchor=\"start\" x=\"937.5\" y=\"-1063.8\" font-family=\"Helvetica,sans-Serif\" font-size=\"14.00\" fill=\"#000000\">class = 1</text>\n</g>\n<!-- 1 -->\n<g id=\"node2\" class=\"node\">\n<title>1</title>\n<path fill=\"#e58139\" fill-opacity=\"0.384314\" stroke=\"#000000\" d=\"M622.5,-1020C622.5,-1020 530.5,-1020 530.5,-1020 524.5,-1020 518.5,-1014 518.5,-1008 518.5,-1008 518.5,-949 518.5,-949 518.5,-943 524.5,-937 530.5,-937 530.5,-937 622.5,-937 622.5,-937 628.5,-937 634.5,-943 634.5,-949 634.5,-949 634.5,-1008 634.5,-1008 634.5,-1014 628.5,-1020 622.5,-1020\"/>\n<text text-anchor=\"start\" x=\"549.5\" y=\"-1004.8\" font-family=\"Helvetica,sans-Serif\" font-size=\"14.00\" fill=\"#000000\">X6 ≤ 3.5</text>\n<text text-anchor=\"start\" x=\"538.5\" y=\"-989.8\" font-family=\"Helvetica,sans-Serif\" font-size=\"14.00\" fill=\"#000000\">gini = 0.472</text>\n<text text-anchor=\"start\" x=\"532.5\" y=\"-974.8\" font-family=\"Helvetica,sans-Serif\" font-size=\"14.00\" fill=\"#000000\">samples = 42</text>\n<text text-anchor=\"start\" x=\"526.5\" y=\"-959.8\" font-family=\"Helvetica,sans-Serif\" font-size=\"14.00\" fill=\"#000000\">value = [26, 16]</text>\n<text text-anchor=\"start\" x=\"546\" y=\"-944.8\" font-family=\"Helvetica,sans-Serif\" font-size=\"14.00\" fill=\"#000000\">class = D</text>\n</g>\n<!-- 0&#45;&gt;1 -->\n<g id=\"edge1\" class=\"edge\">\n<title>0&#45;&gt;1</title>\n<path fill=\"none\" stroke=\"#000000\" d=\"M908.1131,-1079.6845C837.546,-1058.1525 719.0111,-1021.9842 644.421,-999.2246\"/>\n<polygon fill=\"#000000\" stroke=\"#000000\" points=\"645.2344,-995.8136 634.6483,-996.2427 643.1915,-1002.5088 645.2344,-995.8136\"/>\n<text text-anchor=\"middle\" x=\"646.3972\" y=\"-1014.6099\" font-family=\"Helvetica,sans-Serif\" font-size=\"14.00\" fill=\"#000000\">True</text>\n</g>\n<!-- 38 -->\n<g id=\"node39\" class=\"node\">\n<title>38</title>\n<path fill=\"#399de5\" fill-opacity=\"0.568627\" stroke=\"#000000\" d=\"M1290.5,-1020C1290.5,-1020 1198.5,-1020 1198.5,-1020 1192.5,-1020 1186.5,-1014 1186.5,-1008 1186.5,-1008 1186.5,-949 1186.5,-949 1186.5,-943 1192.5,-937 1198.5,-937 1198.5,-937 1290.5,-937 1290.5,-937 1296.5,-937 1302.5,-943 1302.5,-949 1302.5,-949 1302.5,-1008 1302.5,-1008 1302.5,-1014 1296.5,-1020 1290.5,-1020\"/>\n<text text-anchor=\"start\" x=\"1217.5\" y=\"-1004.8\" font-family=\"Helvetica,sans-Serif\" font-size=\"14.00\" fill=\"#000000\">X5 ≤ 3.5</text>\n<text text-anchor=\"start\" x=\"1206.5\" y=\"-989.8\" font-family=\"Helvetica,sans-Serif\" font-size=\"14.00\" fill=\"#000000\">gini = 0.422</text>\n<text text-anchor=\"start\" x=\"1200.5\" y=\"-974.8\" font-family=\"Helvetica,sans-Serif\" font-size=\"14.00\" fill=\"#000000\">samples = 43</text>\n<text text-anchor=\"start\" x=\"1194.5\" y=\"-959.8\" font-family=\"Helvetica,sans-Serif\" font-size=\"14.00\" fill=\"#000000\">value = [13, 30]</text>\n<text text-anchor=\"start\" x=\"1215.5\" y=\"-944.8\" font-family=\"Helvetica,sans-Serif\" font-size=\"14.00\" fill=\"#000000\">class = 1</text>\n</g>\n<!-- 0&#45;&gt;38 -->\n<g id=\"edge38\" class=\"edge\">\n<title>0&#45;&gt;38</title>\n<path fill=\"none\" stroke=\"#000000\" d=\"M1024.7779,-1072.5537C1069.1662,-1053.553 1130.3615,-1027.3578 1176.8993,-1007.437\"/>\n<polygon fill=\"#000000\" stroke=\"#000000\" points=\"1178.483,-1010.5663 1186.2988,-1003.4135 1175.7283,-1004.1311 1178.483,-1010.5663\"/>\n<text text-anchor=\"middle\" x=\"1177.004\" y=\"-1022.9213\" font-family=\"Helvetica,sans-Serif\" font-size=\"14.00\" fill=\"#000000\">False</text>\n</g>\n<!-- 2 -->\n<g id=\"node3\" class=\"node\">\n<title>2</title>\n<path fill=\"#e58139\" fill-opacity=\"0.909804\" stroke=\"#000000\" d=\"M325,-901C325,-901 242,-901 242,-901 236,-901 230,-895 230,-889 230,-889 230,-830 230,-830 230,-824 236,-818 242,-818 242,-818 325,-818 325,-818 331,-818 337,-824 337,-830 337,-830 337,-889 337,-889 337,-895 331,-901 325,-901\"/>\n<text text-anchor=\"start\" x=\"256.5\" y=\"-885.8\" font-family=\"Helvetica,sans-Serif\" font-size=\"14.00\" fill=\"#000000\">X1 ≤ 3.5</text>\n<text text-anchor=\"start\" x=\"245.5\" y=\"-870.8\" font-family=\"Helvetica,sans-Serif\" font-size=\"14.00\" fill=\"#000000\">gini = 0.153</text>\n<text text-anchor=\"start\" x=\"239.5\" y=\"-855.8\" font-family=\"Helvetica,sans-Serif\" font-size=\"14.00\" fill=\"#000000\">samples = 12</text>\n<text text-anchor=\"start\" x=\"238\" y=\"-840.8\" font-family=\"Helvetica,sans-Serif\" font-size=\"14.00\" fill=\"#000000\">value = [11, 1]</text>\n<text text-anchor=\"start\" x=\"253\" y=\"-825.8\" font-family=\"Helvetica,sans-Serif\" font-size=\"14.00\" fill=\"#000000\">class = D</text>\n</g>\n<!-- 1&#45;&gt;2 -->\n<g id=\"edge2\" class=\"edge\">\n<title>1&#45;&gt;2</title>\n<path fill=\"none\" stroke=\"#000000\" d=\"M518.2623,-954.8472C468.6152,-934.6833 397.4072,-905.7627 346.4535,-885.0681\"/>\n<polygon fill=\"#000000\" stroke=\"#000000\" points=\"347.7668,-881.8239 337.1848,-881.3037 345.1327,-888.3095 347.7668,-881.8239\"/>\n</g>\n<!-- 9 -->\n<g id=\"node10\" class=\"node\">\n<title>9</title>\n<path fill=\"transparent\" stroke=\"#000000\" d=\"M622.5,-901C622.5,-901 530.5,-901 530.5,-901 524.5,-901 518.5,-895 518.5,-889 518.5,-889 518.5,-830 518.5,-830 518.5,-824 524.5,-818 530.5,-818 530.5,-818 622.5,-818 622.5,-818 628.5,-818 634.5,-824 634.5,-830 634.5,-830 634.5,-889 634.5,-889 634.5,-895 628.5,-901 622.5,-901\"/>\n<text text-anchor=\"start\" x=\"549.5\" y=\"-885.8\" font-family=\"Helvetica,sans-Serif\" font-size=\"14.00\" fill=\"#000000\">X2 ≤ 1.5</text>\n<text text-anchor=\"start\" x=\"547\" y=\"-870.8\" font-family=\"Helvetica,sans-Serif\" font-size=\"14.00\" fill=\"#000000\">gini = 0.5</text>\n<text text-anchor=\"start\" x=\"532.5\" y=\"-855.8\" font-family=\"Helvetica,sans-Serif\" font-size=\"14.00\" fill=\"#000000\">samples = 30</text>\n<text text-anchor=\"start\" x=\"526.5\" y=\"-840.8\" font-family=\"Helvetica,sans-Serif\" font-size=\"14.00\" fill=\"#000000\">value = [15, 15]</text>\n<text text-anchor=\"start\" x=\"546\" y=\"-825.8\" font-family=\"Helvetica,sans-Serif\" font-size=\"14.00\" fill=\"#000000\">class = D</text>\n</g>\n<!-- 1&#45;&gt;9 -->\n<g id=\"edge9\" class=\"edge\">\n<title>1&#45;&gt;9</title>\n<path fill=\"none\" stroke=\"#000000\" d=\"M576.5,-936.8796C576.5,-928.6838 576.5,-919.9891 576.5,-911.5013\"/>\n<polygon fill=\"#000000\" stroke=\"#000000\" points=\"580.0001,-911.298 576.5,-901.2981 573.0001,-911.2981 580.0001,-911.298\"/>\n</g>\n<!-- 3 -->\n<g id=\"node4\" class=\"node\">\n<title>3</title>\n<path fill=\"#e58139\" stroke=\"#000000\" d=\"M204,-774.5C204,-774.5 129,-774.5 129,-774.5 123,-774.5 117,-768.5 117,-762.5 117,-762.5 117,-718.5 117,-718.5 117,-712.5 123,-706.5 129,-706.5 129,-706.5 204,-706.5 204,-706.5 210,-706.5 216,-712.5 216,-718.5 216,-718.5 216,-762.5 216,-762.5 216,-768.5 210,-774.5 204,-774.5\"/>\n<text text-anchor=\"start\" x=\"137\" y=\"-759.3\" font-family=\"Helvetica,sans-Serif\" font-size=\"14.00\" fill=\"#000000\">gini = 0.0</text>\n<text text-anchor=\"start\" x=\"127\" y=\"-744.3\" font-family=\"Helvetica,sans-Serif\" font-size=\"14.00\" fill=\"#000000\">samples = 6</text>\n<text text-anchor=\"start\" x=\"125\" y=\"-729.3\" font-family=\"Helvetica,sans-Serif\" font-size=\"14.00\" fill=\"#000000\">value = [6, 0]</text>\n<text text-anchor=\"start\" x=\"136\" y=\"-714.3\" font-family=\"Helvetica,sans-Serif\" font-size=\"14.00\" fill=\"#000000\">class = D</text>\n</g>\n<!-- 2&#45;&gt;3 -->\n<g id=\"edge3\" class=\"edge\">\n<title>2&#45;&gt;3</title>\n<path fill=\"none\" stroke=\"#000000\" d=\"M242.5791,-817.8796C231.2272,-806.3337 218.9018,-793.7976 207.543,-782.2446\"/>\n<polygon fill=\"#000000\" stroke=\"#000000\" points=\"209.7449,-779.4919 200.2382,-774.8149 204.7534,-784.3995 209.7449,-779.4919\"/>\n</g>\n<!-- 4 -->\n<g id=\"node5\" class=\"node\">\n<title>4</title>\n<path fill=\"#e58139\" fill-opacity=\"0.800000\" stroke=\"#000000\" d=\"M321,-782C321,-782 246,-782 246,-782 240,-782 234,-776 234,-770 234,-770 234,-711 234,-711 234,-705 240,-699 246,-699 246,-699 321,-699 321,-699 327,-699 333,-705 333,-711 333,-711 333,-770 333,-770 333,-776 327,-782 321,-782\"/>\n<text text-anchor=\"start\" x=\"256.5\" y=\"-766.8\" font-family=\"Helvetica,sans-Serif\" font-size=\"14.00\" fill=\"#000000\">X2 ≤ 3.0</text>\n<text text-anchor=\"start\" x=\"245.5\" y=\"-751.8\" font-family=\"Helvetica,sans-Serif\" font-size=\"14.00\" fill=\"#000000\">gini = 0.278</text>\n<text text-anchor=\"start\" x=\"244\" y=\"-736.8\" font-family=\"Helvetica,sans-Serif\" font-size=\"14.00\" fill=\"#000000\">samples = 6</text>\n<text text-anchor=\"start\" x=\"242\" y=\"-721.8\" font-family=\"Helvetica,sans-Serif\" font-size=\"14.00\" fill=\"#000000\">value = [5, 1]</text>\n<text text-anchor=\"start\" x=\"253\" y=\"-706.8\" font-family=\"Helvetica,sans-Serif\" font-size=\"14.00\" fill=\"#000000\">class = D</text>\n</g>\n<!-- 2&#45;&gt;4 -->\n<g id=\"edge4\" class=\"edge\">\n<title>2&#45;&gt;4</title>\n<path fill=\"none\" stroke=\"#000000\" d=\"M283.5,-817.8796C283.5,-809.6838 283.5,-800.9891 283.5,-792.5013\"/>\n<polygon fill=\"#000000\" stroke=\"#000000\" points=\"287.0001,-792.298 283.5,-782.2981 280.0001,-792.2981 287.0001,-792.298\"/>\n</g>\n<!-- 5 -->\n<g id=\"node6\" class=\"node\">\n<title>5</title>\n<path fill=\"#e58139\" fill-opacity=\"0.498039\" stroke=\"#000000\" d=\"M204,-663C204,-663 129,-663 129,-663 123,-663 117,-657 117,-651 117,-651 117,-592 117,-592 117,-586 123,-580 129,-580 129,-580 204,-580 204,-580 210,-580 216,-586 216,-592 216,-592 216,-651 216,-651 216,-657 210,-663 204,-663\"/>\n<text text-anchor=\"start\" x=\"139.5\" y=\"-647.8\" font-family=\"Helvetica,sans-Serif\" font-size=\"14.00\" fill=\"#000000\">X5 ≤ 3.5</text>\n<text text-anchor=\"start\" x=\"128.5\" y=\"-632.8\" font-family=\"Helvetica,sans-Serif\" font-size=\"14.00\" fill=\"#000000\">gini = 0.444</text>\n<text text-anchor=\"start\" x=\"127\" y=\"-617.8\" font-family=\"Helvetica,sans-Serif\" font-size=\"14.00\" fill=\"#000000\">samples = 3</text>\n<text text-anchor=\"start\" x=\"125\" y=\"-602.8\" font-family=\"Helvetica,sans-Serif\" font-size=\"14.00\" fill=\"#000000\">value = [2, 1]</text>\n<text text-anchor=\"start\" x=\"136\" y=\"-587.8\" font-family=\"Helvetica,sans-Serif\" font-size=\"14.00\" fill=\"#000000\">class = D</text>\n</g>\n<!-- 4&#45;&gt;5 -->\n<g id=\"edge5\" class=\"edge\">\n<title>4&#45;&gt;5</title>\n<path fill=\"none\" stroke=\"#000000\" d=\"M242.5791,-698.8796C233.547,-689.6931 223.8987,-679.8798 214.6112,-670.4336\"/>\n<polygon fill=\"#000000\" stroke=\"#000000\" points=\"217.1023,-667.975 207.5956,-663.2981 212.1107,-672.8827 217.1023,-667.975\"/>\n</g>\n<!-- 8 -->\n<g id=\"node9\" class=\"node\">\n<title>8</title>\n<path fill=\"#e58139\" stroke=\"#000000\" d=\"M321,-655.5C321,-655.5 246,-655.5 246,-655.5 240,-655.5 234,-649.5 234,-643.5 234,-643.5 234,-599.5 234,-599.5 234,-593.5 240,-587.5 246,-587.5 246,-587.5 321,-587.5 321,-587.5 327,-587.5 333,-593.5 333,-599.5 333,-599.5 333,-643.5 333,-643.5 333,-649.5 327,-655.5 321,-655.5\"/>\n<text text-anchor=\"start\" x=\"254\" y=\"-640.3\" font-family=\"Helvetica,sans-Serif\" font-size=\"14.00\" fill=\"#000000\">gini = 0.0</text>\n<text text-anchor=\"start\" x=\"244\" y=\"-625.3\" font-family=\"Helvetica,sans-Serif\" font-size=\"14.00\" fill=\"#000000\">samples = 3</text>\n<text text-anchor=\"start\" x=\"242\" y=\"-610.3\" font-family=\"Helvetica,sans-Serif\" font-size=\"14.00\" fill=\"#000000\">value = [3, 0]</text>\n<text text-anchor=\"start\" x=\"253\" y=\"-595.3\" font-family=\"Helvetica,sans-Serif\" font-size=\"14.00\" fill=\"#000000\">class = D</text>\n</g>\n<!-- 4&#45;&gt;8 -->\n<g id=\"edge8\" class=\"edge\">\n<title>4&#45;&gt;8</title>\n<path fill=\"none\" stroke=\"#000000\" d=\"M283.5,-698.8796C283.5,-688.2134 283.5,-676.7021 283.5,-665.9015\"/>\n<polygon fill=\"#000000\" stroke=\"#000000\" points=\"287.0001,-665.8149 283.5,-655.8149 280.0001,-665.815 287.0001,-665.8149\"/>\n</g>\n<!-- 6 -->\n<g id=\"node7\" class=\"node\">\n<title>6</title>\n<path fill=\"#399de5\" stroke=\"#000000\" d=\"M87,-536.5C87,-536.5 12,-536.5 12,-536.5 6,-536.5 0,-530.5 0,-524.5 0,-524.5 0,-480.5 0,-480.5 0,-474.5 6,-468.5 12,-468.5 12,-468.5 87,-468.5 87,-468.5 93,-468.5 99,-474.5 99,-480.5 99,-480.5 99,-524.5 99,-524.5 99,-530.5 93,-536.5 87,-536.5\"/>\n<text text-anchor=\"start\" x=\"20\" y=\"-521.3\" font-family=\"Helvetica,sans-Serif\" font-size=\"14.00\" fill=\"#000000\">gini = 0.0</text>\n<text text-anchor=\"start\" x=\"10\" y=\"-506.3\" font-family=\"Helvetica,sans-Serif\" font-size=\"14.00\" fill=\"#000000\">samples = 1</text>\n<text text-anchor=\"start\" x=\"8\" y=\"-491.3\" font-family=\"Helvetica,sans-Serif\" font-size=\"14.00\" fill=\"#000000\">value = [0, 1]</text>\n<text text-anchor=\"start\" x=\"20.5\" y=\"-476.3\" font-family=\"Helvetica,sans-Serif\" font-size=\"14.00\" fill=\"#000000\">class = 1</text>\n</g>\n<!-- 5&#45;&gt;6 -->\n<g id=\"edge6\" class=\"edge\">\n<title>5&#45;&gt;6</title>\n<path fill=\"none\" stroke=\"#000000\" d=\"M125.5791,-579.8796C114.2272,-568.3337 101.9018,-555.7976 90.543,-544.2446\"/>\n<polygon fill=\"#000000\" stroke=\"#000000\" points=\"92.7449,-541.4919 83.2382,-536.8149 87.7534,-546.3995 92.7449,-541.4919\"/>\n</g>\n<!-- 7 -->\n<g id=\"node8\" class=\"node\">\n<title>7</title>\n<path fill=\"#e58139\" stroke=\"#000000\" d=\"M204,-536.5C204,-536.5 129,-536.5 129,-536.5 123,-536.5 117,-530.5 117,-524.5 117,-524.5 117,-480.5 117,-480.5 117,-474.5 123,-468.5 129,-468.5 129,-468.5 204,-468.5 204,-468.5 210,-468.5 216,-474.5 216,-480.5 216,-480.5 216,-524.5 216,-524.5 216,-530.5 210,-536.5 204,-536.5\"/>\n<text text-anchor=\"start\" x=\"137\" y=\"-521.3\" font-family=\"Helvetica,sans-Serif\" font-size=\"14.00\" fill=\"#000000\">gini = 0.0</text>\n<text text-anchor=\"start\" x=\"127\" y=\"-506.3\" font-family=\"Helvetica,sans-Serif\" font-size=\"14.00\" fill=\"#000000\">samples = 2</text>\n<text text-anchor=\"start\" x=\"125\" y=\"-491.3\" font-family=\"Helvetica,sans-Serif\" font-size=\"14.00\" fill=\"#000000\">value = [2, 0]</text>\n<text text-anchor=\"start\" x=\"136\" y=\"-476.3\" font-family=\"Helvetica,sans-Serif\" font-size=\"14.00\" fill=\"#000000\">class = D</text>\n</g>\n<!-- 5&#45;&gt;7 -->\n<g id=\"edge7\" class=\"edge\">\n<title>5&#45;&gt;7</title>\n<path fill=\"none\" stroke=\"#000000\" d=\"M166.5,-579.8796C166.5,-569.2134 166.5,-557.7021 166.5,-546.9015\"/>\n<polygon fill=\"#000000\" stroke=\"#000000\" points=\"170.0001,-546.8149 166.5,-536.8149 163.0001,-546.815 170.0001,-546.8149\"/>\n</g>\n<!-- 10 -->\n<g id=\"node11\" class=\"node\">\n<title>10</title>\n<path fill=\"#e58139\" fill-opacity=\"0.800000\" stroke=\"#000000\" d=\"M551,-782C551,-782 476,-782 476,-782 470,-782 464,-776 464,-770 464,-770 464,-711 464,-711 464,-705 470,-699 476,-699 476,-699 551,-699 551,-699 557,-699 563,-705 563,-711 563,-711 563,-770 563,-770 563,-776 557,-782 551,-782\"/>\n<text text-anchor=\"start\" x=\"486.5\" y=\"-766.8\" font-family=\"Helvetica,sans-Serif\" font-size=\"14.00\" fill=\"#000000\">X1 ≤ 3.5</text>\n<text text-anchor=\"start\" x=\"475.5\" y=\"-751.8\" font-family=\"Helvetica,sans-Serif\" font-size=\"14.00\" fill=\"#000000\">gini = 0.278</text>\n<text text-anchor=\"start\" x=\"474\" y=\"-736.8\" font-family=\"Helvetica,sans-Serif\" font-size=\"14.00\" fill=\"#000000\">samples = 6</text>\n<text text-anchor=\"start\" x=\"472\" y=\"-721.8\" font-family=\"Helvetica,sans-Serif\" font-size=\"14.00\" fill=\"#000000\">value = [5, 1]</text>\n<text text-anchor=\"start\" x=\"483\" y=\"-706.8\" font-family=\"Helvetica,sans-Serif\" font-size=\"14.00\" fill=\"#000000\">class = D</text>\n</g>\n<!-- 9&#45;&gt;10 -->\n<g id=\"edge10\" class=\"edge\">\n<title>9&#45;&gt;10</title>\n<path fill=\"none\" stroke=\"#000000\" d=\"M554.4657,-817.8796C549.936,-809.3236 545.1185,-800.2238 540.4382,-791.3833\"/>\n<polygon fill=\"#000000\" stroke=\"#000000\" points=\"543.4006,-789.4983 535.6284,-782.2981 537.2141,-792.7736 543.4006,-789.4983\"/>\n</g>\n<!-- 15 -->\n<g id=\"node16\" class=\"node\">\n<title>15</title>\n<path fill=\"#399de5\" fill-opacity=\"0.286275\" stroke=\"#000000\" d=\"M685.5,-782C685.5,-782 593.5,-782 593.5,-782 587.5,-782 581.5,-776 581.5,-770 581.5,-770 581.5,-711 581.5,-711 581.5,-705 587.5,-699 593.5,-699 593.5,-699 685.5,-699 685.5,-699 691.5,-699 697.5,-705 697.5,-711 697.5,-711 697.5,-770 697.5,-770 697.5,-776 691.5,-782 685.5,-782\"/>\n<text text-anchor=\"start\" x=\"612.5\" y=\"-766.8\" font-family=\"Helvetica,sans-Serif\" font-size=\"14.00\" fill=\"#000000\">X5 ≤ 2.5</text>\n<text text-anchor=\"start\" x=\"601.5\" y=\"-751.8\" font-family=\"Helvetica,sans-Serif\" font-size=\"14.00\" fill=\"#000000\">gini = 0.486</text>\n<text text-anchor=\"start\" x=\"595.5\" y=\"-736.8\" font-family=\"Helvetica,sans-Serif\" font-size=\"14.00\" fill=\"#000000\">samples = 24</text>\n<text text-anchor=\"start\" x=\"589.5\" y=\"-721.8\" font-family=\"Helvetica,sans-Serif\" font-size=\"14.00\" fill=\"#000000\">value = [10, 14]</text>\n<text text-anchor=\"start\" x=\"610.5\" y=\"-706.8\" font-family=\"Helvetica,sans-Serif\" font-size=\"14.00\" fill=\"#000000\">class = 1</text>\n</g>\n<!-- 9&#45;&gt;15 -->\n<g id=\"edge15\" class=\"edge\">\n<title>9&#45;&gt;15</title>\n<path fill=\"none\" stroke=\"#000000\" d=\"M598.5343,-817.8796C603.064,-809.3236 607.8815,-800.2238 612.5618,-791.3833\"/>\n<polygon fill=\"#000000\" stroke=\"#000000\" points=\"615.7859,-792.7736 617.3716,-782.2981 609.5994,-789.4983 615.7859,-792.7736\"/>\n</g>\n<!-- 11 -->\n<g id=\"node12\" class=\"node\">\n<title>11</title>\n<path fill=\"transparent\" stroke=\"#000000\" d=\"M438,-663C438,-663 363,-663 363,-663 357,-663 351,-657 351,-651 351,-651 351,-592 351,-592 351,-586 357,-580 363,-580 363,-580 438,-580 438,-580 444,-580 450,-586 450,-592 450,-592 450,-651 450,-651 450,-657 444,-663 438,-663\"/>\n<text text-anchor=\"start\" x=\"373.5\" y=\"-647.8\" font-family=\"Helvetica,sans-Serif\" font-size=\"14.00\" fill=\"#000000\">X5 ≤ 2.0</text>\n<text text-anchor=\"start\" x=\"371\" y=\"-632.8\" font-family=\"Helvetica,sans-Serif\" font-size=\"14.00\" fill=\"#000000\">gini = 0.5</text>\n<text text-anchor=\"start\" x=\"361\" y=\"-617.8\" font-family=\"Helvetica,sans-Serif\" font-size=\"14.00\" fill=\"#000000\">samples = 2</text>\n<text text-anchor=\"start\" x=\"359\" y=\"-602.8\" font-family=\"Helvetica,sans-Serif\" font-size=\"14.00\" fill=\"#000000\">value = [1, 1]</text>\n<text text-anchor=\"start\" x=\"370\" y=\"-587.8\" font-family=\"Helvetica,sans-Serif\" font-size=\"14.00\" fill=\"#000000\">class = D</text>\n</g>\n<!-- 10&#45;&gt;11 -->\n<g id=\"edge11\" class=\"edge\">\n<title>10&#45;&gt;11</title>\n<path fill=\"none\" stroke=\"#000000\" d=\"M473.9781,-698.8796C465.3403,-689.7832 456.119,-680.0722 447.2303,-670.7116\"/>\n<polygon fill=\"#000000\" stroke=\"#000000\" points=\"449.6146,-668.1395 440.1906,-663.2981 444.5385,-672.9597 449.6146,-668.1395\"/>\n</g>\n<!-- 14 -->\n<g id=\"node15\" class=\"node\">\n<title>14</title>\n<path fill=\"#e58139\" stroke=\"#000000\" d=\"M555,-655.5C555,-655.5 480,-655.5 480,-655.5 474,-655.5 468,-649.5 468,-643.5 468,-643.5 468,-599.5 468,-599.5 468,-593.5 474,-587.5 480,-587.5 480,-587.5 555,-587.5 555,-587.5 561,-587.5 567,-593.5 567,-599.5 567,-599.5 567,-643.5 567,-643.5 567,-649.5 561,-655.5 555,-655.5\"/>\n<text text-anchor=\"start\" x=\"488\" y=\"-640.3\" font-family=\"Helvetica,sans-Serif\" font-size=\"14.00\" fill=\"#000000\">gini = 0.0</text>\n<text text-anchor=\"start\" x=\"478\" y=\"-625.3\" font-family=\"Helvetica,sans-Serif\" font-size=\"14.00\" fill=\"#000000\">samples = 4</text>\n<text text-anchor=\"start\" x=\"476\" y=\"-610.3\" font-family=\"Helvetica,sans-Serif\" font-size=\"14.00\" fill=\"#000000\">value = [4, 0]</text>\n<text text-anchor=\"start\" x=\"487\" y=\"-595.3\" font-family=\"Helvetica,sans-Serif\" font-size=\"14.00\" fill=\"#000000\">class = D</text>\n</g>\n<!-- 10&#45;&gt;14 -->\n<g id=\"edge14\" class=\"edge\">\n<title>10&#45;&gt;14</title>\n<path fill=\"none\" stroke=\"#000000\" d=\"M514.899,-698.8796C515.2575,-688.2134 515.6445,-676.7021 516.0075,-665.9015\"/>\n<polygon fill=\"#000000\" stroke=\"#000000\" points=\"519.5085,-665.9269 516.3466,-655.8149 512.5125,-665.6917 519.5085,-665.9269\"/>\n</g>\n<!-- 12 -->\n<g id=\"node13\" class=\"node\">\n<title>12</title>\n<path fill=\"#e58139\" stroke=\"#000000\" d=\"M321,-536.5C321,-536.5 246,-536.5 246,-536.5 240,-536.5 234,-530.5 234,-524.5 234,-524.5 234,-480.5 234,-480.5 234,-474.5 240,-468.5 246,-468.5 246,-468.5 321,-468.5 321,-468.5 327,-468.5 333,-474.5 333,-480.5 333,-480.5 333,-524.5 333,-524.5 333,-530.5 327,-536.5 321,-536.5\"/>\n<text text-anchor=\"start\" x=\"254\" y=\"-521.3\" font-family=\"Helvetica,sans-Serif\" font-size=\"14.00\" fill=\"#000000\">gini = 0.0</text>\n<text text-anchor=\"start\" x=\"244\" y=\"-506.3\" font-family=\"Helvetica,sans-Serif\" font-size=\"14.00\" fill=\"#000000\">samples = 1</text>\n<text text-anchor=\"start\" x=\"242\" y=\"-491.3\" font-family=\"Helvetica,sans-Serif\" font-size=\"14.00\" fill=\"#000000\">value = [1, 0]</text>\n<text text-anchor=\"start\" x=\"253\" y=\"-476.3\" font-family=\"Helvetica,sans-Serif\" font-size=\"14.00\" fill=\"#000000\">class = D</text>\n</g>\n<!-- 11&#45;&gt;12 -->\n<g id=\"edge12\" class=\"edge\">\n<title>11&#45;&gt;12</title>\n<path fill=\"none\" stroke=\"#000000\" d=\"M359.5791,-579.8796C348.2272,-568.3337 335.9018,-555.7976 324.543,-544.2446\"/>\n<polygon fill=\"#000000\" stroke=\"#000000\" points=\"326.7449,-541.4919 317.2382,-536.8149 321.7534,-546.3995 326.7449,-541.4919\"/>\n</g>\n<!-- 13 -->\n<g id=\"node14\" class=\"node\">\n<title>13</title>\n<path fill=\"#399de5\" stroke=\"#000000\" d=\"M438,-536.5C438,-536.5 363,-536.5 363,-536.5 357,-536.5 351,-530.5 351,-524.5 351,-524.5 351,-480.5 351,-480.5 351,-474.5 357,-468.5 363,-468.5 363,-468.5 438,-468.5 438,-468.5 444,-468.5 450,-474.5 450,-480.5 450,-480.5 450,-524.5 450,-524.5 450,-530.5 444,-536.5 438,-536.5\"/>\n<text text-anchor=\"start\" x=\"371\" y=\"-521.3\" font-family=\"Helvetica,sans-Serif\" font-size=\"14.00\" fill=\"#000000\">gini = 0.0</text>\n<text text-anchor=\"start\" x=\"361\" y=\"-506.3\" font-family=\"Helvetica,sans-Serif\" font-size=\"14.00\" fill=\"#000000\">samples = 1</text>\n<text text-anchor=\"start\" x=\"359\" y=\"-491.3\" font-family=\"Helvetica,sans-Serif\" font-size=\"14.00\" fill=\"#000000\">value = [0, 1]</text>\n<text text-anchor=\"start\" x=\"371.5\" y=\"-476.3\" font-family=\"Helvetica,sans-Serif\" font-size=\"14.00\" fill=\"#000000\">class = 1</text>\n</g>\n<!-- 11&#45;&gt;13 -->\n<g id=\"edge13\" class=\"edge\">\n<title>11&#45;&gt;13</title>\n<path fill=\"none\" stroke=\"#000000\" d=\"M400.5,-579.8796C400.5,-569.2134 400.5,-557.7021 400.5,-546.9015\"/>\n<polygon fill=\"#000000\" stroke=\"#000000\" points=\"404.0001,-546.8149 400.5,-536.8149 397.0001,-546.815 404.0001,-546.8149\"/>\n</g>\n<!-- 16 -->\n<g id=\"node17\" class=\"node\">\n<title>16</title>\n<path fill=\"#e58139\" fill-opacity=\"0.498039\" stroke=\"#000000\" d=\"M672,-663C672,-663 597,-663 597,-663 591,-663 585,-657 585,-651 585,-651 585,-592 585,-592 585,-586 591,-580 597,-580 597,-580 672,-580 672,-580 678,-580 684,-586 684,-592 684,-592 684,-651 684,-651 684,-657 678,-663 672,-663\"/>\n<text text-anchor=\"start\" x=\"607.5\" y=\"-647.8\" font-family=\"Helvetica,sans-Serif\" font-size=\"14.00\" fill=\"#000000\">X2 ≤ 3.5</text>\n<text text-anchor=\"start\" x=\"596.5\" y=\"-632.8\" font-family=\"Helvetica,sans-Serif\" font-size=\"14.00\" fill=\"#000000\">gini = 0.444</text>\n<text text-anchor=\"start\" x=\"595\" y=\"-617.8\" font-family=\"Helvetica,sans-Serif\" font-size=\"14.00\" fill=\"#000000\">samples = 6</text>\n<text text-anchor=\"start\" x=\"593\" y=\"-602.8\" font-family=\"Helvetica,sans-Serif\" font-size=\"14.00\" fill=\"#000000\">value = [4, 2]</text>\n<text text-anchor=\"start\" x=\"604\" y=\"-587.8\" font-family=\"Helvetica,sans-Serif\" font-size=\"14.00\" fill=\"#000000\">class = D</text>\n</g>\n<!-- 15&#45;&gt;16 -->\n<g id=\"edge16\" class=\"edge\">\n<title>15&#45;&gt;16</title>\n<path fill=\"none\" stroke=\"#000000\" d=\"M637.7512,-698.8796C637.4069,-690.6838 637.0416,-681.9891 636.6849,-673.5013\"/>\n<polygon fill=\"#000000\" stroke=\"#000000\" points=\"640.173,-673.1423 636.2562,-663.2981 633.1792,-673.4362 640.173,-673.1423\"/>\n</g>\n<!-- 21 -->\n<g id=\"node22\" class=\"node\">\n<title>21</title>\n<path fill=\"#399de5\" fill-opacity=\"0.498039\" stroke=\"#000000\" d=\"M824,-663C824,-663 741,-663 741,-663 735,-663 729,-657 729,-651 729,-651 729,-592 729,-592 729,-586 735,-580 741,-580 741,-580 824,-580 824,-580 830,-580 836,-586 836,-592 836,-592 836,-651 836,-651 836,-657 830,-663 824,-663\"/>\n<text text-anchor=\"start\" x=\"755.5\" y=\"-647.8\" font-family=\"Helvetica,sans-Serif\" font-size=\"14.00\" fill=\"#000000\">X4 ≤ 3.5</text>\n<text text-anchor=\"start\" x=\"744.5\" y=\"-632.8\" font-family=\"Helvetica,sans-Serif\" font-size=\"14.00\" fill=\"#000000\">gini = 0.444</text>\n<text text-anchor=\"start\" x=\"738.5\" y=\"-617.8\" font-family=\"Helvetica,sans-Serif\" font-size=\"14.00\" fill=\"#000000\">samples = 18</text>\n<text text-anchor=\"start\" x=\"737\" y=\"-602.8\" font-family=\"Helvetica,sans-Serif\" font-size=\"14.00\" fill=\"#000000\">value = [6, 12]</text>\n<text text-anchor=\"start\" x=\"753.5\" y=\"-587.8\" font-family=\"Helvetica,sans-Serif\" font-size=\"14.00\" fill=\"#000000\">class = 1</text>\n</g>\n<!-- 15&#45;&gt;21 -->\n<g id=\"edge21\" class=\"edge\">\n<title>15&#45;&gt;21</title>\n<path fill=\"none\" stroke=\"#000000\" d=\"M689.5145,-698.8796C700.7701,-689.513 712.8088,-679.4948 724.3646,-669.8784\"/>\n<polygon fill=\"#000000\" stroke=\"#000000\" points=\"726.8242,-672.385 732.2721,-663.2981 722.3466,-667.0043 726.8242,-672.385\"/>\n</g>\n<!-- 17 -->\n<g id=\"node18\" class=\"node\">\n<title>17</title>\n<path fill=\"#e58139\" stroke=\"#000000\" d=\"M555,-536.5C555,-536.5 480,-536.5 480,-536.5 474,-536.5 468,-530.5 468,-524.5 468,-524.5 468,-480.5 468,-480.5 468,-474.5 474,-468.5 480,-468.5 480,-468.5 555,-468.5 555,-468.5 561,-468.5 567,-474.5 567,-480.5 567,-480.5 567,-524.5 567,-524.5 567,-530.5 561,-536.5 555,-536.5\"/>\n<text text-anchor=\"start\" x=\"488\" y=\"-521.3\" font-family=\"Helvetica,sans-Serif\" font-size=\"14.00\" fill=\"#000000\">gini = 0.0</text>\n<text text-anchor=\"start\" x=\"478\" y=\"-506.3\" font-family=\"Helvetica,sans-Serif\" font-size=\"14.00\" fill=\"#000000\">samples = 3</text>\n<text text-anchor=\"start\" x=\"476\" y=\"-491.3\" font-family=\"Helvetica,sans-Serif\" font-size=\"14.00\" fill=\"#000000\">value = [3, 0]</text>\n<text text-anchor=\"start\" x=\"487\" y=\"-476.3\" font-family=\"Helvetica,sans-Serif\" font-size=\"14.00\" fill=\"#000000\">class = D</text>\n</g>\n<!-- 16&#45;&gt;17 -->\n<g id=\"edge17\" class=\"edge\">\n<title>16&#45;&gt;17</title>\n<path fill=\"none\" stroke=\"#000000\" d=\"M593.5791,-579.8796C582.2272,-568.3337 569.9018,-555.7976 558.543,-544.2446\"/>\n<polygon fill=\"#000000\" stroke=\"#000000\" points=\"560.7449,-541.4919 551.2382,-536.8149 555.7534,-546.3995 560.7449,-541.4919\"/>\n</g>\n<!-- 18 -->\n<g id=\"node19\" class=\"node\">\n<title>18</title>\n<path fill=\"#399de5\" fill-opacity=\"0.498039\" stroke=\"#000000\" d=\"M672,-544C672,-544 597,-544 597,-544 591,-544 585,-538 585,-532 585,-532 585,-473 585,-473 585,-467 591,-461 597,-461 597,-461 672,-461 672,-461 678,-461 684,-467 684,-473 684,-473 684,-532 684,-532 684,-538 678,-544 672,-544\"/>\n<text text-anchor=\"start\" x=\"607.5\" y=\"-528.8\" font-family=\"Helvetica,sans-Serif\" font-size=\"14.00\" fill=\"#000000\">X1 ≤ 3.5</text>\n<text text-anchor=\"start\" x=\"596.5\" y=\"-513.8\" font-family=\"Helvetica,sans-Serif\" font-size=\"14.00\" fill=\"#000000\">gini = 0.444</text>\n<text text-anchor=\"start\" x=\"595\" y=\"-498.8\" font-family=\"Helvetica,sans-Serif\" font-size=\"14.00\" fill=\"#000000\">samples = 3</text>\n<text text-anchor=\"start\" x=\"593\" y=\"-483.8\" font-family=\"Helvetica,sans-Serif\" font-size=\"14.00\" fill=\"#000000\">value = [1, 2]</text>\n<text text-anchor=\"start\" x=\"605.5\" y=\"-468.8\" font-family=\"Helvetica,sans-Serif\" font-size=\"14.00\" fill=\"#000000\">class = 1</text>\n</g>\n<!-- 16&#45;&gt;18 -->\n<g id=\"edge18\" class=\"edge\">\n<title>16&#45;&gt;18</title>\n<path fill=\"none\" stroke=\"#000000\" d=\"M634.5,-579.8796C634.5,-571.6838 634.5,-562.9891 634.5,-554.5013\"/>\n<polygon fill=\"#000000\" stroke=\"#000000\" points=\"638.0001,-554.298 634.5,-544.2981 631.0001,-554.2981 638.0001,-554.298\"/>\n</g>\n<!-- 19 -->\n<g id=\"node20\" class=\"node\">\n<title>19</title>\n<path fill=\"#e58139\" stroke=\"#000000\" d=\"M527,-417.5C527,-417.5 452,-417.5 452,-417.5 446,-417.5 440,-411.5 440,-405.5 440,-405.5 440,-361.5 440,-361.5 440,-355.5 446,-349.5 452,-349.5 452,-349.5 527,-349.5 527,-349.5 533,-349.5 539,-355.5 539,-361.5 539,-361.5 539,-405.5 539,-405.5 539,-411.5 533,-417.5 527,-417.5\"/>\n<text text-anchor=\"start\" x=\"460\" y=\"-402.3\" font-family=\"Helvetica,sans-Serif\" font-size=\"14.00\" fill=\"#000000\">gini = 0.0</text>\n<text text-anchor=\"start\" x=\"450\" y=\"-387.3\" font-family=\"Helvetica,sans-Serif\" font-size=\"14.00\" fill=\"#000000\">samples = 1</text>\n<text text-anchor=\"start\" x=\"448\" y=\"-372.3\" font-family=\"Helvetica,sans-Serif\" font-size=\"14.00\" fill=\"#000000\">value = [1, 0]</text>\n<text text-anchor=\"start\" x=\"459\" y=\"-357.3\" font-family=\"Helvetica,sans-Serif\" font-size=\"14.00\" fill=\"#000000\">class = D</text>\n</g>\n<!-- 18&#45;&gt;19 -->\n<g id=\"edge19\" class=\"edge\">\n<title>18&#45;&gt;19</title>\n<path fill=\"none\" stroke=\"#000000\" d=\"M584.5992,-461.547C569.9457,-449.5209 553.9236,-436.3718 539.2777,-424.3521\"/>\n<polygon fill=\"#000000\" stroke=\"#000000\" points=\"541.2507,-421.4434 531.3002,-417.805 536.8098,-426.8545 541.2507,-421.4434\"/>\n</g>\n<!-- 20 -->\n<g id=\"node21\" class=\"node\">\n<title>20</title>\n<path fill=\"#399de5\" stroke=\"#000000\" d=\"M644,-417.5C644,-417.5 569,-417.5 569,-417.5 563,-417.5 557,-411.5 557,-405.5 557,-405.5 557,-361.5 557,-361.5 557,-355.5 563,-349.5 569,-349.5 569,-349.5 644,-349.5 644,-349.5 650,-349.5 656,-355.5 656,-361.5 656,-361.5 656,-405.5 656,-405.5 656,-411.5 650,-417.5 644,-417.5\"/>\n<text text-anchor=\"start\" x=\"577\" y=\"-402.3\" font-family=\"Helvetica,sans-Serif\" font-size=\"14.00\" fill=\"#000000\">gini = 0.0</text>\n<text text-anchor=\"start\" x=\"567\" y=\"-387.3\" font-family=\"Helvetica,sans-Serif\" font-size=\"14.00\" fill=\"#000000\">samples = 2</text>\n<text text-anchor=\"start\" x=\"565\" y=\"-372.3\" font-family=\"Helvetica,sans-Serif\" font-size=\"14.00\" fill=\"#000000\">value = [0, 2]</text>\n<text text-anchor=\"start\" x=\"577.5\" y=\"-357.3\" font-family=\"Helvetica,sans-Serif\" font-size=\"14.00\" fill=\"#000000\">class = 1</text>\n</g>\n<!-- 18&#45;&gt;20 -->\n<g id=\"edge20\" class=\"edge\">\n<title>18&#45;&gt;20</title>\n<path fill=\"none\" stroke=\"#000000\" d=\"M624.707,-460.8796C622.1714,-450.1034 619.4329,-438.4647 616.8689,-427.5677\"/>\n<polygon fill=\"#000000\" stroke=\"#000000\" points=\"620.2715,-426.7474 614.5741,-417.8149 613.4576,-428.3508 620.2715,-426.7474\"/>\n</g>\n<!-- 22 -->\n<g id=\"node23\" class=\"node\">\n<title>22</title>\n<path fill=\"transparent\" stroke=\"#000000\" d=\"M820,-544C820,-544 745,-544 745,-544 739,-544 733,-538 733,-532 733,-532 733,-473 733,-473 733,-467 739,-461 745,-461 745,-461 820,-461 820,-461 826,-461 832,-467 832,-473 832,-473 832,-532 832,-532 832,-538 826,-544 820,-544\"/>\n<text text-anchor=\"start\" x=\"755.5\" y=\"-528.8\" font-family=\"Helvetica,sans-Serif\" font-size=\"14.00\" fill=\"#000000\">X3 ≤ 2.0</text>\n<text text-anchor=\"start\" x=\"753\" y=\"-513.8\" font-family=\"Helvetica,sans-Serif\" font-size=\"14.00\" fill=\"#000000\">gini = 0.5</text>\n<text text-anchor=\"start\" x=\"743\" y=\"-498.8\" font-family=\"Helvetica,sans-Serif\" font-size=\"14.00\" fill=\"#000000\">samples = 6</text>\n<text text-anchor=\"start\" x=\"741\" y=\"-483.8\" font-family=\"Helvetica,sans-Serif\" font-size=\"14.00\" fill=\"#000000\">value = [3, 3]</text>\n<text text-anchor=\"start\" x=\"752\" y=\"-468.8\" font-family=\"Helvetica,sans-Serif\" font-size=\"14.00\" fill=\"#000000\">class = D</text>\n</g>\n<!-- 21&#45;&gt;22 -->\n<g id=\"edge22\" class=\"edge\">\n<title>21&#45;&gt;22</title>\n<path fill=\"none\" stroke=\"#000000\" d=\"M782.5,-579.8796C782.5,-571.6838 782.5,-562.9891 782.5,-554.5013\"/>\n<polygon fill=\"#000000\" stroke=\"#000000\" points=\"786.0001,-554.298 782.5,-544.2981 779.0001,-554.2981 786.0001,-554.298\"/>\n</g>\n<!-- 27 -->\n<g id=\"node28\" class=\"node\">\n<title>27</title>\n<path fill=\"#399de5\" fill-opacity=\"0.666667\" stroke=\"#000000\" d=\"M997.5,-544C997.5,-544 917.5,-544 917.5,-544 911.5,-544 905.5,-538 905.5,-532 905.5,-532 905.5,-473 905.5,-473 905.5,-467 911.5,-461 917.5,-461 917.5,-461 997.5,-461 997.5,-461 1003.5,-461 1009.5,-467 1009.5,-473 1009.5,-473 1009.5,-532 1009.5,-532 1009.5,-538 1003.5,-544 997.5,-544\"/>\n<text text-anchor=\"start\" x=\"930.5\" y=\"-528.8\" font-family=\"Helvetica,sans-Serif\" font-size=\"14.00\" fill=\"#000000\">X5 ≤ 3.5</text>\n<text text-anchor=\"start\" x=\"919.5\" y=\"-513.8\" font-family=\"Helvetica,sans-Serif\" font-size=\"14.00\" fill=\"#000000\">gini = 0.375</text>\n<text text-anchor=\"start\" x=\"913.5\" y=\"-498.8\" font-family=\"Helvetica,sans-Serif\" font-size=\"14.00\" fill=\"#000000\">samples = 12</text>\n<text text-anchor=\"start\" x=\"916\" y=\"-483.8\" font-family=\"Helvetica,sans-Serif\" font-size=\"14.00\" fill=\"#000000\">value = [3, 9]</text>\n<text text-anchor=\"start\" x=\"928.5\" y=\"-468.8\" font-family=\"Helvetica,sans-Serif\" font-size=\"14.00\" fill=\"#000000\">class = 1</text>\n</g>\n<!-- 21&#45;&gt;27 -->\n<g id=\"edge27\" class=\"edge\">\n<title>21&#45;&gt;27</title>\n<path fill=\"none\" stroke=\"#000000\" d=\"M836.4337,-584.8251C855.5904,-571.7986 877.2771,-557.0516 896.9497,-543.6742\"/>\n<polygon fill=\"#000000\" stroke=\"#000000\" points=\"898.943,-546.5513 905.2442,-538.0339 895.0068,-540.7628 898.943,-546.5513\"/>\n</g>\n<!-- 23 -->\n<g id=\"node24\" class=\"node\">\n<title>23</title>\n<path fill=\"#399de5\" stroke=\"#000000\" d=\"M761,-417.5C761,-417.5 686,-417.5 686,-417.5 680,-417.5 674,-411.5 674,-405.5 674,-405.5 674,-361.5 674,-361.5 674,-355.5 680,-349.5 686,-349.5 686,-349.5 761,-349.5 761,-349.5 767,-349.5 773,-355.5 773,-361.5 773,-361.5 773,-405.5 773,-405.5 773,-411.5 767,-417.5 761,-417.5\"/>\n<text text-anchor=\"start\" x=\"694\" y=\"-402.3\" font-family=\"Helvetica,sans-Serif\" font-size=\"14.00\" fill=\"#000000\">gini = 0.0</text>\n<text text-anchor=\"start\" x=\"684\" y=\"-387.3\" font-family=\"Helvetica,sans-Serif\" font-size=\"14.00\" fill=\"#000000\">samples = 1</text>\n<text text-anchor=\"start\" x=\"682\" y=\"-372.3\" font-family=\"Helvetica,sans-Serif\" font-size=\"14.00\" fill=\"#000000\">value = [0, 1]</text>\n<text text-anchor=\"start\" x=\"694.5\" y=\"-357.3\" font-family=\"Helvetica,sans-Serif\" font-size=\"14.00\" fill=\"#000000\">class = 1</text>\n</g>\n<!-- 22&#45;&gt;23 -->\n<g id=\"edge23\" class=\"edge\">\n<title>22&#45;&gt;23</title>\n<path fill=\"none\" stroke=\"#000000\" d=\"M761.8647,-460.8796C756.4128,-449.8835 750.5157,-437.9893 745.0184,-426.9015\"/>\n<polygon fill=\"#000000\" stroke=\"#000000\" points=\"748.0911,-425.2195 740.5133,-417.8149 741.8196,-428.3289 748.0911,-425.2195\"/>\n</g>\n<!-- 24 -->\n<g id=\"node25\" class=\"node\">\n<title>24</title>\n<path fill=\"#e58139\" fill-opacity=\"0.333333\" stroke=\"#000000\" d=\"M878,-425C878,-425 803,-425 803,-425 797,-425 791,-419 791,-413 791,-413 791,-354 791,-354 791,-348 797,-342 803,-342 803,-342 878,-342 878,-342 884,-342 890,-348 890,-354 890,-354 890,-413 890,-413 890,-419 884,-425 878,-425\"/>\n<text text-anchor=\"start\" x=\"813.5\" y=\"-409.8\" font-family=\"Helvetica,sans-Serif\" font-size=\"14.00\" fill=\"#000000\">X2 ≤ 2.5</text>\n<text text-anchor=\"start\" x=\"807\" y=\"-394.8\" font-family=\"Helvetica,sans-Serif\" font-size=\"14.00\" fill=\"#000000\">gini = 0.48</text>\n<text text-anchor=\"start\" x=\"801\" y=\"-379.8\" font-family=\"Helvetica,sans-Serif\" font-size=\"14.00\" fill=\"#000000\">samples = 5</text>\n<text text-anchor=\"start\" x=\"799\" y=\"-364.8\" font-family=\"Helvetica,sans-Serif\" font-size=\"14.00\" fill=\"#000000\">value = [3, 2]</text>\n<text text-anchor=\"start\" x=\"810\" y=\"-349.8\" font-family=\"Helvetica,sans-Serif\" font-size=\"14.00\" fill=\"#000000\">class = D</text>\n</g>\n<!-- 22&#45;&gt;24 -->\n<g id=\"edge24\" class=\"edge\">\n<title>22&#45;&gt;24</title>\n<path fill=\"none\" stroke=\"#000000\" d=\"M802.7856,-460.8796C806.9557,-452.3236 811.3909,-443.2238 815.6997,-434.3833\"/>\n<polygon fill=\"#000000\" stroke=\"#000000\" points=\"818.8927,-435.8207 820.1278,-425.2981 812.6003,-432.7538 818.8927,-435.8207\"/>\n</g>\n<!-- 25 -->\n<g id=\"node26\" class=\"node\">\n<title>25</title>\n<path fill=\"#399de5\" fill-opacity=\"0.498039\" stroke=\"#000000\" d=\"M768,-298.5C768,-298.5 693,-298.5 693,-298.5 687,-298.5 681,-292.5 681,-286.5 681,-286.5 681,-242.5 681,-242.5 681,-236.5 687,-230.5 693,-230.5 693,-230.5 768,-230.5 768,-230.5 774,-230.5 780,-236.5 780,-242.5 780,-242.5 780,-286.5 780,-286.5 780,-292.5 774,-298.5 768,-298.5\"/>\n<text text-anchor=\"start\" x=\"692.5\" y=\"-283.3\" font-family=\"Helvetica,sans-Serif\" font-size=\"14.00\" fill=\"#000000\">gini = 0.444</text>\n<text text-anchor=\"start\" x=\"691\" y=\"-268.3\" font-family=\"Helvetica,sans-Serif\" font-size=\"14.00\" fill=\"#000000\">samples = 3</text>\n<text text-anchor=\"start\" x=\"689\" y=\"-253.3\" font-family=\"Helvetica,sans-Serif\" font-size=\"14.00\" fill=\"#000000\">value = [1, 2]</text>\n<text text-anchor=\"start\" x=\"701.5\" y=\"-238.3\" font-family=\"Helvetica,sans-Serif\" font-size=\"14.00\" fill=\"#000000\">class = 1</text>\n</g>\n<!-- 24&#45;&gt;25 -->\n<g id=\"edge25\" class=\"edge\">\n<title>24&#45;&gt;25</title>\n<path fill=\"none\" stroke=\"#000000\" d=\"M802.0273,-341.8796C791.3547,-330.3337 779.7667,-317.7976 769.0875,-306.2446\"/>\n<polygon fill=\"#000000\" stroke=\"#000000\" points=\"771.5778,-303.7825 762.2197,-298.8149 766.4375,-308.534 771.5778,-303.7825\"/>\n</g>\n<!-- 26 -->\n<g id=\"node27\" class=\"node\">\n<title>26</title>\n<path fill=\"#e58139\" stroke=\"#000000\" d=\"M885,-298.5C885,-298.5 810,-298.5 810,-298.5 804,-298.5 798,-292.5 798,-286.5 798,-286.5 798,-242.5 798,-242.5 798,-236.5 804,-230.5 810,-230.5 810,-230.5 885,-230.5 885,-230.5 891,-230.5 897,-236.5 897,-242.5 897,-242.5 897,-286.5 897,-286.5 897,-292.5 891,-298.5 885,-298.5\"/>\n<text text-anchor=\"start\" x=\"818\" y=\"-283.3\" font-family=\"Helvetica,sans-Serif\" font-size=\"14.00\" fill=\"#000000\">gini = 0.0</text>\n<text text-anchor=\"start\" x=\"808\" y=\"-268.3\" font-family=\"Helvetica,sans-Serif\" font-size=\"14.00\" fill=\"#000000\">samples = 2</text>\n<text text-anchor=\"start\" x=\"806\" y=\"-253.3\" font-family=\"Helvetica,sans-Serif\" font-size=\"14.00\" fill=\"#000000\">value = [2, 0]</text>\n<text text-anchor=\"start\" x=\"817\" y=\"-238.3\" font-family=\"Helvetica,sans-Serif\" font-size=\"14.00\" fill=\"#000000\">class = D</text>\n</g>\n<!-- 24&#45;&gt;26 -->\n<g id=\"edge26\" class=\"edge\">\n<title>24&#45;&gt;26</title>\n<path fill=\"none\" stroke=\"#000000\" d=\"M842.9483,-341.8796C843.5757,-331.2134 844.2528,-319.7021 844.8881,-308.9015\"/>\n<polygon fill=\"#000000\" stroke=\"#000000\" points=\"848.3881,-309.0032 845.4815,-298.8149 841.4002,-308.5921 848.3881,-309.0032\"/>\n</g>\n<!-- 28 -->\n<g id=\"node29\" class=\"node\">\n<title>28</title>\n<path fill=\"#399de5\" stroke=\"#000000\" d=\"M995,-417.5C995,-417.5 920,-417.5 920,-417.5 914,-417.5 908,-411.5 908,-405.5 908,-405.5 908,-361.5 908,-361.5 908,-355.5 914,-349.5 920,-349.5 920,-349.5 995,-349.5 995,-349.5 1001,-349.5 1007,-355.5 1007,-361.5 1007,-361.5 1007,-405.5 1007,-405.5 1007,-411.5 1001,-417.5 995,-417.5\"/>\n<text text-anchor=\"start\" x=\"928\" y=\"-402.3\" font-family=\"Helvetica,sans-Serif\" font-size=\"14.00\" fill=\"#000000\">gini = 0.0</text>\n<text text-anchor=\"start\" x=\"918\" y=\"-387.3\" font-family=\"Helvetica,sans-Serif\" font-size=\"14.00\" fill=\"#000000\">samples = 3</text>\n<text text-anchor=\"start\" x=\"916\" y=\"-372.3\" font-family=\"Helvetica,sans-Serif\" font-size=\"14.00\" fill=\"#000000\">value = [0, 3]</text>\n<text text-anchor=\"start\" x=\"928.5\" y=\"-357.3\" font-family=\"Helvetica,sans-Serif\" font-size=\"14.00\" fill=\"#000000\">class = 1</text>\n</g>\n<!-- 27&#45;&gt;28 -->\n<g id=\"edge28\" class=\"edge\">\n<title>27&#45;&gt;28</title>\n<path fill=\"none\" stroke=\"#000000\" d=\"M957.5,-460.8796C957.5,-450.2134 957.5,-438.7021 957.5,-427.9015\"/>\n<polygon fill=\"#000000\" stroke=\"#000000\" points=\"961.0001,-427.8149 957.5,-417.8149 954.0001,-427.815 961.0001,-427.8149\"/>\n</g>\n<!-- 29 -->\n<g id=\"node30\" class=\"node\">\n<title>29</title>\n<path fill=\"#399de5\" fill-opacity=\"0.498039\" stroke=\"#000000\" d=\"M1112,-425C1112,-425 1037,-425 1037,-425 1031,-425 1025,-419 1025,-413 1025,-413 1025,-354 1025,-354 1025,-348 1031,-342 1037,-342 1037,-342 1112,-342 1112,-342 1118,-342 1124,-348 1124,-354 1124,-354 1124,-413 1124,-413 1124,-419 1118,-425 1112,-425\"/>\n<text text-anchor=\"start\" x=\"1047.5\" y=\"-409.8\" font-family=\"Helvetica,sans-Serif\" font-size=\"14.00\" fill=\"#000000\">X2 ≤ 2.5</text>\n<text text-anchor=\"start\" x=\"1036.5\" y=\"-394.8\" font-family=\"Helvetica,sans-Serif\" font-size=\"14.00\" fill=\"#000000\">gini = 0.444</text>\n<text text-anchor=\"start\" x=\"1035\" y=\"-379.8\" font-family=\"Helvetica,sans-Serif\" font-size=\"14.00\" fill=\"#000000\">samples = 9</text>\n<text text-anchor=\"start\" x=\"1033\" y=\"-364.8\" font-family=\"Helvetica,sans-Serif\" font-size=\"14.00\" fill=\"#000000\">value = [3, 6]</text>\n<text text-anchor=\"start\" x=\"1045.5\" y=\"-349.8\" font-family=\"Helvetica,sans-Serif\" font-size=\"14.00\" fill=\"#000000\">class = 1</text>\n</g>\n<!-- 27&#45;&gt;29 -->\n<g id=\"edge29\" class=\"edge\">\n<title>27&#45;&gt;29</title>\n<path fill=\"none\" stroke=\"#000000\" d=\"M998.4209,-460.8796C1007.453,-451.6931 1017.1013,-441.8798 1026.3888,-432.4336\"/>\n<polygon fill=\"#000000\" stroke=\"#000000\" points=\"1028.8893,-434.8827 1033.4044,-425.2981 1023.8977,-429.975 1028.8893,-434.8827\"/>\n</g>\n<!-- 30 -->\n<g id=\"node31\" class=\"node\">\n<title>30</title>\n<path fill=\"#399de5\" fill-opacity=\"0.749020\" stroke=\"#000000\" d=\"M1002,-306C1002,-306 927,-306 927,-306 921,-306 915,-300 915,-294 915,-294 915,-235 915,-235 915,-229 921,-223 927,-223 927,-223 1002,-223 1002,-223 1008,-223 1014,-229 1014,-235 1014,-235 1014,-294 1014,-294 1014,-300 1008,-306 1002,-306\"/>\n<text text-anchor=\"start\" x=\"937.5\" y=\"-290.8\" font-family=\"Helvetica,sans-Serif\" font-size=\"14.00\" fill=\"#000000\">X6 ≤ 4.5</text>\n<text text-anchor=\"start\" x=\"931\" y=\"-275.8\" font-family=\"Helvetica,sans-Serif\" font-size=\"14.00\" fill=\"#000000\">gini = 0.32</text>\n<text text-anchor=\"start\" x=\"925\" y=\"-260.8\" font-family=\"Helvetica,sans-Serif\" font-size=\"14.00\" fill=\"#000000\">samples = 5</text>\n<text text-anchor=\"start\" x=\"923\" y=\"-245.8\" font-family=\"Helvetica,sans-Serif\" font-size=\"14.00\" fill=\"#000000\">value = [1, 4]</text>\n<text text-anchor=\"start\" x=\"935.5\" y=\"-230.8\" font-family=\"Helvetica,sans-Serif\" font-size=\"14.00\" fill=\"#000000\">class = 1</text>\n</g>\n<!-- 29&#45;&gt;30 -->\n<g id=\"edge30\" class=\"edge\">\n<title>29&#45;&gt;30</title>\n<path fill=\"none\" stroke=\"#000000\" d=\"M1036.0273,-341.8796C1027.6189,-332.7832 1018.6424,-323.0722 1009.9897,-313.7116\"/>\n<polygon fill=\"#000000\" stroke=\"#000000\" points=\"1012.495,-311.2656 1003.1369,-306.2981 1007.3547,-316.0172 1012.495,-311.2656\"/>\n</g>\n<!-- 33 -->\n<g id=\"node34\" class=\"node\">\n<title>33</title>\n<path fill=\"transparent\" stroke=\"#000000\" d=\"M1119,-306C1119,-306 1044,-306 1044,-306 1038,-306 1032,-300 1032,-294 1032,-294 1032,-235 1032,-235 1032,-229 1038,-223 1044,-223 1044,-223 1119,-223 1119,-223 1125,-223 1131,-229 1131,-235 1131,-235 1131,-294 1131,-294 1131,-300 1125,-306 1119,-306\"/>\n<text text-anchor=\"start\" x=\"1054.5\" y=\"-290.8\" font-family=\"Helvetica,sans-Serif\" font-size=\"14.00\" fill=\"#000000\">X1 ≤ 3.5</text>\n<text text-anchor=\"start\" x=\"1052\" y=\"-275.8\" font-family=\"Helvetica,sans-Serif\" font-size=\"14.00\" fill=\"#000000\">gini = 0.5</text>\n<text text-anchor=\"start\" x=\"1042\" y=\"-260.8\" font-family=\"Helvetica,sans-Serif\" font-size=\"14.00\" fill=\"#000000\">samples = 4</text>\n<text text-anchor=\"start\" x=\"1040\" y=\"-245.8\" font-family=\"Helvetica,sans-Serif\" font-size=\"14.00\" fill=\"#000000\">value = [2, 2]</text>\n<text text-anchor=\"start\" x=\"1051\" y=\"-230.8\" font-family=\"Helvetica,sans-Serif\" font-size=\"14.00\" fill=\"#000000\">class = D</text>\n</g>\n<!-- 29&#45;&gt;33 -->\n<g id=\"edge33\" class=\"edge\">\n<title>29&#45;&gt;33</title>\n<path fill=\"none\" stroke=\"#000000\" d=\"M1076.9483,-341.8796C1077.4304,-333.6838 1077.9418,-324.9891 1078.4411,-316.5013\"/>\n<polygon fill=\"#000000\" stroke=\"#000000\" points=\"1081.9479,-316.4864 1079.0413,-306.2981 1074.96,-316.0753 1081.9479,-316.4864\"/>\n</g>\n<!-- 31 -->\n<g id=\"node32\" class=\"node\">\n<title>31</title>\n<path fill=\"transparent\" stroke=\"#000000\" d=\"M885,-179.5C885,-179.5 810,-179.5 810,-179.5 804,-179.5 798,-173.5 798,-167.5 798,-167.5 798,-123.5 798,-123.5 798,-117.5 804,-111.5 810,-111.5 810,-111.5 885,-111.5 885,-111.5 891,-111.5 897,-117.5 897,-123.5 897,-123.5 897,-167.5 897,-167.5 897,-173.5 891,-179.5 885,-179.5\"/>\n<text text-anchor=\"start\" x=\"818\" y=\"-164.3\" font-family=\"Helvetica,sans-Serif\" font-size=\"14.00\" fill=\"#000000\">gini = 0.5</text>\n<text text-anchor=\"start\" x=\"808\" y=\"-149.3\" font-family=\"Helvetica,sans-Serif\" font-size=\"14.00\" fill=\"#000000\">samples = 2</text>\n<text text-anchor=\"start\" x=\"806\" y=\"-134.3\" font-family=\"Helvetica,sans-Serif\" font-size=\"14.00\" fill=\"#000000\">value = [1, 1]</text>\n<text text-anchor=\"start\" x=\"817\" y=\"-119.3\" font-family=\"Helvetica,sans-Serif\" font-size=\"14.00\" fill=\"#000000\">class = D</text>\n</g>\n<!-- 30&#45;&gt;31 -->\n<g id=\"edge31\" class=\"edge\">\n<title>30&#45;&gt;31</title>\n<path fill=\"none\" stroke=\"#000000\" d=\"M923.5791,-222.8796C912.2272,-211.3337 899.9018,-198.7976 888.543,-187.2446\"/>\n<polygon fill=\"#000000\" stroke=\"#000000\" points=\"890.7449,-184.4919 881.2382,-179.8149 885.7534,-189.3995 890.7449,-184.4919\"/>\n</g>\n<!-- 32 -->\n<g id=\"node33\" class=\"node\">\n<title>32</title>\n<path fill=\"#399de5\" stroke=\"#000000\" d=\"M1002,-179.5C1002,-179.5 927,-179.5 927,-179.5 921,-179.5 915,-173.5 915,-167.5 915,-167.5 915,-123.5 915,-123.5 915,-117.5 921,-111.5 927,-111.5 927,-111.5 1002,-111.5 1002,-111.5 1008,-111.5 1014,-117.5 1014,-123.5 1014,-123.5 1014,-167.5 1014,-167.5 1014,-173.5 1008,-179.5 1002,-179.5\"/>\n<text text-anchor=\"start\" x=\"935\" y=\"-164.3\" font-family=\"Helvetica,sans-Serif\" font-size=\"14.00\" fill=\"#000000\">gini = 0.0</text>\n<text text-anchor=\"start\" x=\"925\" y=\"-149.3\" font-family=\"Helvetica,sans-Serif\" font-size=\"14.00\" fill=\"#000000\">samples = 3</text>\n<text text-anchor=\"start\" x=\"923\" y=\"-134.3\" font-family=\"Helvetica,sans-Serif\" font-size=\"14.00\" fill=\"#000000\">value = [0, 3]</text>\n<text text-anchor=\"start\" x=\"935.5\" y=\"-119.3\" font-family=\"Helvetica,sans-Serif\" font-size=\"14.00\" fill=\"#000000\">class = 1</text>\n</g>\n<!-- 30&#45;&gt;32 -->\n<g id=\"edge32\" class=\"edge\">\n<title>30&#45;&gt;32</title>\n<path fill=\"none\" stroke=\"#000000\" d=\"M964.5,-222.8796C964.5,-212.2134 964.5,-200.7021 964.5,-189.9015\"/>\n<polygon fill=\"#000000\" stroke=\"#000000\" points=\"968.0001,-189.8149 964.5,-179.8149 961.0001,-189.815 968.0001,-189.8149\"/>\n</g>\n<!-- 34 -->\n<g id=\"node35\" class=\"node\">\n<title>34</title>\n<path fill=\"#e58139\" stroke=\"#000000\" d=\"M1119,-179.5C1119,-179.5 1044,-179.5 1044,-179.5 1038,-179.5 1032,-173.5 1032,-167.5 1032,-167.5 1032,-123.5 1032,-123.5 1032,-117.5 1038,-111.5 1044,-111.5 1044,-111.5 1119,-111.5 1119,-111.5 1125,-111.5 1131,-117.5 1131,-123.5 1131,-123.5 1131,-167.5 1131,-167.5 1131,-173.5 1125,-179.5 1119,-179.5\"/>\n<text text-anchor=\"start\" x=\"1052\" y=\"-164.3\" font-family=\"Helvetica,sans-Serif\" font-size=\"14.00\" fill=\"#000000\">gini = 0.0</text>\n<text text-anchor=\"start\" x=\"1042\" y=\"-149.3\" font-family=\"Helvetica,sans-Serif\" font-size=\"14.00\" fill=\"#000000\">samples = 1</text>\n<text text-anchor=\"start\" x=\"1040\" y=\"-134.3\" font-family=\"Helvetica,sans-Serif\" font-size=\"14.00\" fill=\"#000000\">value = [1, 0]</text>\n<text text-anchor=\"start\" x=\"1051\" y=\"-119.3\" font-family=\"Helvetica,sans-Serif\" font-size=\"14.00\" fill=\"#000000\">class = D</text>\n</g>\n<!-- 33&#45;&gt;34 -->\n<g id=\"edge34\" class=\"edge\">\n<title>33&#45;&gt;34</title>\n<path fill=\"none\" stroke=\"#000000\" d=\"M1081.5,-222.8796C1081.5,-212.2134 1081.5,-200.7021 1081.5,-189.9015\"/>\n<polygon fill=\"#000000\" stroke=\"#000000\" points=\"1085.0001,-189.8149 1081.5,-179.8149 1078.0001,-189.815 1085.0001,-189.8149\"/>\n</g>\n<!-- 35 -->\n<g id=\"node36\" class=\"node\">\n<title>35</title>\n<path fill=\"#399de5\" fill-opacity=\"0.498039\" stroke=\"#000000\" d=\"M1236,-187C1236,-187 1161,-187 1161,-187 1155,-187 1149,-181 1149,-175 1149,-175 1149,-116 1149,-116 1149,-110 1155,-104 1161,-104 1161,-104 1236,-104 1236,-104 1242,-104 1248,-110 1248,-116 1248,-116 1248,-175 1248,-175 1248,-181 1242,-187 1236,-187\"/>\n<text text-anchor=\"start\" x=\"1171.5\" y=\"-171.8\" font-family=\"Helvetica,sans-Serif\" font-size=\"14.00\" fill=\"#000000\">X6 ≤ 4.5</text>\n<text text-anchor=\"start\" x=\"1160.5\" y=\"-156.8\" font-family=\"Helvetica,sans-Serif\" font-size=\"14.00\" fill=\"#000000\">gini = 0.444</text>\n<text text-anchor=\"start\" x=\"1159\" y=\"-141.8\" font-family=\"Helvetica,sans-Serif\" font-size=\"14.00\" fill=\"#000000\">samples = 3</text>\n<text text-anchor=\"start\" x=\"1157\" y=\"-126.8\" font-family=\"Helvetica,sans-Serif\" font-size=\"14.00\" fill=\"#000000\">value = [1, 2]</text>\n<text text-anchor=\"start\" x=\"1169.5\" y=\"-111.8\" font-family=\"Helvetica,sans-Serif\" font-size=\"14.00\" fill=\"#000000\">class = 1</text>\n</g>\n<!-- 33&#45;&gt;35 -->\n<g id=\"edge35\" class=\"edge\">\n<title>33&#45;&gt;35</title>\n<path fill=\"none\" stroke=\"#000000\" d=\"M1122.4209,-222.8796C1131.453,-213.6931 1141.1013,-203.8798 1150.3888,-194.4336\"/>\n<polygon fill=\"#000000\" stroke=\"#000000\" points=\"1152.8893,-196.8827 1157.4044,-187.2981 1147.8977,-191.975 1152.8893,-196.8827\"/>\n</g>\n<!-- 36 -->\n<g id=\"node37\" class=\"node\">\n<title>36</title>\n<path fill=\"#399de5\" stroke=\"#000000\" d=\"M1149,-68C1149,-68 1074,-68 1074,-68 1068,-68 1062,-62 1062,-56 1062,-56 1062,-12 1062,-12 1062,-6 1068,0 1074,0 1074,0 1149,0 1149,0 1155,0 1161,-6 1161,-12 1161,-12 1161,-56 1161,-56 1161,-62 1155,-68 1149,-68\"/>\n<text text-anchor=\"start\" x=\"1082\" y=\"-52.8\" font-family=\"Helvetica,sans-Serif\" font-size=\"14.00\" fill=\"#000000\">gini = 0.0</text>\n<text text-anchor=\"start\" x=\"1072\" y=\"-37.8\" font-family=\"Helvetica,sans-Serif\" font-size=\"14.00\" fill=\"#000000\">samples = 2</text>\n<text text-anchor=\"start\" x=\"1070\" y=\"-22.8\" font-family=\"Helvetica,sans-Serif\" font-size=\"14.00\" fill=\"#000000\">value = [0, 2]</text>\n<text text-anchor=\"start\" x=\"1082.5\" y=\"-7.8\" font-family=\"Helvetica,sans-Serif\" font-size=\"14.00\" fill=\"#000000\">class = 1</text>\n</g>\n<!-- 35&#45;&gt;36 -->\n<g id=\"edge36\" class=\"edge\">\n<title>35&#45;&gt;36</title>\n<path fill=\"none\" stroke=\"#000000\" d=\"M1166.1044,-103.9815C1159.0766,-94.9747 1151.6345,-85.4367 1144.5807,-76.3965\"/>\n<polygon fill=\"#000000\" stroke=\"#000000\" points=\"1147.146,-73.9946 1138.2349,-68.2637 1141.6272,-78.3008 1147.146,-73.9946\"/>\n</g>\n<!-- 37 -->\n<g id=\"node38\" class=\"node\">\n<title>37</title>\n<path fill=\"#e58139\" stroke=\"#000000\" d=\"M1266,-68C1266,-68 1191,-68 1191,-68 1185,-68 1179,-62 1179,-56 1179,-56 1179,-12 1179,-12 1179,-6 1185,0 1191,0 1191,0 1266,0 1266,0 1272,0 1278,-6 1278,-12 1278,-12 1278,-56 1278,-56 1278,-62 1272,-68 1266,-68\"/>\n<text text-anchor=\"start\" x=\"1199\" y=\"-52.8\" font-family=\"Helvetica,sans-Serif\" font-size=\"14.00\" fill=\"#000000\">gini = 0.0</text>\n<text text-anchor=\"start\" x=\"1189\" y=\"-37.8\" font-family=\"Helvetica,sans-Serif\" font-size=\"14.00\" fill=\"#000000\">samples = 1</text>\n<text text-anchor=\"start\" x=\"1187\" y=\"-22.8\" font-family=\"Helvetica,sans-Serif\" font-size=\"14.00\" fill=\"#000000\">value = [1, 0]</text>\n<text text-anchor=\"start\" x=\"1198\" y=\"-7.8\" font-family=\"Helvetica,sans-Serif\" font-size=\"14.00\" fill=\"#000000\">class = D</text>\n</g>\n<!-- 35&#45;&gt;37 -->\n<g id=\"edge37\" class=\"edge\">\n<title>35&#45;&gt;37</title>\n<path fill=\"none\" stroke=\"#000000\" d=\"M1209.6709,-103.9815C1211.9459,-95.5261 1214.3468,-86.6026 1216.6447,-78.0623\"/>\n<polygon fill=\"#000000\" stroke=\"#000000\" points=\"1220.0626,-78.8296 1219.2811,-68.2637 1213.303,-77.0109 1220.0626,-78.8296\"/>\n</g>\n<!-- 39 -->\n<g id=\"node40\" class=\"node\">\n<title>39</title>\n<path fill=\"#e58139\" fill-opacity=\"0.498039\" stroke=\"#000000\" d=\"M1284.5,-901C1284.5,-901 1204.5,-901 1204.5,-901 1198.5,-901 1192.5,-895 1192.5,-889 1192.5,-889 1192.5,-830 1192.5,-830 1192.5,-824 1198.5,-818 1204.5,-818 1204.5,-818 1284.5,-818 1284.5,-818 1290.5,-818 1296.5,-824 1296.5,-830 1296.5,-830 1296.5,-889 1296.5,-889 1296.5,-895 1290.5,-901 1284.5,-901\"/>\n<text text-anchor=\"start\" x=\"1217.5\" y=\"-885.8\" font-family=\"Helvetica,sans-Serif\" font-size=\"14.00\" fill=\"#000000\">X3 ≤ 3.5</text>\n<text text-anchor=\"start\" x=\"1206.5\" y=\"-870.8\" font-family=\"Helvetica,sans-Serif\" font-size=\"14.00\" fill=\"#000000\">gini = 0.444</text>\n<text text-anchor=\"start\" x=\"1200.5\" y=\"-855.8\" font-family=\"Helvetica,sans-Serif\" font-size=\"14.00\" fill=\"#000000\">samples = 12</text>\n<text text-anchor=\"start\" x=\"1203\" y=\"-840.8\" font-family=\"Helvetica,sans-Serif\" font-size=\"14.00\" fill=\"#000000\">value = [8, 4]</text>\n<text text-anchor=\"start\" x=\"1214\" y=\"-825.8\" font-family=\"Helvetica,sans-Serif\" font-size=\"14.00\" fill=\"#000000\">class = D</text>\n</g>\n<!-- 38&#45;&gt;39 -->\n<g id=\"edge39\" class=\"edge\">\n<title>38&#45;&gt;39</title>\n<path fill=\"none\" stroke=\"#000000\" d=\"M1244.5,-936.8796C1244.5,-928.6838 1244.5,-919.9891 1244.5,-911.5013\"/>\n<polygon fill=\"#000000\" stroke=\"#000000\" points=\"1248.0001,-911.298 1244.5,-901.2981 1241.0001,-911.2981 1248.0001,-911.298\"/>\n</g>\n<!-- 56 -->\n<g id=\"node57\" class=\"node\">\n<title>56</title>\n<path fill=\"#399de5\" fill-opacity=\"0.807843\" stroke=\"#000000\" d=\"M1468,-901C1468,-901 1385,-901 1385,-901 1379,-901 1373,-895 1373,-889 1373,-889 1373,-830 1373,-830 1373,-824 1379,-818 1385,-818 1385,-818 1468,-818 1468,-818 1474,-818 1480,-824 1480,-830 1480,-830 1480,-889 1480,-889 1480,-895 1474,-901 1468,-901\"/>\n<text text-anchor=\"start\" x=\"1399.5\" y=\"-885.8\" font-family=\"Helvetica,sans-Serif\" font-size=\"14.00\" fill=\"#000000\">X3 ≤ 2.5</text>\n<text text-anchor=\"start\" x=\"1388.5\" y=\"-870.8\" font-family=\"Helvetica,sans-Serif\" font-size=\"14.00\" fill=\"#000000\">gini = 0.271</text>\n<text text-anchor=\"start\" x=\"1382.5\" y=\"-855.8\" font-family=\"Helvetica,sans-Serif\" font-size=\"14.00\" fill=\"#000000\">samples = 31</text>\n<text text-anchor=\"start\" x=\"1381\" y=\"-840.8\" font-family=\"Helvetica,sans-Serif\" font-size=\"14.00\" fill=\"#000000\">value = [5, 26]</text>\n<text text-anchor=\"start\" x=\"1397.5\" y=\"-825.8\" font-family=\"Helvetica,sans-Serif\" font-size=\"14.00\" fill=\"#000000\">class = 1</text>\n</g>\n<!-- 38&#45;&gt;56 -->\n<g id=\"edge56\" class=\"edge\">\n<title>38&#45;&gt;56</title>\n<path fill=\"none\" stroke=\"#000000\" d=\"M1302.5863,-940.5205C1322.3391,-927.6052 1344.483,-913.1265 1364.528,-900.0201\"/>\n<polygon fill=\"#000000\" stroke=\"#000000\" points=\"1366.5228,-902.8977 1372.9771,-894.4957 1362.692,-897.0389 1366.5228,-902.8977\"/>\n</g>\n<!-- 40 -->\n<g id=\"node41\" class=\"node\">\n<title>40</title>\n<path fill=\"#e58139\" fill-opacity=\"0.749020\" stroke=\"#000000\" d=\"M1226.5,-782C1226.5,-782 1146.5,-782 1146.5,-782 1140.5,-782 1134.5,-776 1134.5,-770 1134.5,-770 1134.5,-711 1134.5,-711 1134.5,-705 1140.5,-699 1146.5,-699 1146.5,-699 1226.5,-699 1226.5,-699 1232.5,-699 1238.5,-705 1238.5,-711 1238.5,-711 1238.5,-770 1238.5,-770 1238.5,-776 1232.5,-782 1226.5,-782\"/>\n<text text-anchor=\"start\" x=\"1159.5\" y=\"-766.8\" font-family=\"Helvetica,sans-Serif\" font-size=\"14.00\" fill=\"#000000\">X6 ≤ 4.0</text>\n<text text-anchor=\"start\" x=\"1153\" y=\"-751.8\" font-family=\"Helvetica,sans-Serif\" font-size=\"14.00\" fill=\"#000000\">gini = 0.32</text>\n<text text-anchor=\"start\" x=\"1142.5\" y=\"-736.8\" font-family=\"Helvetica,sans-Serif\" font-size=\"14.00\" fill=\"#000000\">samples = 10</text>\n<text text-anchor=\"start\" x=\"1145\" y=\"-721.8\" font-family=\"Helvetica,sans-Serif\" font-size=\"14.00\" fill=\"#000000\">value = [8, 2]</text>\n<text text-anchor=\"start\" x=\"1156\" y=\"-706.8\" font-family=\"Helvetica,sans-Serif\" font-size=\"14.00\" fill=\"#000000\">class = D</text>\n</g>\n<!-- 39&#45;&gt;40 -->\n<g id=\"edge40\" class=\"edge\">\n<title>39&#45;&gt;40</title>\n<path fill=\"none\" stroke=\"#000000\" d=\"M1224.2144,-817.8796C1220.0443,-809.3236 1215.6091,-800.2238 1211.3003,-791.3833\"/>\n<polygon fill=\"#000000\" stroke=\"#000000\" points=\"1214.3997,-789.7538 1206.8722,-782.2981 1208.1073,-792.8207 1214.3997,-789.7538\"/>\n</g>\n<!-- 55 -->\n<g id=\"node56\" class=\"node\">\n<title>55</title>\n<path fill=\"#399de5\" stroke=\"#000000\" d=\"M1344,-774.5C1344,-774.5 1269,-774.5 1269,-774.5 1263,-774.5 1257,-768.5 1257,-762.5 1257,-762.5 1257,-718.5 1257,-718.5 1257,-712.5 1263,-706.5 1269,-706.5 1269,-706.5 1344,-706.5 1344,-706.5 1350,-706.5 1356,-712.5 1356,-718.5 1356,-718.5 1356,-762.5 1356,-762.5 1356,-768.5 1350,-774.5 1344,-774.5\"/>\n<text text-anchor=\"start\" x=\"1277\" y=\"-759.3\" font-family=\"Helvetica,sans-Serif\" font-size=\"14.00\" fill=\"#000000\">gini = 0.0</text>\n<text text-anchor=\"start\" x=\"1267\" y=\"-744.3\" font-family=\"Helvetica,sans-Serif\" font-size=\"14.00\" fill=\"#000000\">samples = 2</text>\n<text text-anchor=\"start\" x=\"1265\" y=\"-729.3\" font-family=\"Helvetica,sans-Serif\" font-size=\"14.00\" fill=\"#000000\">value = [0, 2]</text>\n<text text-anchor=\"start\" x=\"1277.5\" y=\"-714.3\" font-family=\"Helvetica,sans-Serif\" font-size=\"14.00\" fill=\"#000000\">class = 1</text>\n</g>\n<!-- 39&#45;&gt;55 -->\n<g id=\"edge55\" class=\"edge\">\n<title>39&#45;&gt;55</title>\n<path fill=\"none\" stroke=\"#000000\" d=\"M1266.1846,-817.8796C1271.9136,-806.8835 1278.1106,-794.9893 1283.8874,-783.9015\"/>\n<polygon fill=\"#000000\" stroke=\"#000000\" points=\"1287.105,-785.3007 1288.6216,-774.8149 1280.897,-782.0662 1287.105,-785.3007\"/>\n</g>\n<!-- 41 -->\n<g id=\"node42\" class=\"node\">\n<title>41</title>\n<path fill=\"#e58139\" stroke=\"#000000\" d=\"M1170,-655.5C1170,-655.5 1095,-655.5 1095,-655.5 1089,-655.5 1083,-649.5 1083,-643.5 1083,-643.5 1083,-599.5 1083,-599.5 1083,-593.5 1089,-587.5 1095,-587.5 1095,-587.5 1170,-587.5 1170,-587.5 1176,-587.5 1182,-593.5 1182,-599.5 1182,-599.5 1182,-643.5 1182,-643.5 1182,-649.5 1176,-655.5 1170,-655.5\"/>\n<text text-anchor=\"start\" x=\"1103\" y=\"-640.3\" font-family=\"Helvetica,sans-Serif\" font-size=\"14.00\" fill=\"#000000\">gini = 0.0</text>\n<text text-anchor=\"start\" x=\"1093\" y=\"-625.3\" font-family=\"Helvetica,sans-Serif\" font-size=\"14.00\" fill=\"#000000\">samples = 2</text>\n<text text-anchor=\"start\" x=\"1091\" y=\"-610.3\" font-family=\"Helvetica,sans-Serif\" font-size=\"14.00\" fill=\"#000000\">value = [2, 0]</text>\n<text text-anchor=\"start\" x=\"1102\" y=\"-595.3\" font-family=\"Helvetica,sans-Serif\" font-size=\"14.00\" fill=\"#000000\">class = D</text>\n</g>\n<!-- 40&#45;&gt;41 -->\n<g id=\"edge41\" class=\"edge\">\n<title>40&#45;&gt;41</title>\n<path fill=\"none\" stroke=\"#000000\" d=\"M1167.6134,-698.8796C1162.6735,-687.9935 1157.3341,-676.227 1152.3459,-665.2344\"/>\n<polygon fill=\"#000000\" stroke=\"#000000\" points=\"1155.391,-663.4749 1148.0715,-655.8149 1149.0166,-666.3675 1155.391,-663.4749\"/>\n</g>\n<!-- 42 -->\n<g id=\"node43\" class=\"node\">\n<title>42</title>\n<path fill=\"#e58139\" fill-opacity=\"0.666667\" stroke=\"#000000\" d=\"M1287,-663C1287,-663 1212,-663 1212,-663 1206,-663 1200,-657 1200,-651 1200,-651 1200,-592 1200,-592 1200,-586 1206,-580 1212,-580 1212,-580 1287,-580 1287,-580 1293,-580 1299,-586 1299,-592 1299,-592 1299,-651 1299,-651 1299,-657 1293,-663 1287,-663\"/>\n<text text-anchor=\"start\" x=\"1222.5\" y=\"-647.8\" font-family=\"Helvetica,sans-Serif\" font-size=\"14.00\" fill=\"#000000\">X4 ≤ 3.5</text>\n<text text-anchor=\"start\" x=\"1211.5\" y=\"-632.8\" font-family=\"Helvetica,sans-Serif\" font-size=\"14.00\" fill=\"#000000\">gini = 0.375</text>\n<text text-anchor=\"start\" x=\"1210\" y=\"-617.8\" font-family=\"Helvetica,sans-Serif\" font-size=\"14.00\" fill=\"#000000\">samples = 8</text>\n<text text-anchor=\"start\" x=\"1208\" y=\"-602.8\" font-family=\"Helvetica,sans-Serif\" font-size=\"14.00\" fill=\"#000000\">value = [6, 2]</text>\n<text text-anchor=\"start\" x=\"1219\" y=\"-587.8\" font-family=\"Helvetica,sans-Serif\" font-size=\"14.00\" fill=\"#000000\">class = D</text>\n</g>\n<!-- 40&#45;&gt;42 -->\n<g id=\"edge42\" class=\"edge\">\n<title>40&#45;&gt;42</title>\n<path fill=\"none\" stroke=\"#000000\" d=\"M1208.5343,-698.8796C1213.064,-690.3236 1217.8815,-681.2238 1222.5618,-672.3833\"/>\n<polygon fill=\"#000000\" stroke=\"#000000\" points=\"1225.7859,-673.7736 1227.3716,-663.2981 1219.5994,-670.4983 1225.7859,-673.7736\"/>\n</g>\n<!-- 43 -->\n<g id=\"node44\" class=\"node\">\n<title>43</title>\n<path fill=\"#e58139\" fill-opacity=\"0.800000\" stroke=\"#000000\" d=\"M1287,-544C1287,-544 1212,-544 1212,-544 1206,-544 1200,-538 1200,-532 1200,-532 1200,-473 1200,-473 1200,-467 1206,-461 1212,-461 1212,-461 1287,-461 1287,-461 1293,-461 1299,-467 1299,-473 1299,-473 1299,-532 1299,-532 1299,-538 1293,-544 1287,-544\"/>\n<text text-anchor=\"start\" x=\"1222.5\" y=\"-528.8\" font-family=\"Helvetica,sans-Serif\" font-size=\"14.00\" fill=\"#000000\">X5 ≤ 2.5</text>\n<text text-anchor=\"start\" x=\"1211.5\" y=\"-513.8\" font-family=\"Helvetica,sans-Serif\" font-size=\"14.00\" fill=\"#000000\">gini = 0.278</text>\n<text text-anchor=\"start\" x=\"1210\" y=\"-498.8\" font-family=\"Helvetica,sans-Serif\" font-size=\"14.00\" fill=\"#000000\">samples = 6</text>\n<text text-anchor=\"start\" x=\"1208\" y=\"-483.8\" font-family=\"Helvetica,sans-Serif\" font-size=\"14.00\" fill=\"#000000\">value = [5, 1]</text>\n<text text-anchor=\"start\" x=\"1219\" y=\"-468.8\" font-family=\"Helvetica,sans-Serif\" font-size=\"14.00\" fill=\"#000000\">class = D</text>\n</g>\n<!-- 42&#45;&gt;43 -->\n<g id=\"edge43\" class=\"edge\">\n<title>42&#45;&gt;43</title>\n<path fill=\"none\" stroke=\"#000000\" d=\"M1249.5,-579.8796C1249.5,-571.6838 1249.5,-562.9891 1249.5,-554.5013\"/>\n<polygon fill=\"#000000\" stroke=\"#000000\" points=\"1253.0001,-554.298 1249.5,-544.2981 1246.0001,-554.2981 1253.0001,-554.298\"/>\n</g>\n<!-- 52 -->\n<g id=\"node53\" class=\"node\">\n<title>52</title>\n<path fill=\"transparent\" stroke=\"#000000\" d=\"M1463,-544C1463,-544 1388,-544 1388,-544 1382,-544 1376,-538 1376,-532 1376,-532 1376,-473 1376,-473 1376,-467 1382,-461 1388,-461 1388,-461 1463,-461 1463,-461 1469,-461 1475,-467 1475,-473 1475,-473 1475,-532 1475,-532 1475,-538 1469,-544 1463,-544\"/>\n<text text-anchor=\"start\" x=\"1398.5\" y=\"-528.8\" font-family=\"Helvetica,sans-Serif\" font-size=\"14.00\" fill=\"#000000\">X4 ≤ 4.5</text>\n<text text-anchor=\"start\" x=\"1396\" y=\"-513.8\" font-family=\"Helvetica,sans-Serif\" font-size=\"14.00\" fill=\"#000000\">gini = 0.5</text>\n<text text-anchor=\"start\" x=\"1386\" y=\"-498.8\" font-family=\"Helvetica,sans-Serif\" font-size=\"14.00\" fill=\"#000000\">samples = 2</text>\n<text text-anchor=\"start\" x=\"1384\" y=\"-483.8\" font-family=\"Helvetica,sans-Serif\" font-size=\"14.00\" fill=\"#000000\">value = [1, 1]</text>\n<text text-anchor=\"start\" x=\"1395\" y=\"-468.8\" font-family=\"Helvetica,sans-Serif\" font-size=\"14.00\" fill=\"#000000\">class = D</text>\n</g>\n<!-- 42&#45;&gt;52 -->\n<g id=\"edge52\" class=\"edge\">\n<title>42&#45;&gt;52</title>\n<path fill=\"none\" stroke=\"#000000\" d=\"M1299.0821,-585.8261C1301.9223,-583.8441 1304.7429,-581.8906 1307.5,-580 1326.7817,-566.7777 1348.0776,-552.6486 1367.2096,-540.1244\"/>\n<polygon fill=\"#000000\" stroke=\"#000000\" points=\"1369.3744,-542.891 1375.8327,-534.492 1365.5464,-537.0304 1369.3744,-542.891\"/>\n</g>\n<!-- 44 -->\n<g id=\"node45\" class=\"node\">\n<title>44</title>\n<path fill=\"#e58139\" stroke=\"#000000\" d=\"M1229,-417.5C1229,-417.5 1154,-417.5 1154,-417.5 1148,-417.5 1142,-411.5 1142,-405.5 1142,-405.5 1142,-361.5 1142,-361.5 1142,-355.5 1148,-349.5 1154,-349.5 1154,-349.5 1229,-349.5 1229,-349.5 1235,-349.5 1241,-355.5 1241,-361.5 1241,-361.5 1241,-405.5 1241,-405.5 1241,-411.5 1235,-417.5 1229,-417.5\"/>\n<text text-anchor=\"start\" x=\"1162\" y=\"-402.3\" font-family=\"Helvetica,sans-Serif\" font-size=\"14.00\" fill=\"#000000\">gini = 0.0</text>\n<text text-anchor=\"start\" x=\"1152\" y=\"-387.3\" font-family=\"Helvetica,sans-Serif\" font-size=\"14.00\" fill=\"#000000\">samples = 2</text>\n<text text-anchor=\"start\" x=\"1150\" y=\"-372.3\" font-family=\"Helvetica,sans-Serif\" font-size=\"14.00\" fill=\"#000000\">value = [2, 0]</text>\n<text text-anchor=\"start\" x=\"1161\" y=\"-357.3\" font-family=\"Helvetica,sans-Serif\" font-size=\"14.00\" fill=\"#000000\">class = D</text>\n</g>\n<!-- 43&#45;&gt;44 -->\n<g id=\"edge44\" class=\"edge\">\n<title>43&#45;&gt;44</title>\n<path fill=\"none\" stroke=\"#000000\" d=\"M1229.2144,-460.8796C1223.855,-449.8835 1218.0578,-437.9893 1212.6537,-426.9015\"/>\n<polygon fill=\"#000000\" stroke=\"#000000\" points=\"1215.7524,-425.2706 1208.2249,-417.8149 1209.46,-428.3375 1215.7524,-425.2706\"/>\n</g>\n<!-- 45 -->\n<g id=\"node46\" class=\"node\">\n<title>45</title>\n<path fill=\"#e58139\" fill-opacity=\"0.666667\" stroke=\"#000000\" d=\"M1346,-425C1346,-425 1271,-425 1271,-425 1265,-425 1259,-419 1259,-413 1259,-413 1259,-354 1259,-354 1259,-348 1265,-342 1271,-342 1271,-342 1346,-342 1346,-342 1352,-342 1358,-348 1358,-354 1358,-354 1358,-413 1358,-413 1358,-419 1352,-425 1346,-425\"/>\n<text text-anchor=\"start\" x=\"1281.5\" y=\"-409.8\" font-family=\"Helvetica,sans-Serif\" font-size=\"14.00\" fill=\"#000000\">X4 ≤ 2.0</text>\n<text text-anchor=\"start\" x=\"1270.5\" y=\"-394.8\" font-family=\"Helvetica,sans-Serif\" font-size=\"14.00\" fill=\"#000000\">gini = 0.375</text>\n<text text-anchor=\"start\" x=\"1269\" y=\"-379.8\" font-family=\"Helvetica,sans-Serif\" font-size=\"14.00\" fill=\"#000000\">samples = 4</text>\n<text text-anchor=\"start\" x=\"1267\" y=\"-364.8\" font-family=\"Helvetica,sans-Serif\" font-size=\"14.00\" fill=\"#000000\">value = [3, 1]</text>\n<text text-anchor=\"start\" x=\"1278\" y=\"-349.8\" font-family=\"Helvetica,sans-Serif\" font-size=\"14.00\" fill=\"#000000\">class = D</text>\n</g>\n<!-- 43&#45;&gt;45 -->\n<g id=\"edge45\" class=\"edge\">\n<title>43&#45;&gt;45</title>\n<path fill=\"none\" stroke=\"#000000\" d=\"M1270.1353,-460.8796C1274.3774,-452.3236 1278.889,-443.2238 1283.2721,-434.3833\"/>\n<polygon fill=\"#000000\" stroke=\"#000000\" points=\"1286.4703,-435.8121 1287.7766,-425.2981 1280.1988,-432.7026 1286.4703,-435.8121\"/>\n</g>\n<!-- 46 -->\n<g id=\"node47\" class=\"node\">\n<title>46</title>\n<path fill=\"#e58139\" stroke=\"#000000\" d=\"M1288,-298.5C1288,-298.5 1213,-298.5 1213,-298.5 1207,-298.5 1201,-292.5 1201,-286.5 1201,-286.5 1201,-242.5 1201,-242.5 1201,-236.5 1207,-230.5 1213,-230.5 1213,-230.5 1288,-230.5 1288,-230.5 1294,-230.5 1300,-236.5 1300,-242.5 1300,-242.5 1300,-286.5 1300,-286.5 1300,-292.5 1294,-298.5 1288,-298.5\"/>\n<text text-anchor=\"start\" x=\"1221\" y=\"-283.3\" font-family=\"Helvetica,sans-Serif\" font-size=\"14.00\" fill=\"#000000\">gini = 0.0</text>\n<text text-anchor=\"start\" x=\"1211\" y=\"-268.3\" font-family=\"Helvetica,sans-Serif\" font-size=\"14.00\" fill=\"#000000\">samples = 1</text>\n<text text-anchor=\"start\" x=\"1209\" y=\"-253.3\" font-family=\"Helvetica,sans-Serif\" font-size=\"14.00\" fill=\"#000000\">value = [1, 0]</text>\n<text text-anchor=\"start\" x=\"1220\" y=\"-238.3\" font-family=\"Helvetica,sans-Serif\" font-size=\"14.00\" fill=\"#000000\">class = D</text>\n</g>\n<!-- 45&#45;&gt;46 -->\n<g id=\"edge46\" class=\"edge\">\n<title>45&#45;&gt;46</title>\n<path fill=\"none\" stroke=\"#000000\" d=\"M1288.2144,-341.8796C1282.855,-330.8835 1277.0578,-318.9893 1271.6537,-307.9015\"/>\n<polygon fill=\"#000000\" stroke=\"#000000\" points=\"1274.7524,-306.2706 1267.2249,-298.8149 1268.46,-309.3375 1274.7524,-306.2706\"/>\n</g>\n<!-- 47 -->\n<g id=\"node48\" class=\"node\">\n<title>47</title>\n<path fill=\"#e58139\" fill-opacity=\"0.498039\" stroke=\"#000000\" d=\"M1405,-306C1405,-306 1330,-306 1330,-306 1324,-306 1318,-300 1318,-294 1318,-294 1318,-235 1318,-235 1318,-229 1324,-223 1330,-223 1330,-223 1405,-223 1405,-223 1411,-223 1417,-229 1417,-235 1417,-235 1417,-294 1417,-294 1417,-300 1411,-306 1405,-306\"/>\n<text text-anchor=\"start\" x=\"1340.5\" y=\"-290.8\" font-family=\"Helvetica,sans-Serif\" font-size=\"14.00\" fill=\"#000000\">X2 ≤ 2.5</text>\n<text text-anchor=\"start\" x=\"1329.5\" y=\"-275.8\" font-family=\"Helvetica,sans-Serif\" font-size=\"14.00\" fill=\"#000000\">gini = 0.444</text>\n<text text-anchor=\"start\" x=\"1328\" y=\"-260.8\" font-family=\"Helvetica,sans-Serif\" font-size=\"14.00\" fill=\"#000000\">samples = 3</text>\n<text text-anchor=\"start\" x=\"1326\" y=\"-245.8\" font-family=\"Helvetica,sans-Serif\" font-size=\"14.00\" fill=\"#000000\">value = [2, 1]</text>\n<text text-anchor=\"start\" x=\"1337\" y=\"-230.8\" font-family=\"Helvetica,sans-Serif\" font-size=\"14.00\" fill=\"#000000\">class = D</text>\n</g>\n<!-- 45&#45;&gt;47 -->\n<g id=\"edge47\" class=\"edge\">\n<title>45&#45;&gt;47</title>\n<path fill=\"none\" stroke=\"#000000\" d=\"M1329.1353,-341.8796C1333.3774,-333.3236 1337.889,-324.2238 1342.2721,-315.3833\"/>\n<polygon fill=\"#000000\" stroke=\"#000000\" points=\"1345.4703,-316.8121 1346.7766,-306.2981 1339.1988,-313.7026 1345.4703,-316.8121\"/>\n</g>\n<!-- 48 -->\n<g id=\"node49\" class=\"node\">\n<title>48</title>\n<path fill=\"#e58139\" stroke=\"#000000\" d=\"M1354,-179.5C1354,-179.5 1279,-179.5 1279,-179.5 1273,-179.5 1267,-173.5 1267,-167.5 1267,-167.5 1267,-123.5 1267,-123.5 1267,-117.5 1273,-111.5 1279,-111.5 1279,-111.5 1354,-111.5 1354,-111.5 1360,-111.5 1366,-117.5 1366,-123.5 1366,-123.5 1366,-167.5 1366,-167.5 1366,-173.5 1360,-179.5 1354,-179.5\"/>\n<text text-anchor=\"start\" x=\"1287\" y=\"-164.3\" font-family=\"Helvetica,sans-Serif\" font-size=\"14.00\" fill=\"#000000\">gini = 0.0</text>\n<text text-anchor=\"start\" x=\"1277\" y=\"-149.3\" font-family=\"Helvetica,sans-Serif\" font-size=\"14.00\" fill=\"#000000\">samples = 1</text>\n<text text-anchor=\"start\" x=\"1275\" y=\"-134.3\" font-family=\"Helvetica,sans-Serif\" font-size=\"14.00\" fill=\"#000000\">value = [1, 0]</text>\n<text text-anchor=\"start\" x=\"1286\" y=\"-119.3\" font-family=\"Helvetica,sans-Serif\" font-size=\"14.00\" fill=\"#000000\">class = D</text>\n</g>\n<!-- 47&#45;&gt;48 -->\n<g id=\"edge48\" class=\"edge\">\n<title>47&#45;&gt;48</title>\n<path fill=\"none\" stroke=\"#000000\" d=\"M1349.6627,-222.8796C1344.9972,-211.9935 1339.9544,-200.227 1335.2433,-189.2344\"/>\n<polygon fill=\"#000000\" stroke=\"#000000\" points=\"1338.3627,-187.6277 1331.2064,-179.8149 1331.9286,-190.3851 1338.3627,-187.6277\"/>\n</g>\n<!-- 49 -->\n<g id=\"node50\" class=\"node\">\n<title>49</title>\n<path fill=\"transparent\" stroke=\"#000000\" d=\"M1471,-187C1471,-187 1396,-187 1396,-187 1390,-187 1384,-181 1384,-175 1384,-175 1384,-116 1384,-116 1384,-110 1390,-104 1396,-104 1396,-104 1471,-104 1471,-104 1477,-104 1483,-110 1483,-116 1483,-116 1483,-175 1483,-175 1483,-181 1477,-187 1471,-187\"/>\n<text text-anchor=\"start\" x=\"1406.5\" y=\"-171.8\" font-family=\"Helvetica,sans-Serif\" font-size=\"14.00\" fill=\"#000000\">X2 ≤ 3.5</text>\n<text text-anchor=\"start\" x=\"1404\" y=\"-156.8\" font-family=\"Helvetica,sans-Serif\" font-size=\"14.00\" fill=\"#000000\">gini = 0.5</text>\n<text text-anchor=\"start\" x=\"1394\" y=\"-141.8\" font-family=\"Helvetica,sans-Serif\" font-size=\"14.00\" fill=\"#000000\">samples = 2</text>\n<text text-anchor=\"start\" x=\"1392\" y=\"-126.8\" font-family=\"Helvetica,sans-Serif\" font-size=\"14.00\" fill=\"#000000\">value = [1, 1]</text>\n<text text-anchor=\"start\" x=\"1403\" y=\"-111.8\" font-family=\"Helvetica,sans-Serif\" font-size=\"14.00\" fill=\"#000000\">class = D</text>\n</g>\n<!-- 47&#45;&gt;49 -->\n<g id=\"edge49\" class=\"edge\">\n<title>47&#45;&gt;49</title>\n<path fill=\"none\" stroke=\"#000000\" d=\"M1390.5836,-222.8796C1395.3789,-214.2335 1400.4822,-205.0322 1405.4338,-196.1042\"/>\n<polygon fill=\"#000000\" stroke=\"#000000\" points=\"1408.5284,-197.7407 1410.3179,-187.2981 1402.4069,-194.3455 1408.5284,-197.7407\"/>\n</g>\n<!-- 50 -->\n<g id=\"node51\" class=\"node\">\n<title>50</title>\n<path fill=\"#399de5\" stroke=\"#000000\" d=\"M1383,-68C1383,-68 1308,-68 1308,-68 1302,-68 1296,-62 1296,-56 1296,-56 1296,-12 1296,-12 1296,-6 1302,0 1308,0 1308,0 1383,0 1383,0 1389,0 1395,-6 1395,-12 1395,-12 1395,-56 1395,-56 1395,-62 1389,-68 1383,-68\"/>\n<text text-anchor=\"start\" x=\"1316\" y=\"-52.8\" font-family=\"Helvetica,sans-Serif\" font-size=\"14.00\" fill=\"#000000\">gini = 0.0</text>\n<text text-anchor=\"start\" x=\"1306\" y=\"-37.8\" font-family=\"Helvetica,sans-Serif\" font-size=\"14.00\" fill=\"#000000\">samples = 1</text>\n<text text-anchor=\"start\" x=\"1304\" y=\"-22.8\" font-family=\"Helvetica,sans-Serif\" font-size=\"14.00\" fill=\"#000000\">value = [0, 1]</text>\n<text text-anchor=\"start\" x=\"1316.5\" y=\"-7.8\" font-family=\"Helvetica,sans-Serif\" font-size=\"14.00\" fill=\"#000000\">class = 1</text>\n</g>\n<!-- 49&#45;&gt;50 -->\n<g id=\"edge50\" class=\"edge\">\n<title>49&#45;&gt;50</title>\n<path fill=\"none\" stroke=\"#000000\" d=\"M1400.732,-103.9815C1393.551,-94.8828 1385.9421,-85.242 1378.7426,-76.1199\"/>\n<polygon fill=\"#000000\" stroke=\"#000000\" points=\"1381.4849,-73.9451 1372.5422,-68.2637 1375.9901,-78.2818 1381.4849,-73.9451\"/>\n</g>\n<!-- 51 -->\n<g id=\"node52\" class=\"node\">\n<title>51</title>\n<path fill=\"#e58139\" stroke=\"#000000\" d=\"M1500,-68C1500,-68 1425,-68 1425,-68 1419,-68 1413,-62 1413,-56 1413,-56 1413,-12 1413,-12 1413,-6 1419,0 1425,0 1425,0 1500,0 1500,0 1506,0 1512,-6 1512,-12 1512,-12 1512,-56 1512,-56 1512,-62 1506,-68 1500,-68\"/>\n<text text-anchor=\"start\" x=\"1433\" y=\"-52.8\" font-family=\"Helvetica,sans-Serif\" font-size=\"14.00\" fill=\"#000000\">gini = 0.0</text>\n<text text-anchor=\"start\" x=\"1423\" y=\"-37.8\" font-family=\"Helvetica,sans-Serif\" font-size=\"14.00\" fill=\"#000000\">samples = 1</text>\n<text text-anchor=\"start\" x=\"1421\" y=\"-22.8\" font-family=\"Helvetica,sans-Serif\" font-size=\"14.00\" fill=\"#000000\">value = [1, 0]</text>\n<text text-anchor=\"start\" x=\"1432\" y=\"-7.8\" font-family=\"Helvetica,sans-Serif\" font-size=\"14.00\" fill=\"#000000\">class = D</text>\n</g>\n<!-- 49&#45;&gt;51 -->\n<g id=\"edge51\" class=\"edge\">\n<title>49&#45;&gt;51</title>\n<path fill=\"none\" stroke=\"#000000\" d=\"M1444.2985,-103.9815C1446.4977,-95.5261 1448.8186,-86.6026 1451.0399,-78.0623\"/>\n<polygon fill=\"#000000\" stroke=\"#000000\" points=\"1454.4585,-78.8227 1453.5884,-68.2637 1447.6838,-77.0607 1454.4585,-78.8227\"/>\n</g>\n<!-- 53 -->\n<g id=\"node54\" class=\"node\">\n<title>53</title>\n<path fill=\"#399de5\" stroke=\"#000000\" d=\"M1463,-417.5C1463,-417.5 1388,-417.5 1388,-417.5 1382,-417.5 1376,-411.5 1376,-405.5 1376,-405.5 1376,-361.5 1376,-361.5 1376,-355.5 1382,-349.5 1388,-349.5 1388,-349.5 1463,-349.5 1463,-349.5 1469,-349.5 1475,-355.5 1475,-361.5 1475,-361.5 1475,-405.5 1475,-405.5 1475,-411.5 1469,-417.5 1463,-417.5\"/>\n<text text-anchor=\"start\" x=\"1396\" y=\"-402.3\" font-family=\"Helvetica,sans-Serif\" font-size=\"14.00\" fill=\"#000000\">gini = 0.0</text>\n<text text-anchor=\"start\" x=\"1386\" y=\"-387.3\" font-family=\"Helvetica,sans-Serif\" font-size=\"14.00\" fill=\"#000000\">samples = 1</text>\n<text text-anchor=\"start\" x=\"1384\" y=\"-372.3\" font-family=\"Helvetica,sans-Serif\" font-size=\"14.00\" fill=\"#000000\">value = [0, 1]</text>\n<text text-anchor=\"start\" x=\"1396.5\" y=\"-357.3\" font-family=\"Helvetica,sans-Serif\" font-size=\"14.00\" fill=\"#000000\">class = 1</text>\n</g>\n<!-- 52&#45;&gt;53 -->\n<g id=\"edge53\" class=\"edge\">\n<title>52&#45;&gt;53</title>\n<path fill=\"none\" stroke=\"#000000\" d=\"M1425.5,-460.8796C1425.5,-450.2134 1425.5,-438.7021 1425.5,-427.9015\"/>\n<polygon fill=\"#000000\" stroke=\"#000000\" points=\"1429.0001,-427.8149 1425.5,-417.8149 1422.0001,-427.815 1429.0001,-427.8149\"/>\n</g>\n<!-- 54 -->\n<g id=\"node55\" class=\"node\">\n<title>54</title>\n<path fill=\"#e58139\" stroke=\"#000000\" d=\"M1580,-417.5C1580,-417.5 1505,-417.5 1505,-417.5 1499,-417.5 1493,-411.5 1493,-405.5 1493,-405.5 1493,-361.5 1493,-361.5 1493,-355.5 1499,-349.5 1505,-349.5 1505,-349.5 1580,-349.5 1580,-349.5 1586,-349.5 1592,-355.5 1592,-361.5 1592,-361.5 1592,-405.5 1592,-405.5 1592,-411.5 1586,-417.5 1580,-417.5\"/>\n<text text-anchor=\"start\" x=\"1513\" y=\"-402.3\" font-family=\"Helvetica,sans-Serif\" font-size=\"14.00\" fill=\"#000000\">gini = 0.0</text>\n<text text-anchor=\"start\" x=\"1503\" y=\"-387.3\" font-family=\"Helvetica,sans-Serif\" font-size=\"14.00\" fill=\"#000000\">samples = 1</text>\n<text text-anchor=\"start\" x=\"1501\" y=\"-372.3\" font-family=\"Helvetica,sans-Serif\" font-size=\"14.00\" fill=\"#000000\">value = [1, 0]</text>\n<text text-anchor=\"start\" x=\"1512\" y=\"-357.3\" font-family=\"Helvetica,sans-Serif\" font-size=\"14.00\" fill=\"#000000\">class = D</text>\n</g>\n<!-- 52&#45;&gt;54 -->\n<g id=\"edge54\" class=\"edge\">\n<title>52&#45;&gt;54</title>\n<path fill=\"none\" stroke=\"#000000\" d=\"M1466.4209,-460.8796C1477.7728,-449.3337 1490.0982,-436.7976 1501.457,-425.2446\"/>\n<polygon fill=\"#000000\" stroke=\"#000000\" points=\"1504.2466,-427.3995 1508.7618,-417.8149 1499.2551,-422.4919 1504.2466,-427.3995\"/>\n</g>\n<!-- 57 -->\n<g id=\"node58\" class=\"node\">\n<title>57</title>\n<path fill=\"transparent\" stroke=\"#000000\" d=\"M1464,-782C1464,-782 1389,-782 1389,-782 1383,-782 1377,-776 1377,-770 1377,-770 1377,-711 1377,-711 1377,-705 1383,-699 1389,-699 1389,-699 1464,-699 1464,-699 1470,-699 1476,-705 1476,-711 1476,-711 1476,-770 1476,-770 1476,-776 1470,-782 1464,-782\"/>\n<text text-anchor=\"start\" x=\"1399.5\" y=\"-766.8\" font-family=\"Helvetica,sans-Serif\" font-size=\"14.00\" fill=\"#000000\">X6 ≤ 4.5</text>\n<text text-anchor=\"start\" x=\"1397\" y=\"-751.8\" font-family=\"Helvetica,sans-Serif\" font-size=\"14.00\" fill=\"#000000\">gini = 0.5</text>\n<text text-anchor=\"start\" x=\"1387\" y=\"-736.8\" font-family=\"Helvetica,sans-Serif\" font-size=\"14.00\" fill=\"#000000\">samples = 4</text>\n<text text-anchor=\"start\" x=\"1385\" y=\"-721.8\" font-family=\"Helvetica,sans-Serif\" font-size=\"14.00\" fill=\"#000000\">value = [2, 2]</text>\n<text text-anchor=\"start\" x=\"1396\" y=\"-706.8\" font-family=\"Helvetica,sans-Serif\" font-size=\"14.00\" fill=\"#000000\">class = D</text>\n</g>\n<!-- 56&#45;&gt;57 -->\n<g id=\"edge57\" class=\"edge\">\n<title>56&#45;&gt;57</title>\n<path fill=\"none\" stroke=\"#000000\" d=\"M1426.5,-817.8796C1426.5,-809.6838 1426.5,-800.9891 1426.5,-792.5013\"/>\n<polygon fill=\"#000000\" stroke=\"#000000\" points=\"1430.0001,-792.298 1426.5,-782.2981 1423.0001,-792.2981 1430.0001,-792.298\"/>\n</g>\n<!-- 60 -->\n<g id=\"node61\" class=\"node\">\n<title>60</title>\n<path fill=\"#399de5\" fill-opacity=\"0.874510\" stroke=\"#000000\" d=\"M1642,-782C1642,-782 1559,-782 1559,-782 1553,-782 1547,-776 1547,-770 1547,-770 1547,-711 1547,-711 1547,-705 1553,-699 1559,-699 1559,-699 1642,-699 1642,-699 1648,-699 1654,-705 1654,-711 1654,-711 1654,-770 1654,-770 1654,-776 1648,-782 1642,-782\"/>\n<text text-anchor=\"start\" x=\"1573.5\" y=\"-766.8\" font-family=\"Helvetica,sans-Serif\" font-size=\"14.00\" fill=\"#000000\">X4 ≤ 3.5</text>\n<text text-anchor=\"start\" x=\"1562.5\" y=\"-751.8\" font-family=\"Helvetica,sans-Serif\" font-size=\"14.00\" fill=\"#000000\">gini = 0.198</text>\n<text text-anchor=\"start\" x=\"1556.5\" y=\"-736.8\" font-family=\"Helvetica,sans-Serif\" font-size=\"14.00\" fill=\"#000000\">samples = 27</text>\n<text text-anchor=\"start\" x=\"1555\" y=\"-721.8\" font-family=\"Helvetica,sans-Serif\" font-size=\"14.00\" fill=\"#000000\">value = [3, 24]</text>\n<text text-anchor=\"start\" x=\"1571.5\" y=\"-706.8\" font-family=\"Helvetica,sans-Serif\" font-size=\"14.00\" fill=\"#000000\">class = 1</text>\n</g>\n<!-- 56&#45;&gt;60 -->\n<g id=\"edge60\" class=\"edge\">\n<title>56&#45;&gt;60</title>\n<path fill=\"none\" stroke=\"#000000\" d=\"M1480.1255,-822.8251C1498.5658,-810.2136 1519.3639,-795.9897 1538.4199,-782.9571\"/>\n<polygon fill=\"#000000\" stroke=\"#000000\" points=\"1540.4736,-785.7928 1546.752,-777.2587 1536.522,-780.0149 1540.4736,-785.7928\"/>\n</g>\n<!-- 58 -->\n<g id=\"node59\" class=\"node\">\n<title>58</title>\n<path fill=\"#399de5\" stroke=\"#000000\" d=\"M1404,-655.5C1404,-655.5 1329,-655.5 1329,-655.5 1323,-655.5 1317,-649.5 1317,-643.5 1317,-643.5 1317,-599.5 1317,-599.5 1317,-593.5 1323,-587.5 1329,-587.5 1329,-587.5 1404,-587.5 1404,-587.5 1410,-587.5 1416,-593.5 1416,-599.5 1416,-599.5 1416,-643.5 1416,-643.5 1416,-649.5 1410,-655.5 1404,-655.5\"/>\n<text text-anchor=\"start\" x=\"1337\" y=\"-640.3\" font-family=\"Helvetica,sans-Serif\" font-size=\"14.00\" fill=\"#000000\">gini = 0.0</text>\n<text text-anchor=\"start\" x=\"1327\" y=\"-625.3\" font-family=\"Helvetica,sans-Serif\" font-size=\"14.00\" fill=\"#000000\">samples = 2</text>\n<text text-anchor=\"start\" x=\"1325\" y=\"-610.3\" font-family=\"Helvetica,sans-Serif\" font-size=\"14.00\" fill=\"#000000\">value = [0, 2]</text>\n<text text-anchor=\"start\" x=\"1337.5\" y=\"-595.3\" font-family=\"Helvetica,sans-Serif\" font-size=\"14.00\" fill=\"#000000\">class = 1</text>\n</g>\n<!-- 57&#45;&gt;58 -->\n<g id=\"edge58\" class=\"edge\">\n<title>57&#45;&gt;58</title>\n<path fill=\"none\" stroke=\"#000000\" d=\"M1405.5149,-698.8796C1399.9707,-687.8835 1393.9736,-675.9893 1388.3831,-664.9015\"/>\n<polygon fill=\"#000000\" stroke=\"#000000\" points=\"1391.4291,-663.1684 1383.8016,-655.8149 1385.1786,-666.3199 1391.4291,-663.1684\"/>\n</g>\n<!-- 59 -->\n<g id=\"node60\" class=\"node\">\n<title>59</title>\n<path fill=\"#e58139\" stroke=\"#000000\" d=\"M1521,-655.5C1521,-655.5 1446,-655.5 1446,-655.5 1440,-655.5 1434,-649.5 1434,-643.5 1434,-643.5 1434,-599.5 1434,-599.5 1434,-593.5 1440,-587.5 1446,-587.5 1446,-587.5 1521,-587.5 1521,-587.5 1527,-587.5 1533,-593.5 1533,-599.5 1533,-599.5 1533,-643.5 1533,-643.5 1533,-649.5 1527,-655.5 1521,-655.5\"/>\n<text text-anchor=\"start\" x=\"1454\" y=\"-640.3\" font-family=\"Helvetica,sans-Serif\" font-size=\"14.00\" fill=\"#000000\">gini = 0.0</text>\n<text text-anchor=\"start\" x=\"1444\" y=\"-625.3\" font-family=\"Helvetica,sans-Serif\" font-size=\"14.00\" fill=\"#000000\">samples = 2</text>\n<text text-anchor=\"start\" x=\"1442\" y=\"-610.3\" font-family=\"Helvetica,sans-Serif\" font-size=\"14.00\" fill=\"#000000\">value = [2, 0]</text>\n<text text-anchor=\"start\" x=\"1453\" y=\"-595.3\" font-family=\"Helvetica,sans-Serif\" font-size=\"14.00\" fill=\"#000000\">class = D</text>\n</g>\n<!-- 57&#45;&gt;59 -->\n<g id=\"edge59\" class=\"edge\">\n<title>57&#45;&gt;59</title>\n<path fill=\"none\" stroke=\"#000000\" d=\"M1446.4358,-698.8796C1451.7029,-687.8835 1457.4001,-675.9893 1462.711,-664.9015\"/>\n<polygon fill=\"#000000\" stroke=\"#000000\" points=\"1465.9,-666.3457 1467.0634,-655.8149 1459.5869,-663.3217 1465.9,-666.3457\"/>\n</g>\n<!-- 61 -->\n<g id=\"node62\" class=\"node\">\n<title>61</title>\n<path fill=\"#399de5\" stroke=\"#000000\" d=\"M1638,-655.5C1638,-655.5 1563,-655.5 1563,-655.5 1557,-655.5 1551,-649.5 1551,-643.5 1551,-643.5 1551,-599.5 1551,-599.5 1551,-593.5 1557,-587.5 1563,-587.5 1563,-587.5 1638,-587.5 1638,-587.5 1644,-587.5 1650,-593.5 1650,-599.5 1650,-599.5 1650,-643.5 1650,-643.5 1650,-649.5 1644,-655.5 1638,-655.5\"/>\n<text text-anchor=\"start\" x=\"1571\" y=\"-640.3\" font-family=\"Helvetica,sans-Serif\" font-size=\"14.00\" fill=\"#000000\">gini = 0.0</text>\n<text text-anchor=\"start\" x=\"1561\" y=\"-625.3\" font-family=\"Helvetica,sans-Serif\" font-size=\"14.00\" fill=\"#000000\">samples = 7</text>\n<text text-anchor=\"start\" x=\"1559\" y=\"-610.3\" font-family=\"Helvetica,sans-Serif\" font-size=\"14.00\" fill=\"#000000\">value = [0, 7]</text>\n<text text-anchor=\"start\" x=\"1571.5\" y=\"-595.3\" font-family=\"Helvetica,sans-Serif\" font-size=\"14.00\" fill=\"#000000\">class = 1</text>\n</g>\n<!-- 60&#45;&gt;61 -->\n<g id=\"edge61\" class=\"edge\">\n<title>60&#45;&gt;61</title>\n<path fill=\"none\" stroke=\"#000000\" d=\"M1600.5,-698.8796C1600.5,-688.2134 1600.5,-676.7021 1600.5,-665.9015\"/>\n<polygon fill=\"#000000\" stroke=\"#000000\" points=\"1604.0001,-665.8149 1600.5,-655.8149 1597.0001,-665.815 1604.0001,-665.8149\"/>\n</g>\n<!-- 62 -->\n<g id=\"node63\" class=\"node\">\n<title>62</title>\n<path fill=\"#399de5\" fill-opacity=\"0.823529\" stroke=\"#000000\" d=\"M1763,-663C1763,-663 1680,-663 1680,-663 1674,-663 1668,-657 1668,-651 1668,-651 1668,-592 1668,-592 1668,-586 1674,-580 1680,-580 1680,-580 1763,-580 1763,-580 1769,-580 1775,-586 1775,-592 1775,-592 1775,-651 1775,-651 1775,-657 1769,-663 1763,-663\"/>\n<text text-anchor=\"start\" x=\"1694.5\" y=\"-647.8\" font-family=\"Helvetica,sans-Serif\" font-size=\"14.00\" fill=\"#000000\">X2 ≤ 3.5</text>\n<text text-anchor=\"start\" x=\"1683.5\" y=\"-632.8\" font-family=\"Helvetica,sans-Serif\" font-size=\"14.00\" fill=\"#000000\">gini = 0.255</text>\n<text text-anchor=\"start\" x=\"1677.5\" y=\"-617.8\" font-family=\"Helvetica,sans-Serif\" font-size=\"14.00\" fill=\"#000000\">samples = 20</text>\n<text text-anchor=\"start\" x=\"1676\" y=\"-602.8\" font-family=\"Helvetica,sans-Serif\" font-size=\"14.00\" fill=\"#000000\">value = [3, 17]</text>\n<text text-anchor=\"start\" x=\"1692.5\" y=\"-587.8\" font-family=\"Helvetica,sans-Serif\" font-size=\"14.00\" fill=\"#000000\">class = 1</text>\n</g>\n<!-- 60&#45;&gt;62 -->\n<g id=\"edge62\" class=\"edge\">\n<title>60&#45;&gt;62</title>\n<path fill=\"none\" stroke=\"#000000\" d=\"M1642.8199,-698.8796C1652.1608,-689.6931 1662.139,-679.8798 1671.744,-670.4336\"/>\n<polygon fill=\"#000000\" stroke=\"#000000\" points=\"1674.3238,-672.8054 1678.9994,-663.2981 1669.4155,-667.8146 1674.3238,-672.8054\"/>\n</g>\n<!-- 63 -->\n<g id=\"node64\" class=\"node\">\n<title>63</title>\n<path fill=\"#399de5\" fill-opacity=\"0.725490\" stroke=\"#000000\" d=\"M1763,-544C1763,-544 1680,-544 1680,-544 1674,-544 1668,-538 1668,-532 1668,-532 1668,-473 1668,-473 1668,-467 1674,-461 1680,-461 1680,-461 1763,-461 1763,-461 1769,-461 1775,-467 1775,-473 1775,-473 1775,-532 1775,-532 1775,-538 1769,-544 1763,-544\"/>\n<text text-anchor=\"start\" x=\"1694.5\" y=\"-528.8\" font-family=\"Helvetica,sans-Serif\" font-size=\"14.00\" fill=\"#000000\">X4 ≤ 4.5</text>\n<text text-anchor=\"start\" x=\"1683.5\" y=\"-513.8\" font-family=\"Helvetica,sans-Serif\" font-size=\"14.00\" fill=\"#000000\">gini = 0.337</text>\n<text text-anchor=\"start\" x=\"1677.5\" y=\"-498.8\" font-family=\"Helvetica,sans-Serif\" font-size=\"14.00\" fill=\"#000000\">samples = 14</text>\n<text text-anchor=\"start\" x=\"1676\" y=\"-483.8\" font-family=\"Helvetica,sans-Serif\" font-size=\"14.00\" fill=\"#000000\">value = [3, 11]</text>\n<text text-anchor=\"start\" x=\"1692.5\" y=\"-468.8\" font-family=\"Helvetica,sans-Serif\" font-size=\"14.00\" fill=\"#000000\">class = 1</text>\n</g>\n<!-- 62&#45;&gt;63 -->\n<g id=\"edge63\" class=\"edge\">\n<title>62&#45;&gt;63</title>\n<path fill=\"none\" stroke=\"#000000\" d=\"M1721.5,-579.8796C1721.5,-571.6838 1721.5,-562.9891 1721.5,-554.5013\"/>\n<polygon fill=\"#000000\" stroke=\"#000000\" points=\"1725.0001,-554.298 1721.5,-544.2981 1718.0001,-554.2981 1725.0001,-554.298\"/>\n</g>\n<!-- 74 -->\n<g id=\"node75\" class=\"node\">\n<title>74</title>\n<path fill=\"#399de5\" stroke=\"#000000\" d=\"M1880,-536.5C1880,-536.5 1805,-536.5 1805,-536.5 1799,-536.5 1793,-530.5 1793,-524.5 1793,-524.5 1793,-480.5 1793,-480.5 1793,-474.5 1799,-468.5 1805,-468.5 1805,-468.5 1880,-468.5 1880,-468.5 1886,-468.5 1892,-474.5 1892,-480.5 1892,-480.5 1892,-524.5 1892,-524.5 1892,-530.5 1886,-536.5 1880,-536.5\"/>\n<text text-anchor=\"start\" x=\"1813\" y=\"-521.3\" font-family=\"Helvetica,sans-Serif\" font-size=\"14.00\" fill=\"#000000\">gini = 0.0</text>\n<text text-anchor=\"start\" x=\"1803\" y=\"-506.3\" font-family=\"Helvetica,sans-Serif\" font-size=\"14.00\" fill=\"#000000\">samples = 6</text>\n<text text-anchor=\"start\" x=\"1801\" y=\"-491.3\" font-family=\"Helvetica,sans-Serif\" font-size=\"14.00\" fill=\"#000000\">value = [0, 6]</text>\n<text text-anchor=\"start\" x=\"1813.5\" y=\"-476.3\" font-family=\"Helvetica,sans-Serif\" font-size=\"14.00\" fill=\"#000000\">class = 1</text>\n</g>\n<!-- 62&#45;&gt;74 -->\n<g id=\"edge74\" class=\"edge\">\n<title>62&#45;&gt;74</title>\n<path fill=\"none\" stroke=\"#000000\" d=\"M1763.8199,-579.8796C1775.6717,-568.2237 1788.5495,-555.5587 1800.3891,-543.9148\"/>\n<polygon fill=\"#000000\" stroke=\"#000000\" points=\"1802.9327,-546.3223 1807.6083,-536.8149 1798.0244,-541.3314 1802.9327,-546.3223\"/>\n</g>\n<!-- 64 -->\n<g id=\"node65\" class=\"node\">\n<title>64</title>\n<path fill=\"#399de5\" fill-opacity=\"0.572549\" stroke=\"#000000\" d=\"M1746.5,-425C1746.5,-425 1666.5,-425 1666.5,-425 1660.5,-425 1654.5,-419 1654.5,-413 1654.5,-413 1654.5,-354 1654.5,-354 1654.5,-348 1660.5,-342 1666.5,-342 1666.5,-342 1746.5,-342 1746.5,-342 1752.5,-342 1758.5,-348 1758.5,-354 1758.5,-354 1758.5,-413 1758.5,-413 1758.5,-419 1752.5,-425 1746.5,-425\"/>\n<text text-anchor=\"start\" x=\"1679.5\" y=\"-409.8\" font-family=\"Helvetica,sans-Serif\" font-size=\"14.00\" fill=\"#000000\">X3 ≤ 3.5</text>\n<text text-anchor=\"start\" x=\"1673\" y=\"-394.8\" font-family=\"Helvetica,sans-Serif\" font-size=\"14.00\" fill=\"#000000\">gini = 0.42</text>\n<text text-anchor=\"start\" x=\"1662.5\" y=\"-379.8\" font-family=\"Helvetica,sans-Serif\" font-size=\"14.00\" fill=\"#000000\">samples = 10</text>\n<text text-anchor=\"start\" x=\"1665\" y=\"-364.8\" font-family=\"Helvetica,sans-Serif\" font-size=\"14.00\" fill=\"#000000\">value = [3, 7]</text>\n<text text-anchor=\"start\" x=\"1677.5\" y=\"-349.8\" font-family=\"Helvetica,sans-Serif\" font-size=\"14.00\" fill=\"#000000\">class = 1</text>\n</g>\n<!-- 63&#45;&gt;64 -->\n<g id=\"edge64\" class=\"edge\">\n<title>63&#45;&gt;64</title>\n<path fill=\"none\" stroke=\"#000000\" d=\"M1716.2537,-460.8796C1715.2093,-452.5938 1714.1006,-443.798 1713.0195,-435.2216\"/>\n<polygon fill=\"#000000\" stroke=\"#000000\" points=\"1716.4919,-434.7818 1711.7687,-425.2981 1709.5468,-435.6573 1716.4919,-434.7818\"/>\n</g>\n<!-- 73 -->\n<g id=\"node74\" class=\"node\">\n<title>73</title>\n<path fill=\"#399de5\" stroke=\"#000000\" d=\"M1864,-417.5C1864,-417.5 1789,-417.5 1789,-417.5 1783,-417.5 1777,-411.5 1777,-405.5 1777,-405.5 1777,-361.5 1777,-361.5 1777,-355.5 1783,-349.5 1789,-349.5 1789,-349.5 1864,-349.5 1864,-349.5 1870,-349.5 1876,-355.5 1876,-361.5 1876,-361.5 1876,-405.5 1876,-405.5 1876,-411.5 1870,-417.5 1864,-417.5\"/>\n<text text-anchor=\"start\" x=\"1797\" y=\"-402.3\" font-family=\"Helvetica,sans-Serif\" font-size=\"14.00\" fill=\"#000000\">gini = 0.0</text>\n<text text-anchor=\"start\" x=\"1787\" y=\"-387.3\" font-family=\"Helvetica,sans-Serif\" font-size=\"14.00\" fill=\"#000000\">samples = 4</text>\n<text text-anchor=\"start\" x=\"1785\" y=\"-372.3\" font-family=\"Helvetica,sans-Serif\" font-size=\"14.00\" fill=\"#000000\">value = [0, 4]</text>\n<text text-anchor=\"start\" x=\"1797.5\" y=\"-357.3\" font-family=\"Helvetica,sans-Serif\" font-size=\"14.00\" fill=\"#000000\">class = 1</text>\n</g>\n<!-- 63&#45;&gt;73 -->\n<g id=\"edge73\" class=\"edge\">\n<title>63&#45;&gt;73</title>\n<path fill=\"none\" stroke=\"#000000\" d=\"M1758.2239,-460.8796C1768.3144,-449.4436 1779.2621,-437.0363 1789.375,-425.575\"/>\n<polygon fill=\"#000000\" stroke=\"#000000\" points=\"1792.2303,-427.629 1796.2221,-417.8149 1786.9814,-422.9977 1792.2303,-427.629\"/>\n</g>\n<!-- 65 -->\n<g id=\"node66\" class=\"node\">\n<title>65</title>\n<path fill=\"#399de5\" fill-opacity=\"0.800000\" stroke=\"#000000\" d=\"M1740,-306C1740,-306 1665,-306 1665,-306 1659,-306 1653,-300 1653,-294 1653,-294 1653,-235 1653,-235 1653,-229 1659,-223 1665,-223 1665,-223 1740,-223 1740,-223 1746,-223 1752,-229 1752,-235 1752,-235 1752,-294 1752,-294 1752,-300 1746,-306 1740,-306\"/>\n<text text-anchor=\"start\" x=\"1675.5\" y=\"-290.8\" font-family=\"Helvetica,sans-Serif\" font-size=\"14.00\" fill=\"#000000\">X6 ≤ 4.5</text>\n<text text-anchor=\"start\" x=\"1664.5\" y=\"-275.8\" font-family=\"Helvetica,sans-Serif\" font-size=\"14.00\" fill=\"#000000\">gini = 0.278</text>\n<text text-anchor=\"start\" x=\"1663\" y=\"-260.8\" font-family=\"Helvetica,sans-Serif\" font-size=\"14.00\" fill=\"#000000\">samples = 6</text>\n<text text-anchor=\"start\" x=\"1661\" y=\"-245.8\" font-family=\"Helvetica,sans-Serif\" font-size=\"14.00\" fill=\"#000000\">value = [1, 5]</text>\n<text text-anchor=\"start\" x=\"1673.5\" y=\"-230.8\" font-family=\"Helvetica,sans-Serif\" font-size=\"14.00\" fill=\"#000000\">class = 1</text>\n</g>\n<!-- 64&#45;&gt;65 -->\n<g id=\"edge65\" class=\"edge\">\n<title>64&#45;&gt;65</title>\n<path fill=\"none\" stroke=\"#000000\" d=\"M1705.101,-341.8796C1704.8255,-333.6838 1704.5332,-324.9891 1704.2479,-316.5013\"/>\n<polygon fill=\"#000000\" stroke=\"#000000\" points=\"1707.739,-316.1748 1703.905,-306.2981 1700.743,-316.41 1707.739,-316.1748\"/>\n</g>\n<!-- 70 -->\n<g id=\"node71\" class=\"node\">\n<title>70</title>\n<path fill=\"transparent\" stroke=\"#000000\" d=\"M1857,-306C1857,-306 1782,-306 1782,-306 1776,-306 1770,-300 1770,-294 1770,-294 1770,-235 1770,-235 1770,-229 1776,-223 1782,-223 1782,-223 1857,-223 1857,-223 1863,-223 1869,-229 1869,-235 1869,-235 1869,-294 1869,-294 1869,-300 1863,-306 1857,-306\"/>\n<text text-anchor=\"start\" x=\"1792.5\" y=\"-290.8\" font-family=\"Helvetica,sans-Serif\" font-size=\"14.00\" fill=\"#000000\">X2 ≤ 2.5</text>\n<text text-anchor=\"start\" x=\"1790\" y=\"-275.8\" font-family=\"Helvetica,sans-Serif\" font-size=\"14.00\" fill=\"#000000\">gini = 0.5</text>\n<text text-anchor=\"start\" x=\"1780\" y=\"-260.8\" font-family=\"Helvetica,sans-Serif\" font-size=\"14.00\" fill=\"#000000\">samples = 4</text>\n<text text-anchor=\"start\" x=\"1778\" y=\"-245.8\" font-family=\"Helvetica,sans-Serif\" font-size=\"14.00\" fill=\"#000000\">value = [2, 2]</text>\n<text text-anchor=\"start\" x=\"1789\" y=\"-230.8\" font-family=\"Helvetica,sans-Serif\" font-size=\"14.00\" fill=\"#000000\">class = D</text>\n</g>\n<!-- 64&#45;&gt;70 -->\n<g id=\"edge70\" class=\"edge\">\n<title>64&#45;&gt;70</title>\n<path fill=\"none\" stroke=\"#000000\" d=\"M1746.0219,-341.8796C1754.6597,-332.7832 1763.881,-323.0722 1772.7697,-313.7116\"/>\n<polygon fill=\"#000000\" stroke=\"#000000\" points=\"1775.4615,-315.9597 1779.8094,-306.2981 1770.3854,-311.1395 1775.4615,-315.9597\"/>\n</g>\n<!-- 66 -->\n<g id=\"node67\" class=\"node\">\n<title>66</title>\n<path fill=\"transparent\" stroke=\"#000000\" d=\"M1623,-187C1623,-187 1548,-187 1548,-187 1542,-187 1536,-181 1536,-175 1536,-175 1536,-116 1536,-116 1536,-110 1542,-104 1548,-104 1548,-104 1623,-104 1623,-104 1629,-104 1635,-110 1635,-116 1635,-116 1635,-175 1635,-175 1635,-181 1629,-187 1623,-187\"/>\n<text text-anchor=\"start\" x=\"1558.5\" y=\"-171.8\" font-family=\"Helvetica,sans-Serif\" font-size=\"14.00\" fill=\"#000000\">X6 ≤ 3.5</text>\n<text text-anchor=\"start\" x=\"1556\" y=\"-156.8\" font-family=\"Helvetica,sans-Serif\" font-size=\"14.00\" fill=\"#000000\">gini = 0.5</text>\n<text text-anchor=\"start\" x=\"1546\" y=\"-141.8\" font-family=\"Helvetica,sans-Serif\" font-size=\"14.00\" fill=\"#000000\">samples = 2</text>\n<text text-anchor=\"start\" x=\"1544\" y=\"-126.8\" font-family=\"Helvetica,sans-Serif\" font-size=\"14.00\" fill=\"#000000\">value = [1, 1]</text>\n<text text-anchor=\"start\" x=\"1555\" y=\"-111.8\" font-family=\"Helvetica,sans-Serif\" font-size=\"14.00\" fill=\"#000000\">class = D</text>\n</g>\n<!-- 65&#45;&gt;66 -->\n<g id=\"edge66\" class=\"edge\">\n<title>65&#45;&gt;66</title>\n<path fill=\"none\" stroke=\"#000000\" d=\"M1661.5791,-222.8796C1652.547,-213.6931 1642.8987,-203.8798 1633.6112,-194.4336\"/>\n<polygon fill=\"#000000\" stroke=\"#000000\" points=\"1636.1023,-191.975 1626.5956,-187.2981 1631.1107,-196.8827 1636.1023,-191.975\"/>\n</g>\n<!-- 69 -->\n<g id=\"node70\" class=\"node\">\n<title>69</title>\n<path fill=\"#399de5\" stroke=\"#000000\" d=\"M1740,-179.5C1740,-179.5 1665,-179.5 1665,-179.5 1659,-179.5 1653,-173.5 1653,-167.5 1653,-167.5 1653,-123.5 1653,-123.5 1653,-117.5 1659,-111.5 1665,-111.5 1665,-111.5 1740,-111.5 1740,-111.5 1746,-111.5 1752,-117.5 1752,-123.5 1752,-123.5 1752,-167.5 1752,-167.5 1752,-173.5 1746,-179.5 1740,-179.5\"/>\n<text text-anchor=\"start\" x=\"1673\" y=\"-164.3\" font-family=\"Helvetica,sans-Serif\" font-size=\"14.00\" fill=\"#000000\">gini = 0.0</text>\n<text text-anchor=\"start\" x=\"1663\" y=\"-149.3\" font-family=\"Helvetica,sans-Serif\" font-size=\"14.00\" fill=\"#000000\">samples = 4</text>\n<text text-anchor=\"start\" x=\"1661\" y=\"-134.3\" font-family=\"Helvetica,sans-Serif\" font-size=\"14.00\" fill=\"#000000\">value = [0, 4]</text>\n<text text-anchor=\"start\" x=\"1673.5\" y=\"-119.3\" font-family=\"Helvetica,sans-Serif\" font-size=\"14.00\" fill=\"#000000\">class = 1</text>\n</g>\n<!-- 65&#45;&gt;69 -->\n<g id=\"edge69\" class=\"edge\">\n<title>65&#45;&gt;69</title>\n<path fill=\"none\" stroke=\"#000000\" d=\"M1702.5,-222.8796C1702.5,-212.2134 1702.5,-200.7021 1702.5,-189.9015\"/>\n<polygon fill=\"#000000\" stroke=\"#000000\" points=\"1706.0001,-189.8149 1702.5,-179.8149 1699.0001,-189.815 1706.0001,-189.8149\"/>\n</g>\n<!-- 67 -->\n<g id=\"node68\" class=\"node\">\n<title>67</title>\n<path fill=\"#399de5\" stroke=\"#000000\" d=\"M1619,-68C1619,-68 1544,-68 1544,-68 1538,-68 1532,-62 1532,-56 1532,-56 1532,-12 1532,-12 1532,-6 1538,0 1544,0 1544,0 1619,0 1619,0 1625,0 1631,-6 1631,-12 1631,-12 1631,-56 1631,-56 1631,-62 1625,-68 1619,-68\"/>\n<text text-anchor=\"start\" x=\"1552\" y=\"-52.8\" font-family=\"Helvetica,sans-Serif\" font-size=\"14.00\" fill=\"#000000\">gini = 0.0</text>\n<text text-anchor=\"start\" x=\"1542\" y=\"-37.8\" font-family=\"Helvetica,sans-Serif\" font-size=\"14.00\" fill=\"#000000\">samples = 1</text>\n<text text-anchor=\"start\" x=\"1540\" y=\"-22.8\" font-family=\"Helvetica,sans-Serif\" font-size=\"14.00\" fill=\"#000000\">value = [0, 1]</text>\n<text text-anchor=\"start\" x=\"1552.5\" y=\"-7.8\" font-family=\"Helvetica,sans-Serif\" font-size=\"14.00\" fill=\"#000000\">class = 1</text>\n</g>\n<!-- 66&#45;&gt;67 -->\n<g id=\"edge67\" class=\"edge\">\n<title>66&#45;&gt;67</title>\n<path fill=\"none\" stroke=\"#000000\" d=\"M1584.0105,-103.9815C1583.7105,-95.618 1583.394,-86.7965 1583.0907,-78.3409\"/>\n<polygon fill=\"#000000\" stroke=\"#000000\" points=\"1586.5855,-78.1317 1582.7292,-68.2637 1579.59,-78.3828 1586.5855,-78.1317\"/>\n</g>\n<!-- 68 -->\n<g id=\"node69\" class=\"node\">\n<title>68</title>\n<path fill=\"#e58139\" stroke=\"#000000\" d=\"M1736,-68C1736,-68 1661,-68 1661,-68 1655,-68 1649,-62 1649,-56 1649,-56 1649,-12 1649,-12 1649,-6 1655,0 1661,0 1661,0 1736,0 1736,0 1742,0 1748,-6 1748,-12 1748,-12 1748,-56 1748,-56 1748,-62 1742,-68 1736,-68\"/>\n<text text-anchor=\"start\" x=\"1669\" y=\"-52.8\" font-family=\"Helvetica,sans-Serif\" font-size=\"14.00\" fill=\"#000000\">gini = 0.0</text>\n<text text-anchor=\"start\" x=\"1659\" y=\"-37.8\" font-family=\"Helvetica,sans-Serif\" font-size=\"14.00\" fill=\"#000000\">samples = 1</text>\n<text text-anchor=\"start\" x=\"1657\" y=\"-22.8\" font-family=\"Helvetica,sans-Serif\" font-size=\"14.00\" fill=\"#000000\">value = [1, 0]</text>\n<text text-anchor=\"start\" x=\"1668\" y=\"-7.8\" font-family=\"Helvetica,sans-Serif\" font-size=\"14.00\" fill=\"#000000\">class = D</text>\n</g>\n<!-- 66&#45;&gt;68 -->\n<g id=\"edge68\" class=\"edge\">\n<title>66&#45;&gt;68</title>\n<path fill=\"none\" stroke=\"#000000\" d=\"M1627.577,-103.9815C1637.0776,-94.607 1647.1613,-84.6572 1656.6524,-75.2921\"/>\n<polygon fill=\"#000000\" stroke=\"#000000\" points=\"1659.1155,-77.7787 1663.7754,-68.2637 1654.1989,-72.796 1659.1155,-77.7787\"/>\n</g>\n<!-- 71 -->\n<g id=\"node72\" class=\"node\">\n<title>71</title>\n<path fill=\"#e58139\" stroke=\"#000000\" d=\"M1857,-179.5C1857,-179.5 1782,-179.5 1782,-179.5 1776,-179.5 1770,-173.5 1770,-167.5 1770,-167.5 1770,-123.5 1770,-123.5 1770,-117.5 1776,-111.5 1782,-111.5 1782,-111.5 1857,-111.5 1857,-111.5 1863,-111.5 1869,-117.5 1869,-123.5 1869,-123.5 1869,-167.5 1869,-167.5 1869,-173.5 1863,-179.5 1857,-179.5\"/>\n<text text-anchor=\"start\" x=\"1790\" y=\"-164.3\" font-family=\"Helvetica,sans-Serif\" font-size=\"14.00\" fill=\"#000000\">gini = 0.0</text>\n<text text-anchor=\"start\" x=\"1780\" y=\"-149.3\" font-family=\"Helvetica,sans-Serif\" font-size=\"14.00\" fill=\"#000000\">samples = 2</text>\n<text text-anchor=\"start\" x=\"1778\" y=\"-134.3\" font-family=\"Helvetica,sans-Serif\" font-size=\"14.00\" fill=\"#000000\">value = [2, 0]</text>\n<text text-anchor=\"start\" x=\"1789\" y=\"-119.3\" font-family=\"Helvetica,sans-Serif\" font-size=\"14.00\" fill=\"#000000\">class = D</text>\n</g>\n<!-- 70&#45;&gt;71 -->\n<g id=\"edge71\" class=\"edge\">\n<title>70&#45;&gt;71</title>\n<path fill=\"none\" stroke=\"#000000\" d=\"M1819.5,-222.8796C1819.5,-212.2134 1819.5,-200.7021 1819.5,-189.9015\"/>\n<polygon fill=\"#000000\" stroke=\"#000000\" points=\"1823.0001,-189.8149 1819.5,-179.8149 1816.0001,-189.815 1823.0001,-189.8149\"/>\n</g>\n<!-- 72 -->\n<g id=\"node73\" class=\"node\">\n<title>72</title>\n<path fill=\"#399de5\" stroke=\"#000000\" d=\"M1974,-179.5C1974,-179.5 1899,-179.5 1899,-179.5 1893,-179.5 1887,-173.5 1887,-167.5 1887,-167.5 1887,-123.5 1887,-123.5 1887,-117.5 1893,-111.5 1899,-111.5 1899,-111.5 1974,-111.5 1974,-111.5 1980,-111.5 1986,-117.5 1986,-123.5 1986,-123.5 1986,-167.5 1986,-167.5 1986,-173.5 1980,-179.5 1974,-179.5\"/>\n<text text-anchor=\"start\" x=\"1907\" y=\"-164.3\" font-family=\"Helvetica,sans-Serif\" font-size=\"14.00\" fill=\"#000000\">gini = 0.0</text>\n<text text-anchor=\"start\" x=\"1897\" y=\"-149.3\" font-family=\"Helvetica,sans-Serif\" font-size=\"14.00\" fill=\"#000000\">samples = 2</text>\n<text text-anchor=\"start\" x=\"1895\" y=\"-134.3\" font-family=\"Helvetica,sans-Serif\" font-size=\"14.00\" fill=\"#000000\">value = [0, 2]</text>\n<text text-anchor=\"start\" x=\"1907.5\" y=\"-119.3\" font-family=\"Helvetica,sans-Serif\" font-size=\"14.00\" fill=\"#000000\">class = 1</text>\n</g>\n<!-- 70&#45;&gt;72 -->\n<g id=\"edge72\" class=\"edge\">\n<title>70&#45;&gt;72</title>\n<path fill=\"none\" stroke=\"#000000\" d=\"M1860.4209,-222.8796C1871.7728,-211.3337 1884.0982,-198.7976 1895.457,-187.2446\"/>\n<polygon fill=\"#000000\" stroke=\"#000000\" points=\"1898.2466,-189.3995 1902.7618,-179.8149 1893.2551,-184.4919 1898.2466,-189.3995\"/>\n</g>\n</g>\n</svg>\n"
          },
          "metadata": {
            "tags": []
          },
          "execution_count": 21
        }
      ]
    },
    {
      "metadata": {
        "id": "RBUcl1Ze1Tn9",
        "colab_type": "code",
        "colab": {}
      },
      "cell_type": "code",
      "source": [
        ""
      ],
      "execution_count": 0,
      "outputs": []
    },
    {
      "metadata": {
        "id": "NwIqdxuL3Ggk",
        "colab_type": "text"
      },
      "cell_type": "markdown",
      "source": [
        "3. **Support Vector Machines (SVM) **\n",
        "\n",
        "\n",
        "---\n",
        "\n"
      ]
    },
    {
      "metadata": {
        "id": "QuHVG5e83Qjh",
        "colab_type": "code",
        "colab": {}
      },
      "cell_type": "code",
      "source": [
        "from sklearn.svm import SVC"
      ],
      "execution_count": 0,
      "outputs": []
    },
    {
      "metadata": {
        "id": "XdFUWv53637u",
        "colab_type": "code",
        "colab": {}
      },
      "cell_type": "code",
      "source": [
        ""
      ],
      "execution_count": 0,
      "outputs": []
    }
  ]
}