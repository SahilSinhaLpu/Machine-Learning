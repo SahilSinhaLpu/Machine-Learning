{
 "cells": [
  {
   "cell_type": "markdown",
   "metadata": {},
   "source": [
    "<h1 style=\"color: white; box-shadow: 0px 0px 2px rgb(0,2,12); text-align: center; background: green\"><br>Perceptron <br></h1>"
   ]
  },
  {
   "cell_type": "code",
   "execution_count": 1,
   "metadata": {},
   "outputs": [],
   "source": [
    "import numpy as np\n",
    "import pandas as pd\n",
    "import matplotlib.pyplot as plt\n",
    "from sklearn.svm import SVC"
   ]
  },
  {
   "cell_type": "code",
   "execution_count": 3,
   "metadata": {},
   "outputs": [],
   "source": [
    "class Perceptron:\n",
    "    def __init__(self):\n",
    "        self.learning_rate = 0.1\n",
    "        self.epochs= 15\n",
    "    \n",
    "    def fitting(self, X, y):\n",
    "        self.weights= np.zeros(1+ X.shape[1])\n",
    "        self.errors = []\n",
    "        \n",
    "        for i in range(self.epochs):\n",
    "            errors = 0\n",
    "            print(\"Epoch: \",i)\n",
    "            for xi, target in zip(X, y):\n",
    "                update = self.learning_rate * (target- self.predict(xi))\n",
    "                self.weights[1:]+= update * xi\n",
    "                self.weights[0] += update\n",
    "                errors += int(update!=0.0)\n",
    "            self.errors.append(errors)\n",
    "        return self\n",
    "    \n",
    "    def net_input(self, X):\n",
    "        return np.dot(X, self.weights[1:])+ self.weights[0]\n",
    "    \n",
    "    def predict(self, X):\n",
    "        return np.where(self.net_input(X) >= 0.0, 1, -1)     \n",
    "        "
   ]
  },
  {
   "cell_type": "code",
   "execution_count": 12,
   "metadata": {},
   "outputs": [],
   "source": [
    "def main():\n",
    "    print(\"Reading Machine Learning Database\")\n",
    "    df= pd.read_csv('./Datasets/iris.data', header= None)\n",
    "    y= df.iloc[0:100, 4].values\n",
    "    y= np.where(y== 'Iris-setosa', -1, 1)\n",
    "    print(\"Assigning X= df.iloc\")\n",
    "    X= df.iloc[0:100, [0,2]].values\n",
    "    print(\"Scatter Graph: \")\n",
    "    plt.scatter(X[:50,0], X[:50,1], color='red', marker='*', label ='setosa')\n",
    "    plt.scatter(X[50:100,0], X[50:100,1], color='blue', marker ='x', label='versicolor')\n",
    "    plt.xlabel('sepal length')\n",
    "    plt.ylabel('petal length')\n",
    "    plt.legend(loc='upper left')\n",
    "    print(\"plt.show()\")\n",
    "    plt.show()\n",
    "    print(\"Calling perceptron\")\n",
    "    ppn= Perceptron()\n",
    "    print(\"Calling Fitting Function\")\n",
    "    ppn.fitting(X,y)\n",
    "    print(\"Showing Convergence Graph\")\n",
    "    plt.plot(range(1, len(ppn.errors)+1), ppn.errors, marker='o')\n",
    "    plt.xlabel(\"Epochs\")\n",
    "    plt.ylabel(\"Number of Misclassification\")\n",
    "    plt.show()"
   ]
  },
  {
   "cell_type": "code",
   "execution_count": 13,
   "metadata": {},
   "outputs": [
    {
     "name": "stdout",
     "output_type": "stream",
     "text": [
      "Reading Machine Learning Database\n",
      "Assigning X= df.iloc\n",
      "Scatter Graph: \n",
      "plt.show()\n"
     ]
    },
    {
     "data": {
      "image/png": "[encoded data removed]",
      "text/plain": [
       "<Figure size 432x288 with 1 Axes>"
      ]
     },
     "metadata": {},
     "output_type": "display_data"
    },
    {
     "name": "stdout",
     "output_type": "stream",
     "text": [
      "Calling perceptron\n",
      "Calling Fitting Function\n",
      "Epoch:  0\n",
      "Epoch:  1\n",
      "Epoch:  2\n",
      "Epoch:  3\n",
      "Epoch:  4\n",
      "Epoch:  5\n",
      "Epoch:  6\n",
      "Epoch:  7\n",
      "Epoch:  8\n",
      "Epoch:  9\n",
      "Epoch:  10\n",
      "Epoch:  11\n",
      "Epoch:  12\n",
      "Epoch:  13\n",
      "Epoch:  14\n",
      "Showing Convergence Graph\n"
     ]
    },
    {
     "data": {
      "image/png": "[encoded data removed]",
      "text/plain": [
       "<Figure size 432x288 with 1 Axes>"
      ]
     },
     "metadata": {},
     "output_type": "display_data"
    }
   ],
   "source": [
    "main()"
   ]
  },
  {
   "cell_type": "markdown",
   "metadata": {},
   "source": [
    "<h1 style=\"color: white; box-shadow: 0px 0px 10px rgb(0,2,12); text-align: center; background: teal; font-family: Verdana; radius: 2px;\"><br>Adaline Perceptron <br></h1>"
   ]
  },
  {
   "cell_type": "code",
   "execution_count": 73,
   "metadata": {},
   "outputs": [],
   "source": [
    "class Adaline:\n",
    "    def __init__(self):\n",
    "        self.learning_rate = 0.1\n",
    "        self.epochs = 100\n",
    "    \n",
    "    def fitting(self, X, y):\n",
    "        self.weights = np.zeros(1 + X.shape[1])\n",
    "        self.cost = []\n",
    "        cost= 0\n",
    "        for i in range(self.epochs):\n",
    "            output= self.net_input(X)\n",
    "            errors = (y-output)\n",
    "            self.weights[1:] += self.learning_rate * X.T.dot(errors)\n",
    "            self.weights[0] += self.learning_rate * errors.sum()\n",
    "            cost= (errors**2).sum()/2.0\n",
    "            self.cost.append(cost)\n",
    "            print(\"Cost: \", cost)\n",
    "        return self\n",
    "\n",
    "    def net_input(self, X):\n",
    "        return np.dot(X, self.weights[1:] + self.weights[0])\n",
    "\n",
    "    def activation(self, X):\n",
    "        return self.net_input(X)\n",
    "    \n",
    "    def predict(self, X):\n",
    "        return np.where(self.activation(X)>=0.0,1,-1\n",
    "                       )"
   ]
  },
  {
   "cell_type": "code",
   "execution_count": 79,
   "metadata": {},
   "outputs": [],
   "source": [
    "def new_main():\n",
    "    print(\"Reading Datasets\")\n",
    "    df= pd.read_csv('./Datasets/iris.data', header= None)\n",
    "    y= df.iloc[0:100, 4].values\n",
    "    y= np.where(y=='Iris-setosa', -1,1)\n",
    "    print(\"Assigning X= df.iloc\")\n",
    "    X= df.iloc[0:100, [0,2]].values\n",
    "    X[:,0] = (X[:,0] -X[:,0].mean()) / X[:,0].std()\n",
    "    X[:,1] = (X[:,1] -X[:,1].mean()) / X[:,1].std()\n",
    "    print(\"Scatter Graph: \")\n",
    "    plt.scatter(X[:50,0], X[:50,1], color='red', marker='*', label='setosa')\n",
    "    plt.scatter(X[50:100,0], X[50:100,1], color='blue', marker='x', label='versicolor')\n",
    "    plt.xlabel('Sepal Length')\n",
    "    plt.ylabel('Petal Length')\n",
    "    plt.legend(loc='upper left')\n",
    "    print(\"plt.show()\")\n",
    "    plt.show()\n",
    "    \n",
    "    print(\"Calling Adaline\")\n",
    "    print(\"Calling Ada1\")\n",
    "    fig, ax = plt.subplots(nrows =1, ncols=1, figsize= (8,4))\n",
    "    ada1= Adaline()\n",
    "    ada1.fitting(X,y)\n",
    "    ax.plot(range(1, len(ada1.cost)+1), ada1.cost, marker='o')\n",
    "    ax.set_xlabel('Epochs')\n",
    "    ax.set_ylabel('Sum Squared Error')\n",
    "    ax.set_title('Adaline- Misclassification - Learning Rate 0.1')"
   ]
  },
  {
   "cell_type": "code",
   "execution_count": 80,
   "metadata": {},
   "outputs": [
    {
     "name": "stdout",
     "output_type": "stream",
     "text": [
      "Reading Datasets\n",
      "Assigning X= df.iloc\n",
      "Scatter Graph: \n",
      "plt.show()\n"
     ]
    },
    {
     "data": {
      "image/png": "[encoded data removed]",
      "text/plain": [
       "<Figure size 432x288 with 1 Axes>"
      ]
     },
     "metadata": {},
     "output_type": "display_data"
    },
    {
     "name": "stdout",
     "output_type": "stream",
     "text": [
      "Calling Adaline\n",
      "Calling Ada1\n",
      "Cost:  50.0\n",
      "Cost:  11673.668522900525\n",
      "Cost:  3420584.0769568216\n",
      "Cost:  1003007888.3636408\n",
      "Cost:  294109676689.6442\n",
      "Cost:  86241098835355.12\n",
      "Cost:  2.528827753024589e+16\n",
      "Cost:  7.415223009480098e+18\n",
      "Cost:  2.174348656786054e+21\n",
      "Cost:  6.375792171352096e+23\n",
      "Cost:  1.8695587612136356e+26\n",
      "Cost:  5.482063824689314e+28\n",
      "Cost:  1.6074928695184794e+31\n",
      "Cost:  4.71361408438035e+33\n",
      "Cost:  1.3821621332058665e+36\n",
      "Cost:  4.0528819887878644e+38\n",
      "Cost:  1.188417192195969e+41\n",
      "Cost:  3.4847681886966366e+43\n",
      "Cost:  1.0218304993142141e+46\n",
      "Cost:  2.996289890144062e+48\n",
      "Cost:  8.785951399772067e+50\n",
      "Cost:  2.5762841657302157e+53\n",
      "Cost:  7.554378348558157e+55\n",
      "Cost:  2.2151528543431802e+58\n",
      "Cost:  6.495441374128789e+60\n",
      "Cost:  1.9046432196325435e+63\n",
      "Cost:  5.584941168957567e+65\n",
      "Cost:  1.6376593547391419e+68\n",
      "Cost:  4.8020705698233974e+70\n",
      "Cost:  1.4081000234164796e+73\n",
      "Cost:  4.128939063089211e+75\n",
      "Cost:  1.2107192318156523e+78\n",
      "Cost:  3.550163942578416e+80\n",
      "Cost:  1.0410063446570408e+83\n",
      "Cost:  3.05251877700371e+85\n",
      "Cost:  8.95083006149208e+87\n",
      "Cost:  2.6246311535666244e+90\n",
      "Cost:  7.696145100451322e+92\n",
      "Cost:  2.2567227904276034e+95\n",
      "Cost:  6.617335934241537e+97\n",
      "Cost:  1.94038607897903e+100\n",
      "Cost:  5.689749127005986e+102\n",
      "Cost:  1.6683919493639722e+105\n",
      "Cost:  4.8921870447515574e+107\n",
      "Cost:  1.4345246684964496e+110\n",
      "Cost:  4.206423437412448e+112\n",
      "Cost:  1.2334397953126968e+115\n",
      "Cost:  3.6167869243256436e+117\n",
      "Cost:  1.0605420471825031e+120\n",
      "Cost:  3.109802864739582e+122\n",
      "Cost:  9.11880286428502e+124\n",
      "Cost:  2.6738854292185473e+127\n",
      "Cost:  7.840572271377691e+129\n",
      "Cost:  2.2990728350190715e+132\n",
      "Cost:  6.7415179884488976e+134\n",
      "Cost:  1.9767996949171495e+137\n",
      "Cost:  5.796523929061905e+139\n",
      "Cost:  1.6997012770985622e+142\n",
      "Cost:  4.9839946608104995e+144\n",
      "Cost:  1.4614452029706354e+147\n",
      "Cost:  4.285361896713097e+149\n",
      "Cost:  1.2565867367775301e+152\n",
      "Cost:  3.684660164305644e+154\n",
      "Cost:  1.0804443600318343e+157\n",
      "Cost:  3.168161955431196e+159\n",
      "Cost:  9.289927873329706e+161\n",
      "Cost:  2.724064019003794e+164\n",
      "Cost:  7.987709787214342e+166\n",
      "Cost:  2.3422176277668055e+169\n",
      "Cost:  6.868030464254964e+171\n",
      "Cost:  2.01389665497943e+174\n",
      "Cost:  5.90530248525522e+176\n",
      "Cost:  1.7315981610147525e+179\n",
      "Cost:  5.0775251542429456e+181\n",
      "Cost:  1.488870932783937e+184\n",
      "Cost:  4.365781728597707e+186\n",
      "Cost:  1.280168057691778e+189\n",
      "Cost:  3.7538071250775334e+191\n",
      "Cost:  1.1007201630768638e+194\n",
      "Cost:  3.2276162227672622e+196\n",
      "Cost:  9.464264243465982e+198\n",
      "Cost:  2.775184268758944e+201\n",
      "Cost:  8.137608510755867e+203\n",
      "Cost:  2.3861720830501828e+206\n",
      "Cost:  6.9969170947487325e+208\n",
      "Cost:  2.0516897829182027e+211\n",
      "Cost:  6.016122398377661e+213\n",
      "Cost:  1.7640936272920146e+216\n",
      "Cost:  5.172810856859402e+218\n",
      "Cost:  1.516811338518212e+221\n",
      "Cost:  4.4477107327567276e+223\n",
      "Cost:  1.3041919096942377e+226\n",
      "Cost:  3.824251709502836e+228\n",
      "Cost:  1.1213764652982785e+231\n",
      "Cost:  3.2881862190194014e+233\n",
      "Cost:  9.641872239643572e+235\n",
      "Cost:  2.8272638498355346e+238\n",
      "Cost:  8.290320259296797e+240\n",
      "Cost:  2.430951395134378e+243\n",
      "Cost:  7.12822243372181e+245\n"
     ]
    },
    {
     "data": {
      "image/png": "[encoded data removed]",
      "text/plain": [
       "<Figure size 576x288 with 1 Axes>"
      ]
     },
     "metadata": {},
     "output_type": "display_data"
    }
   ],
   "source": [
    "new_main()"
   ]
  },
  {
   "cell_type": "markdown",
   "metadata": {},
   "source": [
    "<h1 style=\"color: white; background: black; text-align: center\"><br>Logistic Regression<br></h1>"
   ]
  },
  {
   "cell_type": "code",
   "execution_count": null,
   "metadata": {},
   "outputs": [],
   "source": [
    "class LogisticRegression:\n",
    "    def __init__(self):\n",
    "        self.epochs= 1000\n",
    "        self.learning_rate = 0.1\n",
    "    \n",
    "    def sigmoid(self, x):\n",
    "        return 1/(1+ np.exp(-x))\n",
    "    \n",
    "    def fitting(self, X, y):\n",
    "        self.weights= np.zeros(1+ X.shape[1])\n",
    "        for i in range(epochs):\n",
    "            sigValue= sigmoid(np.dot(X, self.weights[1:]) + self.weights[0])\n",
    "            self.weights[1:]= self.weights[1:] + learning_rate * (y-sigValue)* X[1:]\n",
    "            \n",
    "            \n",
    "            \n",
    "            \n",
    "        "
   ]
  },
  {
   "cell_type": "markdown",
   "metadata": {},
   "source": [
    "<h1 style=\"color: teal; background: #252322; text-align: center\"><br>SVM<br></h1>"
   ]
  },
  {
   "cell_type": "code",
   "execution_count": null,
   "metadata": {},
   "outputs": [],
   "source": [
    "from matplotlib.colors import ListedColormap\n",
    "import matplotlib.pyplot as plt\n",
    "\n",
    "def plot_decision_regions(X, y, classifier, test_idx=None, resolution=0.02):\n",
    "    markers = ('s', 'x', 'o', '^', 'v')\n",
    "    colors = ('red', 'blue', 'lightgreen', 'gray', 'cyan')\n",
    "    cmap = ListedColormap(colors[:len(np.unique(y))])\n",
    "    # plot the decision surface\n",
    "    x1_min, x1_max = X[:, 0].min() - 1, X[:, 0].max() + 1\n",
    "    x2_min, x2_max = X[:, 1].min() - 1, X[:, 1].max() + 1\n",
    "    \n",
    "    xx1, xx2 = np.meshgrid(np.arange(x1_min, x1_max, resolution),\n",
    "                            np.arange(x2_min, x2_max, resolution))\n",
    "    Z = classifier.predict(np.array([xx1.ravel(), xx2.ravel()]).T)\n",
    "    Z = Z.reshape(xx1.shape)\n",
    "    plt.contourf(xx1, xx2, Z, alpha=0.4, cmap=cmap)\n",
    "    plt.xlim(xx1.min(), xx1.max())\n",
    "    plt.ylim(xx2.min(), xx2.max())\n",
    "\n",
    "    # plot all samples\n",
    "    X_test, y_test = X[test_idx, :], y[test_idx]\n",
    "    for idx, cl in enumerate(np.unique(y)):\n",
    "    plt.scatter(x=X[y == cl, 0], y=X[y == cl, 1],alpha=0.8, c=cmap(idx),marker=markers[idx], label=cl)\n",
    "    # highlight test sample\n",
    "        if test_idx:\n",
    "            X_test, y_test = X[test_idx, :], y[test_idx]\n",
    "            plt.scatter(X_test[:, 0], X_test[:, 1], c='',alpha=1.0, linewidth=1, marker='o',s=55, label='test set')\n",
    "\n",
    "from sklearn.svm import SVC\n",
    "from sklearn import datasets\n",
    "import numpy as np\n",
    "\n",
    "iris = datasets.load_iris()\n",
    "X = iris.data[:, [2, 3]]\n",
    "y = iris.target\n",
    "\n",
    "from sklearn.cross_validation import train_test_split\n",
    "X_train, X_test, y_train, y_test = train_test_split(X, y, test_size=0.3, random_state=0)\n",
    "\n",
    "\n",
    "from sklearn.preprocessing import StandardScaler\n",
    "sc = StandardScaler()\n",
    "\n",
    "sc.fit(X_train)\n",
    "\n",
    "X_train_std = sc.transform(X_train)\n",
    "X_test_std = sc.transform(X_test)\n",
    "\n",
    "X_combined_std = np.vstack((X_train_std, X_test_std))\n",
    "y_combined = np.hstack((y_train, y_test))\n",
    "svm = SVC(kernel='poly', random_state=0, degree = 8)\n",
    "svm.fit(X_train_std, y_train)\n",
    "\n",
    "plot_decision_regions(X=X_combined_std,y=y_combined,classifier=svm,test_idx=range(105,150))\n",
    "plt.xlabel('petal length [standardized]')\n",
    "plt.ylabel('petal width [standardized]')\n",
    "plt.legend(loc='upper left')\n",
    "plt.show()"
   ]
  }
 ],
 "metadata": {
  "kernelspec": {
   "display_name": "Python 3",
   "language": "python",
   "name": "python3"
  },
  "language_info": {
   "codemirror_mode": {
    "name": "ipython",
    "version": 3
   },
   "file_extension": ".py",
   "mimetype": "text/x-python",
   "name": "python",
   "nbconvert_exporter": "python",
   "pygments_lexer": "ipython3",
   "version": "3.6.5"
  }
 },
 "nbformat": 4,
 "nbformat_minor": 2
}
